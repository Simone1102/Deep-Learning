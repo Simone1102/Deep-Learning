{
 "cells": [
  {
   "cell_type": "code",
   "execution_count": 35,
   "id": "initial_id",
   "metadata": {
    "collapsed": true,
    "ExecuteTime": {
     "end_time": "2024-04-02T15:37:31.306168Z",
     "start_time": "2024-04-02T15:37:31.298681Z"
    }
   },
   "outputs": [],
   "source": [
    "import pandas as pd\n",
    "import seaborn as sns\n",
    "import matplotlib.pyplot as plt\n",
    "import numpy as np\n",
    "\n",
    "from sklearn.datasets import load_iris               \n",
    "from sklearn.model_selection import train_test_split\n",
    "from sklearn.preprocessing import StandardScaler\n",
    "from sklearn.preprocessing import LabelEncoder\n",
    "from sklearn.metrics import confusion_matrix\n",
    "\n",
    "from keras.layers import LeakyReLU\n",
    "from keras.models import Sequential\n",
    "from keras.layers import Dense"
   ]
  },
  {
   "cell_type": "markdown",
   "source": [
    "# RETI NEURALI DENSE"
   ],
   "metadata": {
    "collapsed": false
   },
   "id": "b6e16e625658e8c0"
  },
  {
   "cell_type": "markdown",
   "source": [
    "Nel seguente proggetto andremo a creare diversi modelli di reti neurali per la categorizzazione di due differenti dataframe.\n",
    "1. Per la categorizzazione bi-classe di un dataframe sui tumori, nella quale si andrà a predire se un dato tumore (evento) con un certo numero di features, è **benigno** (classe 0) o **maligno** (classe 1);\n",
    "2. Per la categorizzazione di 3 classi sul dataset Iris, nella quale si andrà a predire se un dato fiore (evento) con un certo numero di features, è una **Setosa** (classe 0), **Versicolor** (classe 1) o **Virginica** (classe 2)"
   ],
   "metadata": {
    "collapsed": false
   },
   "id": "7da078e19908516f"
  },
  {
   "cell_type": "markdown",
   "source": [
    "## CATEGORIZZAZIONE DEI TUMORI TRAMITE RETE NEURALE"
   ],
   "metadata": {
    "collapsed": false
   },
   "id": "930ebbae5b66c205"
  },
  {
   "cell_type": "markdown",
   "source": [
    "Andiamo a importare i dataset e inserire un nome per ogni colonna (che comprenderanno le features e il target). Andando in fine a stampare la tabella di tutti i valori, la tabella descrittiva più la tabella di correlazione delle features."
   ],
   "metadata": {
    "collapsed": false
   },
   "id": "7d74de3274ed22d8"
  },
  {
   "cell_type": "code",
   "outputs": [
    {
     "data": {
      "text/plain": "           id diagnosis  radius_mean  texture_mean  perimeter_mean  area_mean  \\\n0      842302         M        17.99         10.38          122.80     1001.0   \n1      842517         M        20.57         17.77          132.90     1326.0   \n2    84300903         M        19.69         21.25          130.00     1203.0   \n3    84348301         M        11.42         20.38           77.58      386.1   \n4    84358402         M        20.29         14.34          135.10     1297.0   \n..        ...       ...          ...           ...             ...        ...   \n564    926424         M        21.56         22.39          142.00     1479.0   \n565    926682         M        20.13         28.25          131.20     1261.0   \n566    926954         M        16.60         28.08          108.30      858.1   \n567    927241         M        20.60         29.33          140.10     1265.0   \n568     92751         B         7.76         24.54           47.92      181.0   \n\n     smoothness_mean  compactness_mean  concavity_mean  concave points_mean  \\\n0            0.11840           0.27760         0.30010              0.14710   \n1            0.08474           0.07864         0.08690              0.07017   \n2            0.10960           0.15990         0.19740              0.12790   \n3            0.14250           0.28390         0.24140              0.10520   \n4            0.10030           0.13280         0.19800              0.10430   \n..               ...               ...             ...                  ...   \n564          0.11100           0.11590         0.24390              0.13890   \n565          0.09780           0.10340         0.14400              0.09791   \n566          0.08455           0.10230         0.09251              0.05302   \n567          0.11780           0.27700         0.35140              0.15200   \n568          0.05263           0.04362         0.00000              0.00000   \n\n     ...  radius_worst  texture_worst  perimeter_worst  area_worst  \\\n0    ...        25.380          17.33           184.60      2019.0   \n1    ...        24.990          23.41           158.80      1956.0   \n2    ...        23.570          25.53           152.50      1709.0   \n3    ...        14.910          26.50            98.87       567.7   \n4    ...        22.540          16.67           152.20      1575.0   \n..   ...           ...            ...              ...         ...   \n564  ...        25.450          26.40           166.10      2027.0   \n565  ...        23.690          38.25           155.00      1731.0   \n566  ...        18.980          34.12           126.70      1124.0   \n567  ...        25.740          39.42           184.60      1821.0   \n568  ...         9.456          30.37            59.16       268.6   \n\n     smoothness_worst  compactness_worst  concavity_worst  \\\n0             0.16220            0.66560           0.7119   \n1             0.12380            0.18660           0.2416   \n2             0.14440            0.42450           0.4504   \n3             0.20980            0.86630           0.6869   \n4             0.13740            0.20500           0.4000   \n..                ...                ...              ...   \n564           0.14100            0.21130           0.4107   \n565           0.11660            0.19220           0.3215   \n566           0.11390            0.30940           0.3403   \n567           0.16500            0.86810           0.9387   \n568           0.08996            0.06444           0.0000   \n\n     concave points_worst  symmetry_worst  fractal_dimension_worst  \n0                  0.2654          0.4601                  0.11890  \n1                  0.1860          0.2750                  0.08902  \n2                  0.2430          0.3613                  0.08758  \n3                  0.2575          0.6638                  0.17300  \n4                  0.1625          0.2364                  0.07678  \n..                    ...             ...                      ...  \n564                0.2216          0.2060                  0.07115  \n565                0.1628          0.2572                  0.06637  \n566                0.1418          0.2218                  0.07820  \n567                0.2650          0.4087                  0.12400  \n568                0.0000          0.2871                  0.07039  \n\n[569 rows x 32 columns]",
      "text/html": "<div>\n<style scoped>\n    .dataframe tbody tr th:only-of-type {\n        vertical-align: middle;\n    }\n\n    .dataframe tbody tr th {\n        vertical-align: top;\n    }\n\n    .dataframe thead th {\n        text-align: right;\n    }\n</style>\n<table border=\"1\" class=\"dataframe\">\n  <thead>\n    <tr style=\"text-align: right;\">\n      <th></th>\n      <th>id</th>\n      <th>diagnosis</th>\n      <th>radius_mean</th>\n      <th>texture_mean</th>\n      <th>perimeter_mean</th>\n      <th>area_mean</th>\n      <th>smoothness_mean</th>\n      <th>compactness_mean</th>\n      <th>concavity_mean</th>\n      <th>concave points_mean</th>\n      <th>...</th>\n      <th>radius_worst</th>\n      <th>texture_worst</th>\n      <th>perimeter_worst</th>\n      <th>area_worst</th>\n      <th>smoothness_worst</th>\n      <th>compactness_worst</th>\n      <th>concavity_worst</th>\n      <th>concave points_worst</th>\n      <th>symmetry_worst</th>\n      <th>fractal_dimension_worst</th>\n    </tr>\n  </thead>\n  <tbody>\n    <tr>\n      <th>0</th>\n      <td>842302</td>\n      <td>M</td>\n      <td>17.99</td>\n      <td>10.38</td>\n      <td>122.80</td>\n      <td>1001.0</td>\n      <td>0.11840</td>\n      <td>0.27760</td>\n      <td>0.30010</td>\n      <td>0.14710</td>\n      <td>...</td>\n      <td>25.380</td>\n      <td>17.33</td>\n      <td>184.60</td>\n      <td>2019.0</td>\n      <td>0.16220</td>\n      <td>0.66560</td>\n      <td>0.7119</td>\n      <td>0.2654</td>\n      <td>0.4601</td>\n      <td>0.11890</td>\n    </tr>\n    <tr>\n      <th>1</th>\n      <td>842517</td>\n      <td>M</td>\n      <td>20.57</td>\n      <td>17.77</td>\n      <td>132.90</td>\n      <td>1326.0</td>\n      <td>0.08474</td>\n      <td>0.07864</td>\n      <td>0.08690</td>\n      <td>0.07017</td>\n      <td>...</td>\n      <td>24.990</td>\n      <td>23.41</td>\n      <td>158.80</td>\n      <td>1956.0</td>\n      <td>0.12380</td>\n      <td>0.18660</td>\n      <td>0.2416</td>\n      <td>0.1860</td>\n      <td>0.2750</td>\n      <td>0.08902</td>\n    </tr>\n    <tr>\n      <th>2</th>\n      <td>84300903</td>\n      <td>M</td>\n      <td>19.69</td>\n      <td>21.25</td>\n      <td>130.00</td>\n      <td>1203.0</td>\n      <td>0.10960</td>\n      <td>0.15990</td>\n      <td>0.19740</td>\n      <td>0.12790</td>\n      <td>...</td>\n      <td>23.570</td>\n      <td>25.53</td>\n      <td>152.50</td>\n      <td>1709.0</td>\n      <td>0.14440</td>\n      <td>0.42450</td>\n      <td>0.4504</td>\n      <td>0.2430</td>\n      <td>0.3613</td>\n      <td>0.08758</td>\n    </tr>\n    <tr>\n      <th>3</th>\n      <td>84348301</td>\n      <td>M</td>\n      <td>11.42</td>\n      <td>20.38</td>\n      <td>77.58</td>\n      <td>386.1</td>\n      <td>0.14250</td>\n      <td>0.28390</td>\n      <td>0.24140</td>\n      <td>0.10520</td>\n      <td>...</td>\n      <td>14.910</td>\n      <td>26.50</td>\n      <td>98.87</td>\n      <td>567.7</td>\n      <td>0.20980</td>\n      <td>0.86630</td>\n      <td>0.6869</td>\n      <td>0.2575</td>\n      <td>0.6638</td>\n      <td>0.17300</td>\n    </tr>\n    <tr>\n      <th>4</th>\n      <td>84358402</td>\n      <td>M</td>\n      <td>20.29</td>\n      <td>14.34</td>\n      <td>135.10</td>\n      <td>1297.0</td>\n      <td>0.10030</td>\n      <td>0.13280</td>\n      <td>0.19800</td>\n      <td>0.10430</td>\n      <td>...</td>\n      <td>22.540</td>\n      <td>16.67</td>\n      <td>152.20</td>\n      <td>1575.0</td>\n      <td>0.13740</td>\n      <td>0.20500</td>\n      <td>0.4000</td>\n      <td>0.1625</td>\n      <td>0.2364</td>\n      <td>0.07678</td>\n    </tr>\n    <tr>\n      <th>...</th>\n      <td>...</td>\n      <td>...</td>\n      <td>...</td>\n      <td>...</td>\n      <td>...</td>\n      <td>...</td>\n      <td>...</td>\n      <td>...</td>\n      <td>...</td>\n      <td>...</td>\n      <td>...</td>\n      <td>...</td>\n      <td>...</td>\n      <td>...</td>\n      <td>...</td>\n      <td>...</td>\n      <td>...</td>\n      <td>...</td>\n      <td>...</td>\n      <td>...</td>\n      <td>...</td>\n    </tr>\n    <tr>\n      <th>564</th>\n      <td>926424</td>\n      <td>M</td>\n      <td>21.56</td>\n      <td>22.39</td>\n      <td>142.00</td>\n      <td>1479.0</td>\n      <td>0.11100</td>\n      <td>0.11590</td>\n      <td>0.24390</td>\n      <td>0.13890</td>\n      <td>...</td>\n      <td>25.450</td>\n      <td>26.40</td>\n      <td>166.10</td>\n      <td>2027.0</td>\n      <td>0.14100</td>\n      <td>0.21130</td>\n      <td>0.4107</td>\n      <td>0.2216</td>\n      <td>0.2060</td>\n      <td>0.07115</td>\n    </tr>\n    <tr>\n      <th>565</th>\n      <td>926682</td>\n      <td>M</td>\n      <td>20.13</td>\n      <td>28.25</td>\n      <td>131.20</td>\n      <td>1261.0</td>\n      <td>0.09780</td>\n      <td>0.10340</td>\n      <td>0.14400</td>\n      <td>0.09791</td>\n      <td>...</td>\n      <td>23.690</td>\n      <td>38.25</td>\n      <td>155.00</td>\n      <td>1731.0</td>\n      <td>0.11660</td>\n      <td>0.19220</td>\n      <td>0.3215</td>\n      <td>0.1628</td>\n      <td>0.2572</td>\n      <td>0.06637</td>\n    </tr>\n    <tr>\n      <th>566</th>\n      <td>926954</td>\n      <td>M</td>\n      <td>16.60</td>\n      <td>28.08</td>\n      <td>108.30</td>\n      <td>858.1</td>\n      <td>0.08455</td>\n      <td>0.10230</td>\n      <td>0.09251</td>\n      <td>0.05302</td>\n      <td>...</td>\n      <td>18.980</td>\n      <td>34.12</td>\n      <td>126.70</td>\n      <td>1124.0</td>\n      <td>0.11390</td>\n      <td>0.30940</td>\n      <td>0.3403</td>\n      <td>0.1418</td>\n      <td>0.2218</td>\n      <td>0.07820</td>\n    </tr>\n    <tr>\n      <th>567</th>\n      <td>927241</td>\n      <td>M</td>\n      <td>20.60</td>\n      <td>29.33</td>\n      <td>140.10</td>\n      <td>1265.0</td>\n      <td>0.11780</td>\n      <td>0.27700</td>\n      <td>0.35140</td>\n      <td>0.15200</td>\n      <td>...</td>\n      <td>25.740</td>\n      <td>39.42</td>\n      <td>184.60</td>\n      <td>1821.0</td>\n      <td>0.16500</td>\n      <td>0.86810</td>\n      <td>0.9387</td>\n      <td>0.2650</td>\n      <td>0.4087</td>\n      <td>0.12400</td>\n    </tr>\n    <tr>\n      <th>568</th>\n      <td>92751</td>\n      <td>B</td>\n      <td>7.76</td>\n      <td>24.54</td>\n      <td>47.92</td>\n      <td>181.0</td>\n      <td>0.05263</td>\n      <td>0.04362</td>\n      <td>0.00000</td>\n      <td>0.00000</td>\n      <td>...</td>\n      <td>9.456</td>\n      <td>30.37</td>\n      <td>59.16</td>\n      <td>268.6</td>\n      <td>0.08996</td>\n      <td>0.06444</td>\n      <td>0.0000</td>\n      <td>0.0000</td>\n      <td>0.2871</td>\n      <td>0.07039</td>\n    </tr>\n  </tbody>\n</table>\n<p>569 rows × 32 columns</p>\n</div>"
     },
     "metadata": {},
     "output_type": "display_data"
    },
    {
     "data": {
      "text/plain": "                 id  radius_mean  texture_mean  perimeter_mean    area_mean  \\\ncount  5.690000e+02   569.000000    569.000000      569.000000   569.000000   \nmean   3.037183e+07    14.127292     19.289649       91.969033   654.889104   \nstd    1.250206e+08     3.524049      4.301036       24.298981   351.914129   \nmin    8.670000e+03     6.981000      9.710000       43.790000   143.500000   \n25%    8.692180e+05    11.700000     16.170000       75.170000   420.300000   \n50%    9.060240e+05    13.370000     18.840000       86.240000   551.100000   \n75%    8.813129e+06    15.780000     21.800000      104.100000   782.700000   \nmax    9.113205e+08    28.110000     39.280000      188.500000  2501.000000   \n\n       smoothness_mean  compactness_mean  concavity_mean  concave points_mean  \\\ncount       569.000000        569.000000      569.000000           569.000000   \nmean          0.096360          0.104341        0.088799             0.048919   \nstd           0.014064          0.052813        0.079720             0.038803   \nmin           0.052630          0.019380        0.000000             0.000000   \n25%           0.086370          0.064920        0.029560             0.020310   \n50%           0.095870          0.092630        0.061540             0.033500   \n75%           0.105300          0.130400        0.130700             0.074000   \nmax           0.163400          0.345400        0.426800             0.201200   \n\n       symmetry_mean  ...  radius_worst  texture_worst  perimeter_worst  \\\ncount     569.000000  ...    569.000000     569.000000       569.000000   \nmean        0.181162  ...     16.269190      25.677223       107.261213   \nstd         0.027414  ...      4.833242       6.146258        33.602542   \nmin         0.106000  ...      7.930000      12.020000        50.410000   \n25%         0.161900  ...     13.010000      21.080000        84.110000   \n50%         0.179200  ...     14.970000      25.410000        97.660000   \n75%         0.195700  ...     18.790000      29.720000       125.400000   \nmax         0.304000  ...     36.040000      49.540000       251.200000   \n\n        area_worst  smoothness_worst  compactness_worst  concavity_worst  \\\ncount   569.000000        569.000000         569.000000       569.000000   \nmean    880.583128          0.132369           0.254265         0.272188   \nstd     569.356993          0.022832           0.157336         0.208624   \nmin     185.200000          0.071170           0.027290         0.000000   \n25%     515.300000          0.116600           0.147200         0.114500   \n50%     686.500000          0.131300           0.211900         0.226700   \n75%    1084.000000          0.146000           0.339100         0.382900   \nmax    4254.000000          0.222600           1.058000         1.252000   \n\n       concave points_worst  symmetry_worst  fractal_dimension_worst  \ncount            569.000000      569.000000               569.000000  \nmean               0.114606        0.290076                 0.083946  \nstd                0.065732        0.061867                 0.018061  \nmin                0.000000        0.156500                 0.055040  \n25%                0.064930        0.250400                 0.071460  \n50%                0.099930        0.282200                 0.080040  \n75%                0.161400        0.317900                 0.092080  \nmax                0.291000        0.663800                 0.207500  \n\n[8 rows x 31 columns]",
      "text/html": "<div>\n<style scoped>\n    .dataframe tbody tr th:only-of-type {\n        vertical-align: middle;\n    }\n\n    .dataframe tbody tr th {\n        vertical-align: top;\n    }\n\n    .dataframe thead th {\n        text-align: right;\n    }\n</style>\n<table border=\"1\" class=\"dataframe\">\n  <thead>\n    <tr style=\"text-align: right;\">\n      <th></th>\n      <th>id</th>\n      <th>radius_mean</th>\n      <th>texture_mean</th>\n      <th>perimeter_mean</th>\n      <th>area_mean</th>\n      <th>smoothness_mean</th>\n      <th>compactness_mean</th>\n      <th>concavity_mean</th>\n      <th>concave points_mean</th>\n      <th>symmetry_mean</th>\n      <th>...</th>\n      <th>radius_worst</th>\n      <th>texture_worst</th>\n      <th>perimeter_worst</th>\n      <th>area_worst</th>\n      <th>smoothness_worst</th>\n      <th>compactness_worst</th>\n      <th>concavity_worst</th>\n      <th>concave points_worst</th>\n      <th>symmetry_worst</th>\n      <th>fractal_dimension_worst</th>\n    </tr>\n  </thead>\n  <tbody>\n    <tr>\n      <th>count</th>\n      <td>5.690000e+02</td>\n      <td>569.000000</td>\n      <td>569.000000</td>\n      <td>569.000000</td>\n      <td>569.000000</td>\n      <td>569.000000</td>\n      <td>569.000000</td>\n      <td>569.000000</td>\n      <td>569.000000</td>\n      <td>569.000000</td>\n      <td>...</td>\n      <td>569.000000</td>\n      <td>569.000000</td>\n      <td>569.000000</td>\n      <td>569.000000</td>\n      <td>569.000000</td>\n      <td>569.000000</td>\n      <td>569.000000</td>\n      <td>569.000000</td>\n      <td>569.000000</td>\n      <td>569.000000</td>\n    </tr>\n    <tr>\n      <th>mean</th>\n      <td>3.037183e+07</td>\n      <td>14.127292</td>\n      <td>19.289649</td>\n      <td>91.969033</td>\n      <td>654.889104</td>\n      <td>0.096360</td>\n      <td>0.104341</td>\n      <td>0.088799</td>\n      <td>0.048919</td>\n      <td>0.181162</td>\n      <td>...</td>\n      <td>16.269190</td>\n      <td>25.677223</td>\n      <td>107.261213</td>\n      <td>880.583128</td>\n      <td>0.132369</td>\n      <td>0.254265</td>\n      <td>0.272188</td>\n      <td>0.114606</td>\n      <td>0.290076</td>\n      <td>0.083946</td>\n    </tr>\n    <tr>\n      <th>std</th>\n      <td>1.250206e+08</td>\n      <td>3.524049</td>\n      <td>4.301036</td>\n      <td>24.298981</td>\n      <td>351.914129</td>\n      <td>0.014064</td>\n      <td>0.052813</td>\n      <td>0.079720</td>\n      <td>0.038803</td>\n      <td>0.027414</td>\n      <td>...</td>\n      <td>4.833242</td>\n      <td>6.146258</td>\n      <td>33.602542</td>\n      <td>569.356993</td>\n      <td>0.022832</td>\n      <td>0.157336</td>\n      <td>0.208624</td>\n      <td>0.065732</td>\n      <td>0.061867</td>\n      <td>0.018061</td>\n    </tr>\n    <tr>\n      <th>min</th>\n      <td>8.670000e+03</td>\n      <td>6.981000</td>\n      <td>9.710000</td>\n      <td>43.790000</td>\n      <td>143.500000</td>\n      <td>0.052630</td>\n      <td>0.019380</td>\n      <td>0.000000</td>\n      <td>0.000000</td>\n      <td>0.106000</td>\n      <td>...</td>\n      <td>7.930000</td>\n      <td>12.020000</td>\n      <td>50.410000</td>\n      <td>185.200000</td>\n      <td>0.071170</td>\n      <td>0.027290</td>\n      <td>0.000000</td>\n      <td>0.000000</td>\n      <td>0.156500</td>\n      <td>0.055040</td>\n    </tr>\n    <tr>\n      <th>25%</th>\n      <td>8.692180e+05</td>\n      <td>11.700000</td>\n      <td>16.170000</td>\n      <td>75.170000</td>\n      <td>420.300000</td>\n      <td>0.086370</td>\n      <td>0.064920</td>\n      <td>0.029560</td>\n      <td>0.020310</td>\n      <td>0.161900</td>\n      <td>...</td>\n      <td>13.010000</td>\n      <td>21.080000</td>\n      <td>84.110000</td>\n      <td>515.300000</td>\n      <td>0.116600</td>\n      <td>0.147200</td>\n      <td>0.114500</td>\n      <td>0.064930</td>\n      <td>0.250400</td>\n      <td>0.071460</td>\n    </tr>\n    <tr>\n      <th>50%</th>\n      <td>9.060240e+05</td>\n      <td>13.370000</td>\n      <td>18.840000</td>\n      <td>86.240000</td>\n      <td>551.100000</td>\n      <td>0.095870</td>\n      <td>0.092630</td>\n      <td>0.061540</td>\n      <td>0.033500</td>\n      <td>0.179200</td>\n      <td>...</td>\n      <td>14.970000</td>\n      <td>25.410000</td>\n      <td>97.660000</td>\n      <td>686.500000</td>\n      <td>0.131300</td>\n      <td>0.211900</td>\n      <td>0.226700</td>\n      <td>0.099930</td>\n      <td>0.282200</td>\n      <td>0.080040</td>\n    </tr>\n    <tr>\n      <th>75%</th>\n      <td>8.813129e+06</td>\n      <td>15.780000</td>\n      <td>21.800000</td>\n      <td>104.100000</td>\n      <td>782.700000</td>\n      <td>0.105300</td>\n      <td>0.130400</td>\n      <td>0.130700</td>\n      <td>0.074000</td>\n      <td>0.195700</td>\n      <td>...</td>\n      <td>18.790000</td>\n      <td>29.720000</td>\n      <td>125.400000</td>\n      <td>1084.000000</td>\n      <td>0.146000</td>\n      <td>0.339100</td>\n      <td>0.382900</td>\n      <td>0.161400</td>\n      <td>0.317900</td>\n      <td>0.092080</td>\n    </tr>\n    <tr>\n      <th>max</th>\n      <td>9.113205e+08</td>\n      <td>28.110000</td>\n      <td>39.280000</td>\n      <td>188.500000</td>\n      <td>2501.000000</td>\n      <td>0.163400</td>\n      <td>0.345400</td>\n      <td>0.426800</td>\n      <td>0.201200</td>\n      <td>0.304000</td>\n      <td>...</td>\n      <td>36.040000</td>\n      <td>49.540000</td>\n      <td>251.200000</td>\n      <td>4254.000000</td>\n      <td>0.222600</td>\n      <td>1.058000</td>\n      <td>1.252000</td>\n      <td>0.291000</td>\n      <td>0.663800</td>\n      <td>0.207500</td>\n    </tr>\n  </tbody>\n</table>\n<p>8 rows × 31 columns</p>\n</div>"
     },
     "metadata": {},
     "output_type": "display_data"
    },
    {
     "data": {
      "text/plain": "                         radius_mean  texture_mean  perimeter_mean  area_mean  \\\nradius_mean                 1.000000      0.323782        0.997855   0.987357   \ntexture_mean                0.323782      1.000000        0.329533   0.321086   \nperimeter_mean              0.997855      0.329533        1.000000   0.986507   \narea_mean                   0.987357      0.321086        0.986507   1.000000   \nsmoothness_mean             0.170581     -0.023389        0.207278   0.177028   \ncompactness_mean            0.506124      0.236702        0.556936   0.498502   \nconcavity_mean              0.676764      0.302418        0.716136   0.685983   \nconcave points_mean         0.822529      0.293464        0.850977   0.823269   \nsymmetry_mean               0.147741      0.071401        0.183027   0.151293   \nfractal_dimension_mean     -0.311631     -0.076437       -0.261477  -0.283110   \nradius_se                   0.679090      0.275869        0.691765   0.732562   \ntexture_se                 -0.097317      0.386358       -0.086761  -0.066280   \nperimeter_se                0.674172      0.281673        0.693135   0.726628   \narea_se                     0.735864      0.259845        0.744983   0.800086   \nsmoothness_se              -0.222600      0.006614       -0.202694  -0.166777   \ncompactness_se              0.206000      0.191975        0.250744   0.212583   \nconcavity_se                0.194204      0.143293        0.228082   0.207660   \nconcave points_se           0.376169      0.163851        0.407217   0.372320   \nsymmetry_se                -0.104321      0.009127       -0.081629  -0.072497   \nfractal_dimension_se       -0.042641      0.054458       -0.005523  -0.019887   \nradius_worst                0.969539      0.352573        0.969476   0.962746   \ntexture_worst               0.297008      0.912045        0.303038   0.287489   \nperimeter_worst             0.965137      0.358040        0.970387   0.959120   \narea_worst                  0.941082      0.343546        0.941550   0.959213   \nsmoothness_worst            0.119616      0.077503        0.150549   0.123523   \ncompactness_worst           0.413463      0.277830        0.455774   0.390410   \nconcavity_worst             0.526911      0.301025        0.563879   0.512606   \nconcave points_worst        0.744214      0.295316        0.771241   0.722017   \nsymmetry_worst              0.163953      0.105008        0.189115   0.143570   \nfractal_dimension_worst     0.007066      0.119205        0.051019   0.003738   \n\n                         smoothness_mean  compactness_mean  concavity_mean  \\\nradius_mean                     0.170581          0.506124        0.676764   \ntexture_mean                   -0.023389          0.236702        0.302418   \nperimeter_mean                  0.207278          0.556936        0.716136   \narea_mean                       0.177028          0.498502        0.685983   \nsmoothness_mean                 1.000000          0.659123        0.521984   \ncompactness_mean                0.659123          1.000000        0.883121   \nconcavity_mean                  0.521984          0.883121        1.000000   \nconcave points_mean             0.553695          0.831135        0.921391   \nsymmetry_mean                   0.557775          0.602641        0.500667   \nfractal_dimension_mean          0.584792          0.565369        0.336783   \nradius_se                       0.301467          0.497473        0.631925   \ntexture_se                      0.068406          0.046205        0.076218   \nperimeter_se                    0.296092          0.548905        0.660391   \narea_se                         0.246552          0.455653        0.617427   \nsmoothness_se                   0.332375          0.135299        0.098564   \ncompactness_se                  0.318943          0.738722        0.670279   \nconcavity_se                    0.248396          0.570517        0.691270   \nconcave points_se               0.380676          0.642262        0.683260   \nsymmetry_se                     0.200774          0.229977        0.178009   \nfractal_dimension_se            0.283607          0.507318        0.449301   \nradius_worst                    0.213120          0.535315        0.688236   \ntexture_worst                   0.036072          0.248133        0.299879   \nperimeter_worst                 0.238853          0.590210        0.729565   \narea_worst                      0.206718          0.509604        0.675987   \nsmoothness_worst                0.805324          0.565541        0.448822   \ncompactness_worst               0.472468          0.865809        0.754968   \nconcavity_worst                 0.434926          0.816275        0.884103   \nconcave points_worst            0.503053          0.815573        0.861323   \nsymmetry_worst                  0.394309          0.510223        0.409464   \nfractal_dimension_worst         0.499316          0.687382        0.514930   \n\n                         concave points_mean  symmetry_mean  \\\nradius_mean                         0.822529       0.147741   \ntexture_mean                        0.293464       0.071401   \nperimeter_mean                      0.850977       0.183027   \narea_mean                           0.823269       0.151293   \nsmoothness_mean                     0.553695       0.557775   \ncompactness_mean                    0.831135       0.602641   \nconcavity_mean                      0.921391       0.500667   \nconcave points_mean                 1.000000       0.462497   \nsymmetry_mean                       0.462497       1.000000   \nfractal_dimension_mean              0.166917       0.479921   \nradius_se                           0.698050       0.303379   \ntexture_se                          0.021480       0.128053   \nperimeter_se                        0.710650       0.313893   \narea_se                             0.690299       0.223970   \nsmoothness_se                       0.027653       0.187321   \ncompactness_se                      0.490424       0.421659   \nconcavity_se                        0.439167       0.342627   \nconcave points_se                   0.615634       0.393298   \nsymmetry_se                         0.095351       0.449137   \nfractal_dimension_se                0.257584       0.331786   \nradius_worst                        0.830318       0.185728   \ntexture_worst                       0.292752       0.090651   \nperimeter_worst                     0.855923       0.219169   \narea_worst                          0.809630       0.177193   \nsmoothness_worst                    0.452753       0.426675   \ncompactness_worst                   0.667454       0.473200   \nconcavity_worst                     0.752399       0.433721   \nconcave points_worst                0.910155       0.430297   \nsymmetry_worst                      0.375744       0.699826   \nfractal_dimension_worst             0.368661       0.438413   \n\n                         fractal_dimension_mean  ...  radius_worst  \\\nradius_mean                           -0.311631  ...      0.969539   \ntexture_mean                          -0.076437  ...      0.352573   \nperimeter_mean                        -0.261477  ...      0.969476   \narea_mean                             -0.283110  ...      0.962746   \nsmoothness_mean                        0.584792  ...      0.213120   \ncompactness_mean                       0.565369  ...      0.535315   \nconcavity_mean                         0.336783  ...      0.688236   \nconcave points_mean                    0.166917  ...      0.830318   \nsymmetry_mean                          0.479921  ...      0.185728   \nfractal_dimension_mean                 1.000000  ...     -0.253691   \nradius_se                              0.000111  ...      0.715065   \ntexture_se                             0.164174  ...     -0.111690   \nperimeter_se                           0.039830  ...      0.697201   \narea_se                               -0.090170  ...      0.757373   \nsmoothness_se                          0.401964  ...     -0.230691   \ncompactness_se                         0.559837  ...      0.204607   \nconcavity_se                           0.446630  ...      0.186904   \nconcave points_se                      0.341198  ...      0.358127   \nsymmetry_se                            0.345007  ...     -0.128121   \nfractal_dimension_se                   0.688132  ...     -0.037488   \nradius_worst                          -0.253691  ...      1.000000   \ntexture_worst                         -0.051269  ...      0.359921   \nperimeter_worst                       -0.205151  ...      0.993708   \narea_worst                            -0.231854  ...      0.984015   \nsmoothness_worst                       0.504942  ...      0.216574   \ncompactness_worst                      0.458798  ...      0.475820   \nconcavity_worst                        0.346234  ...      0.573975   \nconcave points_worst                   0.175325  ...      0.787424   \nsymmetry_worst                         0.334019  ...      0.243529   \nfractal_dimension_worst                0.767297  ...      0.093492   \n\n                         texture_worst  perimeter_worst  area_worst  \\\nradius_mean                   0.297008         0.965137    0.941082   \ntexture_mean                  0.912045         0.358040    0.343546   \nperimeter_mean                0.303038         0.970387    0.941550   \narea_mean                     0.287489         0.959120    0.959213   \nsmoothness_mean               0.036072         0.238853    0.206718   \ncompactness_mean              0.248133         0.590210    0.509604   \nconcavity_mean                0.299879         0.729565    0.675987   \nconcave points_mean           0.292752         0.855923    0.809630   \nsymmetry_mean                 0.090651         0.219169    0.177193   \nfractal_dimension_mean       -0.051269        -0.205151   -0.231854   \nradius_se                     0.194799         0.719684    0.751548   \ntexture_se                    0.409003        -0.102242   -0.083195   \nperimeter_se                  0.200371         0.721031    0.730713   \narea_se                       0.196497         0.761213    0.811408   \nsmoothness_se                -0.074743        -0.217304   -0.182195   \ncompactness_se                0.143003         0.260516    0.199371   \nconcavity_se                  0.100241         0.226680    0.188353   \nconcave points_se             0.086741         0.394999    0.342271   \nsymmetry_se                  -0.077473        -0.103753   -0.110343   \nfractal_dimension_se         -0.003195        -0.001000   -0.022736   \nradius_worst                  0.359921         0.993708    0.984015   \ntexture_worst                 1.000000         0.365098    0.345842   \nperimeter_worst               0.365098         1.000000    0.977578   \narea_worst                    0.345842         0.977578    1.000000   \nsmoothness_worst              0.225429         0.236775    0.209145   \ncompactness_worst             0.360832         0.529408    0.438296   \nconcavity_worst               0.368366         0.618344    0.543331   \nconcave points_worst          0.359755         0.816322    0.747419   \nsymmetry_worst                0.233027         0.269493    0.209146   \nfractal_dimension_worst       0.219122         0.138957    0.079647   \n\n                         smoothness_worst  compactness_worst  concavity_worst  \\\nradius_mean                      0.119616           0.413463         0.526911   \ntexture_mean                     0.077503           0.277830         0.301025   \nperimeter_mean                   0.150549           0.455774         0.563879   \narea_mean                        0.123523           0.390410         0.512606   \nsmoothness_mean                  0.805324           0.472468         0.434926   \ncompactness_mean                 0.565541           0.865809         0.816275   \nconcavity_mean                   0.448822           0.754968         0.884103   \nconcave points_mean              0.452753           0.667454         0.752399   \nsymmetry_mean                    0.426675           0.473200         0.433721   \nfractal_dimension_mean           0.504942           0.458798         0.346234   \nradius_se                        0.141919           0.287103         0.380585   \ntexture_se                      -0.073658          -0.092439        -0.068956   \nperimeter_se                     0.130054           0.341919         0.418899   \narea_se                          0.125389           0.283257         0.385100   \nsmoothness_se                    0.314457          -0.055558        -0.058298   \ncompactness_se                   0.227394           0.678780         0.639147   \nconcavity_se                     0.168481           0.484858         0.662564   \nconcave points_se                0.215351           0.452888         0.549592   \nsymmetry_se                     -0.012662           0.060255         0.037119   \nfractal_dimension_se             0.170568           0.390159         0.379975   \nradius_worst                     0.216574           0.475820         0.573975   \ntexture_worst                    0.225429           0.360832         0.368366   \nperimeter_worst                  0.236775           0.529408         0.618344   \narea_worst                       0.209145           0.438296         0.543331   \nsmoothness_worst                 1.000000           0.568187         0.518523   \ncompactness_worst                0.568187           1.000000         0.892261   \nconcavity_worst                  0.518523           0.892261         1.000000   \nconcave points_worst             0.547691           0.801080         0.855434   \nsymmetry_worst                   0.493838           0.614441         0.532520   \nfractal_dimension_worst          0.617624           0.810455         0.686511   \n\n                         concave points_worst  symmetry_worst  \\\nradius_mean                          0.744214        0.163953   \ntexture_mean                         0.295316        0.105008   \nperimeter_mean                       0.771241        0.189115   \narea_mean                            0.722017        0.143570   \nsmoothness_mean                      0.503053        0.394309   \ncompactness_mean                     0.815573        0.510223   \nconcavity_mean                       0.861323        0.409464   \nconcave points_mean                  0.910155        0.375744   \nsymmetry_mean                        0.430297        0.699826   \nfractal_dimension_mean               0.175325        0.334019   \nradius_se                            0.531062        0.094543   \ntexture_se                          -0.119638       -0.128215   \nperimeter_se                         0.554897        0.109930   \narea_se                              0.538166        0.074126   \nsmoothness_se                       -0.102007       -0.107342   \ncompactness_se                       0.483208        0.277878   \nconcavity_se                         0.440472        0.197788   \nconcave points_se                    0.602450        0.143116   \nsymmetry_se                         -0.030413        0.389402   \nfractal_dimension_se                 0.215204        0.111094   \nradius_worst                         0.787424        0.243529   \ntexture_worst                        0.359755        0.233027   \nperimeter_worst                      0.816322        0.269493   \narea_worst                           0.747419        0.209146   \nsmoothness_worst                     0.547691        0.493838   \ncompactness_worst                    0.801080        0.614441   \nconcavity_worst                      0.855434        0.532520   \nconcave points_worst                 1.000000        0.502528   \nsymmetry_worst                       0.502528        1.000000   \nfractal_dimension_worst              0.511114        0.537848   \n\n                         fractal_dimension_worst  \nradius_mean                             0.007066  \ntexture_mean                            0.119205  \nperimeter_mean                          0.051019  \narea_mean                               0.003738  \nsmoothness_mean                         0.499316  \ncompactness_mean                        0.687382  \nconcavity_mean                          0.514930  \nconcave points_mean                     0.368661  \nsymmetry_mean                           0.438413  \nfractal_dimension_mean                  0.767297  \nradius_se                               0.049559  \ntexture_se                             -0.045655  \nperimeter_se                            0.085433  \narea_se                                 0.017539  \nsmoothness_se                           0.101480  \ncompactness_se                          0.590973  \nconcavity_se                            0.439329  \nconcave points_se                       0.310655  \nsymmetry_se                             0.078079  \nfractal_dimension_se                    0.591328  \nradius_worst                            0.093492  \ntexture_worst                           0.219122  \nperimeter_worst                         0.138957  \narea_worst                              0.079647  \nsmoothness_worst                        0.617624  \ncompactness_worst                       0.810455  \nconcavity_worst                         0.686511  \nconcave points_worst                    0.511114  \nsymmetry_worst                          0.537848  \nfractal_dimension_worst                 1.000000  \n\n[30 rows x 30 columns]",
      "text/html": "<div>\n<style scoped>\n    .dataframe tbody tr th:only-of-type {\n        vertical-align: middle;\n    }\n\n    .dataframe tbody tr th {\n        vertical-align: top;\n    }\n\n    .dataframe thead th {\n        text-align: right;\n    }\n</style>\n<table border=\"1\" class=\"dataframe\">\n  <thead>\n    <tr style=\"text-align: right;\">\n      <th></th>\n      <th>radius_mean</th>\n      <th>texture_mean</th>\n      <th>perimeter_mean</th>\n      <th>area_mean</th>\n      <th>smoothness_mean</th>\n      <th>compactness_mean</th>\n      <th>concavity_mean</th>\n      <th>concave points_mean</th>\n      <th>symmetry_mean</th>\n      <th>fractal_dimension_mean</th>\n      <th>...</th>\n      <th>radius_worst</th>\n      <th>texture_worst</th>\n      <th>perimeter_worst</th>\n      <th>area_worst</th>\n      <th>smoothness_worst</th>\n      <th>compactness_worst</th>\n      <th>concavity_worst</th>\n      <th>concave points_worst</th>\n      <th>symmetry_worst</th>\n      <th>fractal_dimension_worst</th>\n    </tr>\n  </thead>\n  <tbody>\n    <tr>\n      <th>radius_mean</th>\n      <td>1.000000</td>\n      <td>0.323782</td>\n      <td>0.997855</td>\n      <td>0.987357</td>\n      <td>0.170581</td>\n      <td>0.506124</td>\n      <td>0.676764</td>\n      <td>0.822529</td>\n      <td>0.147741</td>\n      <td>-0.311631</td>\n      <td>...</td>\n      <td>0.969539</td>\n      <td>0.297008</td>\n      <td>0.965137</td>\n      <td>0.941082</td>\n      <td>0.119616</td>\n      <td>0.413463</td>\n      <td>0.526911</td>\n      <td>0.744214</td>\n      <td>0.163953</td>\n      <td>0.007066</td>\n    </tr>\n    <tr>\n      <th>texture_mean</th>\n      <td>0.323782</td>\n      <td>1.000000</td>\n      <td>0.329533</td>\n      <td>0.321086</td>\n      <td>-0.023389</td>\n      <td>0.236702</td>\n      <td>0.302418</td>\n      <td>0.293464</td>\n      <td>0.071401</td>\n      <td>-0.076437</td>\n      <td>...</td>\n      <td>0.352573</td>\n      <td>0.912045</td>\n      <td>0.358040</td>\n      <td>0.343546</td>\n      <td>0.077503</td>\n      <td>0.277830</td>\n      <td>0.301025</td>\n      <td>0.295316</td>\n      <td>0.105008</td>\n      <td>0.119205</td>\n    </tr>\n    <tr>\n      <th>perimeter_mean</th>\n      <td>0.997855</td>\n      <td>0.329533</td>\n      <td>1.000000</td>\n      <td>0.986507</td>\n      <td>0.207278</td>\n      <td>0.556936</td>\n      <td>0.716136</td>\n      <td>0.850977</td>\n      <td>0.183027</td>\n      <td>-0.261477</td>\n      <td>...</td>\n      <td>0.969476</td>\n      <td>0.303038</td>\n      <td>0.970387</td>\n      <td>0.941550</td>\n      <td>0.150549</td>\n      <td>0.455774</td>\n      <td>0.563879</td>\n      <td>0.771241</td>\n      <td>0.189115</td>\n      <td>0.051019</td>\n    </tr>\n    <tr>\n      <th>area_mean</th>\n      <td>0.987357</td>\n      <td>0.321086</td>\n      <td>0.986507</td>\n      <td>1.000000</td>\n      <td>0.177028</td>\n      <td>0.498502</td>\n      <td>0.685983</td>\n      <td>0.823269</td>\n      <td>0.151293</td>\n      <td>-0.283110</td>\n      <td>...</td>\n      <td>0.962746</td>\n      <td>0.287489</td>\n      <td>0.959120</td>\n      <td>0.959213</td>\n      <td>0.123523</td>\n      <td>0.390410</td>\n      <td>0.512606</td>\n      <td>0.722017</td>\n      <td>0.143570</td>\n      <td>0.003738</td>\n    </tr>\n    <tr>\n      <th>smoothness_mean</th>\n      <td>0.170581</td>\n      <td>-0.023389</td>\n      <td>0.207278</td>\n      <td>0.177028</td>\n      <td>1.000000</td>\n      <td>0.659123</td>\n      <td>0.521984</td>\n      <td>0.553695</td>\n      <td>0.557775</td>\n      <td>0.584792</td>\n      <td>...</td>\n      <td>0.213120</td>\n      <td>0.036072</td>\n      <td>0.238853</td>\n      <td>0.206718</td>\n      <td>0.805324</td>\n      <td>0.472468</td>\n      <td>0.434926</td>\n      <td>0.503053</td>\n      <td>0.394309</td>\n      <td>0.499316</td>\n    </tr>\n    <tr>\n      <th>compactness_mean</th>\n      <td>0.506124</td>\n      <td>0.236702</td>\n      <td>0.556936</td>\n      <td>0.498502</td>\n      <td>0.659123</td>\n      <td>1.000000</td>\n      <td>0.883121</td>\n      <td>0.831135</td>\n      <td>0.602641</td>\n      <td>0.565369</td>\n      <td>...</td>\n      <td>0.535315</td>\n      <td>0.248133</td>\n      <td>0.590210</td>\n      <td>0.509604</td>\n      <td>0.565541</td>\n      <td>0.865809</td>\n      <td>0.816275</td>\n      <td>0.815573</td>\n      <td>0.510223</td>\n      <td>0.687382</td>\n    </tr>\n    <tr>\n      <th>concavity_mean</th>\n      <td>0.676764</td>\n      <td>0.302418</td>\n      <td>0.716136</td>\n      <td>0.685983</td>\n      <td>0.521984</td>\n      <td>0.883121</td>\n      <td>1.000000</td>\n      <td>0.921391</td>\n      <td>0.500667</td>\n      <td>0.336783</td>\n      <td>...</td>\n      <td>0.688236</td>\n      <td>0.299879</td>\n      <td>0.729565</td>\n      <td>0.675987</td>\n      <td>0.448822</td>\n      <td>0.754968</td>\n      <td>0.884103</td>\n      <td>0.861323</td>\n      <td>0.409464</td>\n      <td>0.514930</td>\n    </tr>\n    <tr>\n      <th>concave points_mean</th>\n      <td>0.822529</td>\n      <td>0.293464</td>\n      <td>0.850977</td>\n      <td>0.823269</td>\n      <td>0.553695</td>\n      <td>0.831135</td>\n      <td>0.921391</td>\n      <td>1.000000</td>\n      <td>0.462497</td>\n      <td>0.166917</td>\n      <td>...</td>\n      <td>0.830318</td>\n      <td>0.292752</td>\n      <td>0.855923</td>\n      <td>0.809630</td>\n      <td>0.452753</td>\n      <td>0.667454</td>\n      <td>0.752399</td>\n      <td>0.910155</td>\n      <td>0.375744</td>\n      <td>0.368661</td>\n    </tr>\n    <tr>\n      <th>symmetry_mean</th>\n      <td>0.147741</td>\n      <td>0.071401</td>\n      <td>0.183027</td>\n      <td>0.151293</td>\n      <td>0.557775</td>\n      <td>0.602641</td>\n      <td>0.500667</td>\n      <td>0.462497</td>\n      <td>1.000000</td>\n      <td>0.479921</td>\n      <td>...</td>\n      <td>0.185728</td>\n      <td>0.090651</td>\n      <td>0.219169</td>\n      <td>0.177193</td>\n      <td>0.426675</td>\n      <td>0.473200</td>\n      <td>0.433721</td>\n      <td>0.430297</td>\n      <td>0.699826</td>\n      <td>0.438413</td>\n    </tr>\n    <tr>\n      <th>fractal_dimension_mean</th>\n      <td>-0.311631</td>\n      <td>-0.076437</td>\n      <td>-0.261477</td>\n      <td>-0.283110</td>\n      <td>0.584792</td>\n      <td>0.565369</td>\n      <td>0.336783</td>\n      <td>0.166917</td>\n      <td>0.479921</td>\n      <td>1.000000</td>\n      <td>...</td>\n      <td>-0.253691</td>\n      <td>-0.051269</td>\n      <td>-0.205151</td>\n      <td>-0.231854</td>\n      <td>0.504942</td>\n      <td>0.458798</td>\n      <td>0.346234</td>\n      <td>0.175325</td>\n      <td>0.334019</td>\n      <td>0.767297</td>\n    </tr>\n    <tr>\n      <th>radius_se</th>\n      <td>0.679090</td>\n      <td>0.275869</td>\n      <td>0.691765</td>\n      <td>0.732562</td>\n      <td>0.301467</td>\n      <td>0.497473</td>\n      <td>0.631925</td>\n      <td>0.698050</td>\n      <td>0.303379</td>\n      <td>0.000111</td>\n      <td>...</td>\n      <td>0.715065</td>\n      <td>0.194799</td>\n      <td>0.719684</td>\n      <td>0.751548</td>\n      <td>0.141919</td>\n      <td>0.287103</td>\n      <td>0.380585</td>\n      <td>0.531062</td>\n      <td>0.094543</td>\n      <td>0.049559</td>\n    </tr>\n    <tr>\n      <th>texture_se</th>\n      <td>-0.097317</td>\n      <td>0.386358</td>\n      <td>-0.086761</td>\n      <td>-0.066280</td>\n      <td>0.068406</td>\n      <td>0.046205</td>\n      <td>0.076218</td>\n      <td>0.021480</td>\n      <td>0.128053</td>\n      <td>0.164174</td>\n      <td>...</td>\n      <td>-0.111690</td>\n      <td>0.409003</td>\n      <td>-0.102242</td>\n      <td>-0.083195</td>\n      <td>-0.073658</td>\n      <td>-0.092439</td>\n      <td>-0.068956</td>\n      <td>-0.119638</td>\n      <td>-0.128215</td>\n      <td>-0.045655</td>\n    </tr>\n    <tr>\n      <th>perimeter_se</th>\n      <td>0.674172</td>\n      <td>0.281673</td>\n      <td>0.693135</td>\n      <td>0.726628</td>\n      <td>0.296092</td>\n      <td>0.548905</td>\n      <td>0.660391</td>\n      <td>0.710650</td>\n      <td>0.313893</td>\n      <td>0.039830</td>\n      <td>...</td>\n      <td>0.697201</td>\n      <td>0.200371</td>\n      <td>0.721031</td>\n      <td>0.730713</td>\n      <td>0.130054</td>\n      <td>0.341919</td>\n      <td>0.418899</td>\n      <td>0.554897</td>\n      <td>0.109930</td>\n      <td>0.085433</td>\n    </tr>\n    <tr>\n      <th>area_se</th>\n      <td>0.735864</td>\n      <td>0.259845</td>\n      <td>0.744983</td>\n      <td>0.800086</td>\n      <td>0.246552</td>\n      <td>0.455653</td>\n      <td>0.617427</td>\n      <td>0.690299</td>\n      <td>0.223970</td>\n      <td>-0.090170</td>\n      <td>...</td>\n      <td>0.757373</td>\n      <td>0.196497</td>\n      <td>0.761213</td>\n      <td>0.811408</td>\n      <td>0.125389</td>\n      <td>0.283257</td>\n      <td>0.385100</td>\n      <td>0.538166</td>\n      <td>0.074126</td>\n      <td>0.017539</td>\n    </tr>\n    <tr>\n      <th>smoothness_se</th>\n      <td>-0.222600</td>\n      <td>0.006614</td>\n      <td>-0.202694</td>\n      <td>-0.166777</td>\n      <td>0.332375</td>\n      <td>0.135299</td>\n      <td>0.098564</td>\n      <td>0.027653</td>\n      <td>0.187321</td>\n      <td>0.401964</td>\n      <td>...</td>\n      <td>-0.230691</td>\n      <td>-0.074743</td>\n      <td>-0.217304</td>\n      <td>-0.182195</td>\n      <td>0.314457</td>\n      <td>-0.055558</td>\n      <td>-0.058298</td>\n      <td>-0.102007</td>\n      <td>-0.107342</td>\n      <td>0.101480</td>\n    </tr>\n    <tr>\n      <th>compactness_se</th>\n      <td>0.206000</td>\n      <td>0.191975</td>\n      <td>0.250744</td>\n      <td>0.212583</td>\n      <td>0.318943</td>\n      <td>0.738722</td>\n      <td>0.670279</td>\n      <td>0.490424</td>\n      <td>0.421659</td>\n      <td>0.559837</td>\n      <td>...</td>\n      <td>0.204607</td>\n      <td>0.143003</td>\n      <td>0.260516</td>\n      <td>0.199371</td>\n      <td>0.227394</td>\n      <td>0.678780</td>\n      <td>0.639147</td>\n      <td>0.483208</td>\n      <td>0.277878</td>\n      <td>0.590973</td>\n    </tr>\n    <tr>\n      <th>concavity_se</th>\n      <td>0.194204</td>\n      <td>0.143293</td>\n      <td>0.228082</td>\n      <td>0.207660</td>\n      <td>0.248396</td>\n      <td>0.570517</td>\n      <td>0.691270</td>\n      <td>0.439167</td>\n      <td>0.342627</td>\n      <td>0.446630</td>\n      <td>...</td>\n      <td>0.186904</td>\n      <td>0.100241</td>\n      <td>0.226680</td>\n      <td>0.188353</td>\n      <td>0.168481</td>\n      <td>0.484858</td>\n      <td>0.662564</td>\n      <td>0.440472</td>\n      <td>0.197788</td>\n      <td>0.439329</td>\n    </tr>\n    <tr>\n      <th>concave points_se</th>\n      <td>0.376169</td>\n      <td>0.163851</td>\n      <td>0.407217</td>\n      <td>0.372320</td>\n      <td>0.380676</td>\n      <td>0.642262</td>\n      <td>0.683260</td>\n      <td>0.615634</td>\n      <td>0.393298</td>\n      <td>0.341198</td>\n      <td>...</td>\n      <td>0.358127</td>\n      <td>0.086741</td>\n      <td>0.394999</td>\n      <td>0.342271</td>\n      <td>0.215351</td>\n      <td>0.452888</td>\n      <td>0.549592</td>\n      <td>0.602450</td>\n      <td>0.143116</td>\n      <td>0.310655</td>\n    </tr>\n    <tr>\n      <th>symmetry_se</th>\n      <td>-0.104321</td>\n      <td>0.009127</td>\n      <td>-0.081629</td>\n      <td>-0.072497</td>\n      <td>0.200774</td>\n      <td>0.229977</td>\n      <td>0.178009</td>\n      <td>0.095351</td>\n      <td>0.449137</td>\n      <td>0.345007</td>\n      <td>...</td>\n      <td>-0.128121</td>\n      <td>-0.077473</td>\n      <td>-0.103753</td>\n      <td>-0.110343</td>\n      <td>-0.012662</td>\n      <td>0.060255</td>\n      <td>0.037119</td>\n      <td>-0.030413</td>\n      <td>0.389402</td>\n      <td>0.078079</td>\n    </tr>\n    <tr>\n      <th>fractal_dimension_se</th>\n      <td>-0.042641</td>\n      <td>0.054458</td>\n      <td>-0.005523</td>\n      <td>-0.019887</td>\n      <td>0.283607</td>\n      <td>0.507318</td>\n      <td>0.449301</td>\n      <td>0.257584</td>\n      <td>0.331786</td>\n      <td>0.688132</td>\n      <td>...</td>\n      <td>-0.037488</td>\n      <td>-0.003195</td>\n      <td>-0.001000</td>\n      <td>-0.022736</td>\n      <td>0.170568</td>\n      <td>0.390159</td>\n      <td>0.379975</td>\n      <td>0.215204</td>\n      <td>0.111094</td>\n      <td>0.591328</td>\n    </tr>\n    <tr>\n      <th>radius_worst</th>\n      <td>0.969539</td>\n      <td>0.352573</td>\n      <td>0.969476</td>\n      <td>0.962746</td>\n      <td>0.213120</td>\n      <td>0.535315</td>\n      <td>0.688236</td>\n      <td>0.830318</td>\n      <td>0.185728</td>\n      <td>-0.253691</td>\n      <td>...</td>\n      <td>1.000000</td>\n      <td>0.359921</td>\n      <td>0.993708</td>\n      <td>0.984015</td>\n      <td>0.216574</td>\n      <td>0.475820</td>\n      <td>0.573975</td>\n      <td>0.787424</td>\n      <td>0.243529</td>\n      <td>0.093492</td>\n    </tr>\n    <tr>\n      <th>texture_worst</th>\n      <td>0.297008</td>\n      <td>0.912045</td>\n      <td>0.303038</td>\n      <td>0.287489</td>\n      <td>0.036072</td>\n      <td>0.248133</td>\n      <td>0.299879</td>\n      <td>0.292752</td>\n      <td>0.090651</td>\n      <td>-0.051269</td>\n      <td>...</td>\n      <td>0.359921</td>\n      <td>1.000000</td>\n      <td>0.365098</td>\n      <td>0.345842</td>\n      <td>0.225429</td>\n      <td>0.360832</td>\n      <td>0.368366</td>\n      <td>0.359755</td>\n      <td>0.233027</td>\n      <td>0.219122</td>\n    </tr>\n    <tr>\n      <th>perimeter_worst</th>\n      <td>0.965137</td>\n      <td>0.358040</td>\n      <td>0.970387</td>\n      <td>0.959120</td>\n      <td>0.238853</td>\n      <td>0.590210</td>\n      <td>0.729565</td>\n      <td>0.855923</td>\n      <td>0.219169</td>\n      <td>-0.205151</td>\n      <td>...</td>\n      <td>0.993708</td>\n      <td>0.365098</td>\n      <td>1.000000</td>\n      <td>0.977578</td>\n      <td>0.236775</td>\n      <td>0.529408</td>\n      <td>0.618344</td>\n      <td>0.816322</td>\n      <td>0.269493</td>\n      <td>0.138957</td>\n    </tr>\n    <tr>\n      <th>area_worst</th>\n      <td>0.941082</td>\n      <td>0.343546</td>\n      <td>0.941550</td>\n      <td>0.959213</td>\n      <td>0.206718</td>\n      <td>0.509604</td>\n      <td>0.675987</td>\n      <td>0.809630</td>\n      <td>0.177193</td>\n      <td>-0.231854</td>\n      <td>...</td>\n      <td>0.984015</td>\n      <td>0.345842</td>\n      <td>0.977578</td>\n      <td>1.000000</td>\n      <td>0.209145</td>\n      <td>0.438296</td>\n      <td>0.543331</td>\n      <td>0.747419</td>\n      <td>0.209146</td>\n      <td>0.079647</td>\n    </tr>\n    <tr>\n      <th>smoothness_worst</th>\n      <td>0.119616</td>\n      <td>0.077503</td>\n      <td>0.150549</td>\n      <td>0.123523</td>\n      <td>0.805324</td>\n      <td>0.565541</td>\n      <td>0.448822</td>\n      <td>0.452753</td>\n      <td>0.426675</td>\n      <td>0.504942</td>\n      <td>...</td>\n      <td>0.216574</td>\n      <td>0.225429</td>\n      <td>0.236775</td>\n      <td>0.209145</td>\n      <td>1.000000</td>\n      <td>0.568187</td>\n      <td>0.518523</td>\n      <td>0.547691</td>\n      <td>0.493838</td>\n      <td>0.617624</td>\n    </tr>\n    <tr>\n      <th>compactness_worst</th>\n      <td>0.413463</td>\n      <td>0.277830</td>\n      <td>0.455774</td>\n      <td>0.390410</td>\n      <td>0.472468</td>\n      <td>0.865809</td>\n      <td>0.754968</td>\n      <td>0.667454</td>\n      <td>0.473200</td>\n      <td>0.458798</td>\n      <td>...</td>\n      <td>0.475820</td>\n      <td>0.360832</td>\n      <td>0.529408</td>\n      <td>0.438296</td>\n      <td>0.568187</td>\n      <td>1.000000</td>\n      <td>0.892261</td>\n      <td>0.801080</td>\n      <td>0.614441</td>\n      <td>0.810455</td>\n    </tr>\n    <tr>\n      <th>concavity_worst</th>\n      <td>0.526911</td>\n      <td>0.301025</td>\n      <td>0.563879</td>\n      <td>0.512606</td>\n      <td>0.434926</td>\n      <td>0.816275</td>\n      <td>0.884103</td>\n      <td>0.752399</td>\n      <td>0.433721</td>\n      <td>0.346234</td>\n      <td>...</td>\n      <td>0.573975</td>\n      <td>0.368366</td>\n      <td>0.618344</td>\n      <td>0.543331</td>\n      <td>0.518523</td>\n      <td>0.892261</td>\n      <td>1.000000</td>\n      <td>0.855434</td>\n      <td>0.532520</td>\n      <td>0.686511</td>\n    </tr>\n    <tr>\n      <th>concave points_worst</th>\n      <td>0.744214</td>\n      <td>0.295316</td>\n      <td>0.771241</td>\n      <td>0.722017</td>\n      <td>0.503053</td>\n      <td>0.815573</td>\n      <td>0.861323</td>\n      <td>0.910155</td>\n      <td>0.430297</td>\n      <td>0.175325</td>\n      <td>...</td>\n      <td>0.787424</td>\n      <td>0.359755</td>\n      <td>0.816322</td>\n      <td>0.747419</td>\n      <td>0.547691</td>\n      <td>0.801080</td>\n      <td>0.855434</td>\n      <td>1.000000</td>\n      <td>0.502528</td>\n      <td>0.511114</td>\n    </tr>\n    <tr>\n      <th>symmetry_worst</th>\n      <td>0.163953</td>\n      <td>0.105008</td>\n      <td>0.189115</td>\n      <td>0.143570</td>\n      <td>0.394309</td>\n      <td>0.510223</td>\n      <td>0.409464</td>\n      <td>0.375744</td>\n      <td>0.699826</td>\n      <td>0.334019</td>\n      <td>...</td>\n      <td>0.243529</td>\n      <td>0.233027</td>\n      <td>0.269493</td>\n      <td>0.209146</td>\n      <td>0.493838</td>\n      <td>0.614441</td>\n      <td>0.532520</td>\n      <td>0.502528</td>\n      <td>1.000000</td>\n      <td>0.537848</td>\n    </tr>\n    <tr>\n      <th>fractal_dimension_worst</th>\n      <td>0.007066</td>\n      <td>0.119205</td>\n      <td>0.051019</td>\n      <td>0.003738</td>\n      <td>0.499316</td>\n      <td>0.687382</td>\n      <td>0.514930</td>\n      <td>0.368661</td>\n      <td>0.438413</td>\n      <td>0.767297</td>\n      <td>...</td>\n      <td>0.093492</td>\n      <td>0.219122</td>\n      <td>0.138957</td>\n      <td>0.079647</td>\n      <td>0.617624</td>\n      <td>0.810455</td>\n      <td>0.686511</td>\n      <td>0.511114</td>\n      <td>0.537848</td>\n      <td>1.000000</td>\n    </tr>\n  </tbody>\n</table>\n<p>30 rows × 30 columns</p>\n</div>"
     },
     "metadata": {},
     "output_type": "display_data"
    }
   ],
   "source": [
    "breast_cancer = pd.read_csv(\"https://archive.ics.uci.edu/ml/machine-learning-databases/breast-cancer-wisconsin/wdbc.data\",\n",
    "                            names=[\"id\",\"diagnosis\",\"radius_mean\",\"texture_mean\",\"perimeter_mean\",\"area_mean\",\"smoothness_mean\",\"compactness_mean\",\"concavity_mean\",\"concave points_mean\",\"symmetry_mean\",\"fractal_dimension_mean\",\"radius_se\",\"texture_se\",\"perimeter_se\",\"area_se\",\"smoothness_se\",\"compactness_se\",\"concavity_se\",\"concave points_se\",\"symmetry_se\",\"fractal_dimension_se\",\"radius_worst\",\"texture_worst\",\"perimeter_worst\",\"area_worst\",\"smoothness_worst\",\"compactness_worst\",\"concavity_worst\",\"concave points_worst\",\"symmetry_worst\",\"fractal_dimension_worst\"])\n",
    "\n",
    "display(breast_cancer)\n",
    "display(breast_cancer.describe())\n",
    "display((breast_cancer.drop(['diagnosis','id'],axis=1)).corr())"
   ],
   "metadata": {
    "collapsed": false,
    "ExecuteTime": {
     "end_time": "2024-04-02T16:16:34.768410Z",
     "start_time": "2024-04-02T16:16:33.076464Z"
    }
   },
   "id": "6d248a2ee1d758b7",
   "execution_count": 54
  },
  {
   "cell_type": "markdown",
   "source": [
    "Andiamo adesso a divudere i dati nelle features e nei target, dopo di che, dato che il target è espresso in numeri anzi che lettere, andiamo ad utilizzare la funzione LabelEncoder per convertire le B e M in 0 e 1 (target), inoltre andiamo anche a standardizzare i vaalori delle features tramite la funzione StandarScaler"
   ],
   "metadata": {
    "collapsed": false
   },
   "id": "162a4d09499b9fa2"
  },
  {
   "cell_type": "code",
   "outputs": [],
   "source": [
    "X = breast_cancer.drop(['diagnosis','id'],axis=1).values\n",
    "Y = breast_cancer['diagnosis'].values\n",
    "X_train, X_test, y_train, y_test = train_test_split(X,Y, test_size=0.3, random_state=0)\n",
    "\n",
    "le = LabelEncoder()\n",
    "y_train = le.fit_transform(y_train)\n",
    "y_test = le.transform(y_test)\n",
    "\n",
    "ss = StandardScaler()\n",
    "X_train = ss.fit_transform(X_train)\n",
    "X_test = ss.transform(X_test)"
   ],
   "metadata": {
    "collapsed": false,
    "ExecuteTime": {
     "end_time": "2024-04-02T15:52:58.667353Z",
     "start_time": "2024-04-02T15:52:58.654397Z"
    }
   },
   "id": "dd8a1f19c6a8e4c4",
   "execution_count": 44
  },
  {
   "cell_type": "markdown",
   "source": [
    "### Rete neurale densa normale.\n",
    "Importiamo il primo modello di rete neurale densa non profonda, quindi il seguente modello conterrà solo:\n",
    "* 30 **nodi di input**, cioè pari al numero di features del dataframe, con funzione di attivazione **relu**;\n",
    "* 12 **nodi intermedi (nascosti)**, con funzione di attivazione **relu**;\n",
    "* 1 **nodo di output** essendo una categorizzazione binaria, con funzione di attivazione **sigmoidale**."
   ],
   "metadata": {
    "collapsed": false
   },
   "id": "df4679167c9f57a4"
  },
  {
   "cell_type": "code",
   "outputs": [
    {
     "name": "stderr",
     "output_type": "stream",
     "text": [
      "C:\\Users\\simon\\AppData\\Local\\Programs\\Python\\Python312\\Lib\\site-packages\\keras\\src\\layers\\core\\dense.py:88: UserWarning: Do not pass an `input_shape`/`input_dim` argument to a layer. When using Sequential models, prefer using an `Input(shape)` object as the first layer in the model instead.\n",
      "  super().__init__(activity_regularizer=activity_regularizer, **kwargs)\n"
     ]
    },
    {
     "data": {
      "text/plain": "\u001B[1mModel: \"sequential_4\"\u001B[0m\n",
      "text/html": "<pre style=\"white-space:pre;overflow-x:auto;line-height:normal;font-family:Menlo,'DejaVu Sans Mono',consolas,'Courier New',monospace\"><span style=\"font-weight: bold\">Model: \"sequential_4\"</span>\n</pre>\n"
     },
     "metadata": {},
     "output_type": "display_data"
    },
    {
     "data": {
      "text/plain": "┏━━━━━━━━━━━━━━━━━━━━━━━━━━━━━━━━━┳━━━━━━━━━━━━━━━━━━━━━━━━┳━━━━━━━━━━━━━━━┓\n┃\u001B[1m \u001B[0m\u001B[1mLayer (type)                   \u001B[0m\u001B[1m \u001B[0m┃\u001B[1m \u001B[0m\u001B[1mOutput Shape          \u001B[0m\u001B[1m \u001B[0m┃\u001B[1m \u001B[0m\u001B[1m      Param #\u001B[0m\u001B[1m \u001B[0m┃\n┡━━━━━━━━━━━━━━━━━━━━━━━━━━━━━━━━━╇━━━━━━━━━━━━━━━━━━━━━━━━╇━━━━━━━━━━━━━━━┩\n│ dense_12 (\u001B[38;5;33mDense\u001B[0m)                │ (\u001B[38;5;45mNone\u001B[0m, \u001B[38;5;34m12\u001B[0m)             │           \u001B[38;5;34m372\u001B[0m │\n├─────────────────────────────────┼────────────────────────┼───────────────┤\n│ dense_13 (\u001B[38;5;33mDense\u001B[0m)                │ (\u001B[38;5;45mNone\u001B[0m, \u001B[38;5;34m1\u001B[0m)              │            \u001B[38;5;34m13\u001B[0m │\n└─────────────────────────────────┴────────────────────────┴───────────────┘\n",
      "text/html": "<pre style=\"white-space:pre;overflow-x:auto;line-height:normal;font-family:Menlo,'DejaVu Sans Mono',consolas,'Courier New',monospace\">┏━━━━━━━━━━━━━━━━━━━━━━━━━━━━━━━━━┳━━━━━━━━━━━━━━━━━━━━━━━━┳━━━━━━━━━━━━━━━┓\n┃<span style=\"font-weight: bold\"> Layer (type)                    </span>┃<span style=\"font-weight: bold\"> Output Shape           </span>┃<span style=\"font-weight: bold\">       Param # </span>┃\n┡━━━━━━━━━━━━━━━━━━━━━━━━━━━━━━━━━╇━━━━━━━━━━━━━━━━━━━━━━━━╇━━━━━━━━━━━━━━━┩\n│ dense_12 (<span style=\"color: #0087ff; text-decoration-color: #0087ff\">Dense</span>)                │ (<span style=\"color: #00d7ff; text-decoration-color: #00d7ff\">None</span>, <span style=\"color: #00af00; text-decoration-color: #00af00\">12</span>)             │           <span style=\"color: #00af00; text-decoration-color: #00af00\">372</span> │\n├─────────────────────────────────┼────────────────────────┼───────────────┤\n│ dense_13 (<span style=\"color: #0087ff; text-decoration-color: #0087ff\">Dense</span>)                │ (<span style=\"color: #00d7ff; text-decoration-color: #00d7ff\">None</span>, <span style=\"color: #00af00; text-decoration-color: #00af00\">1</span>)              │            <span style=\"color: #00af00; text-decoration-color: #00af00\">13</span> │\n└─────────────────────────────────┴────────────────────────┴───────────────┘\n</pre>\n"
     },
     "metadata": {},
     "output_type": "display_data"
    },
    {
     "data": {
      "text/plain": "\u001B[1m Total params: \u001B[0m\u001B[38;5;34m385\u001B[0m (1.50 KB)\n",
      "text/html": "<pre style=\"white-space:pre;overflow-x:auto;line-height:normal;font-family:Menlo,'DejaVu Sans Mono',consolas,'Courier New',monospace\"><span style=\"font-weight: bold\"> Total params: </span><span style=\"color: #00af00; text-decoration-color: #00af00\">385</span> (1.50 KB)\n</pre>\n"
     },
     "metadata": {},
     "output_type": "display_data"
    },
    {
     "data": {
      "text/plain": "\u001B[1m Trainable params: \u001B[0m\u001B[38;5;34m385\u001B[0m (1.50 KB)\n",
      "text/html": "<pre style=\"white-space:pre;overflow-x:auto;line-height:normal;font-family:Menlo,'DejaVu Sans Mono',consolas,'Courier New',monospace\"><span style=\"font-weight: bold\"> Trainable params: </span><span style=\"color: #00af00; text-decoration-color: #00af00\">385</span> (1.50 KB)\n</pre>\n"
     },
     "metadata": {},
     "output_type": "display_data"
    },
    {
     "data": {
      "text/plain": "\u001B[1m Non-trainable params: \u001B[0m\u001B[38;5;34m0\u001B[0m (0.00 B)\n",
      "text/html": "<pre style=\"white-space:pre;overflow-x:auto;line-height:normal;font-family:Menlo,'DejaVu Sans Mono',consolas,'Courier New',monospace\"><span style=\"font-weight: bold\"> Non-trainable params: </span><span style=\"color: #00af00; text-decoration-color: #00af00\">0</span> (0.00 B)\n</pre>\n"
     },
     "metadata": {},
     "output_type": "display_data"
    }
   ],
   "source": [
    "model = Sequential()\n",
    "model.add(Dense(12, input_dim=30, activation=\"relu\"))\n",
    "model.add(Dense(1, activation=\"sigmoid\"))\n",
    "model.compile(optimizer='sgd', loss='binary_crossentropy', metrics=['accuracy'])\n",
    "model.summary()"
   ],
   "metadata": {
    "collapsed": false,
    "ExecuteTime": {
     "end_time": "2024-04-02T16:00:36.656183Z",
     "start_time": "2024-04-02T16:00:36.585218Z"
    }
   },
   "id": "7109b0b4ac3d2e2",
   "execution_count": 45
  },
  {
   "cell_type": "markdown",
   "source": [
    "Alleniamo il modello sui dati di training:"
   ],
   "metadata": {
    "collapsed": false
   },
   "id": "fddf986a47981c19"
  },
  {
   "cell_type": "code",
   "outputs": [
    {
     "name": "stdout",
     "output_type": "stream",
     "text": [
      "Epoch 1/100\n",
      "\u001B[1m13/13\u001B[0m \u001B[32m━━━━━━━━━━━━━━━━━━━━\u001B[0m\u001B[37m\u001B[0m \u001B[1m4s\u001B[0m 2ms/step - accuracy: 0.5726 - loss: 0.6790\n",
      "Epoch 2/100\n",
      "\u001B[1m13/13\u001B[0m \u001B[32m━━━━━━━━━━━━━━━━━━━━\u001B[0m\u001B[37m\u001B[0m \u001B[1m0s\u001B[0m 2ms/step - accuracy: 0.6919 - loss: 0.6088 \n",
      "Epoch 3/100\n",
      "\u001B[1m13/13\u001B[0m \u001B[32m━━━━━━━━━━━━━━━━━━━━\u001B[0m\u001B[37m\u001B[0m \u001B[1m0s\u001B[0m 2ms/step - accuracy: 0.8023 - loss: 0.5427 \n",
      "Epoch 4/100\n",
      "\u001B[1m13/13\u001B[0m \u001B[32m━━━━━━━━━━━━━━━━━━━━\u001B[0m\u001B[37m\u001B[0m \u001B[1m0s\u001B[0m 2ms/step - accuracy: 0.8309 - loss: 0.4988 \n",
      "Epoch 5/100\n",
      "\u001B[1m13/13\u001B[0m \u001B[32m━━━━━━━━━━━━━━━━━━━━\u001B[0m\u001B[37m\u001B[0m \u001B[1m0s\u001B[0m 2ms/step - accuracy: 0.9026 - loss: 0.4472 \n",
      "Epoch 6/100\n",
      "\u001B[1m13/13\u001B[0m \u001B[32m━━━━━━━━━━━━━━━━━━━━\u001B[0m\u001B[37m\u001B[0m \u001B[1m0s\u001B[0m 2ms/step - accuracy: 0.8911 - loss: 0.4099 \n",
      "Epoch 7/100\n",
      "\u001B[1m13/13\u001B[0m \u001B[32m━━━━━━━━━━━━━━━━━━━━\u001B[0m\u001B[37m\u001B[0m \u001B[1m0s\u001B[0m 2ms/step - accuracy: 0.9327 - loss: 0.3690 \n",
      "Epoch 8/100\n",
      "\u001B[1m13/13\u001B[0m \u001B[32m━━━━━━━━━━━━━━━━━━━━\u001B[0m\u001B[37m\u001B[0m \u001B[1m0s\u001B[0m 2ms/step - accuracy: 0.9240 - loss: 0.3387 \n",
      "Epoch 9/100\n",
      "\u001B[1m13/13\u001B[0m \u001B[32m━━━━━━━━━━━━━━━━━━━━\u001B[0m\u001B[37m\u001B[0m \u001B[1m0s\u001B[0m 2ms/step - accuracy: 0.9288 - loss: 0.3211 \n",
      "Epoch 10/100\n",
      "\u001B[1m13/13\u001B[0m \u001B[32m━━━━━━━━━━━━━━━━━━━━\u001B[0m\u001B[37m\u001B[0m \u001B[1m0s\u001B[0m 2ms/step - accuracy: 0.9490 - loss: 0.2995 \n",
      "Epoch 11/100\n",
      "\u001B[1m13/13\u001B[0m \u001B[32m━━━━━━━━━━━━━━━━━━━━\u001B[0m\u001B[37m\u001B[0m \u001B[1m0s\u001B[0m 2ms/step - accuracy: 0.9383 - loss: 0.2806 \n",
      "Epoch 12/100\n",
      "\u001B[1m13/13\u001B[0m \u001B[32m━━━━━━━━━━━━━━━━━━━━\u001B[0m\u001B[37m\u001B[0m \u001B[1m0s\u001B[0m 2ms/step - accuracy: 0.9324 - loss: 0.2879 \n",
      "Epoch 13/100\n",
      "\u001B[1m13/13\u001B[0m \u001B[32m━━━━━━━━━━━━━━━━━━━━\u001B[0m\u001B[37m\u001B[0m \u001B[1m0s\u001B[0m 4ms/step - accuracy: 0.9432 - loss: 0.2508 \n",
      "Epoch 14/100\n",
      "\u001B[1m13/13\u001B[0m \u001B[32m━━━━━━━━━━━━━━━━━━━━\u001B[0m\u001B[37m\u001B[0m \u001B[1m0s\u001B[0m 2ms/step - accuracy: 0.9387 - loss: 0.2541 \n",
      "Epoch 15/100\n",
      "\u001B[1m13/13\u001B[0m \u001B[32m━━━━━━━━━━━━━━━━━━━━\u001B[0m\u001B[37m\u001B[0m \u001B[1m0s\u001B[0m 2ms/step - accuracy: 0.9401 - loss: 0.2377 \n",
      "Epoch 16/100\n",
      "\u001B[1m13/13\u001B[0m \u001B[32m━━━━━━━━━━━━━━━━━━━━\u001B[0m\u001B[37m\u001B[0m \u001B[1m0s\u001B[0m 2ms/step - accuracy: 0.9454 - loss: 0.2320 \n",
      "Epoch 17/100\n",
      "\u001B[1m13/13\u001B[0m \u001B[32m━━━━━━━━━━━━━━━━━━━━\u001B[0m\u001B[37m\u001B[0m \u001B[1m0s\u001B[0m 2ms/step - accuracy: 0.9332 - loss: 0.2452 \n",
      "Epoch 18/100\n",
      "\u001B[1m13/13\u001B[0m \u001B[32m━━━━━━━━━━━━━━━━━━━━\u001B[0m\u001B[37m\u001B[0m \u001B[1m0s\u001B[0m 2ms/step - accuracy: 0.9383 - loss: 0.2164 \n",
      "Epoch 19/100\n",
      "\u001B[1m13/13\u001B[0m \u001B[32m━━━━━━━━━━━━━━━━━━━━\u001B[0m\u001B[37m\u001B[0m \u001B[1m0s\u001B[0m 2ms/step - accuracy: 0.9522 - loss: 0.2033 \n",
      "Epoch 20/100\n",
      "\u001B[1m13/13\u001B[0m \u001B[32m━━━━━━━━━━━━━━━━━━━━\u001B[0m\u001B[37m\u001B[0m \u001B[1m0s\u001B[0m 2ms/step - accuracy: 0.9525 - loss: 0.1857 \n",
      "Epoch 21/100\n",
      "\u001B[1m13/13\u001B[0m \u001B[32m━━━━━━━━━━━━━━━━━━━━\u001B[0m\u001B[37m\u001B[0m \u001B[1m0s\u001B[0m 2ms/step - accuracy: 0.9367 - loss: 0.2083 \n",
      "Epoch 22/100\n",
      "\u001B[1m13/13\u001B[0m \u001B[32m━━━━━━━━━━━━━━━━━━━━\u001B[0m\u001B[37m\u001B[0m \u001B[1m0s\u001B[0m 2ms/step - accuracy: 0.9389 - loss: 0.1808 \n",
      "Epoch 23/100\n",
      "\u001B[1m13/13\u001B[0m \u001B[32m━━━━━━━━━━━━━━━━━━━━\u001B[0m\u001B[37m\u001B[0m \u001B[1m0s\u001B[0m 2ms/step - accuracy: 0.9540 - loss: 0.1855 \n",
      "Epoch 24/100\n",
      "\u001B[1m13/13\u001B[0m \u001B[32m━━━━━━━━━━━━━━━━━━━━\u001B[0m\u001B[37m\u001B[0m \u001B[1m0s\u001B[0m 2ms/step - accuracy: 0.9602 - loss: 0.1688 \n",
      "Epoch 25/100\n",
      "\u001B[1m13/13\u001B[0m \u001B[32m━━━━━━━━━━━━━━━━━━━━\u001B[0m\u001B[37m\u001B[0m \u001B[1m0s\u001B[0m 2ms/step - accuracy: 0.9421 - loss: 0.1848 \n",
      "Epoch 26/100\n",
      "\u001B[1m13/13\u001B[0m \u001B[32m━━━━━━━━━━━━━━━━━━━━\u001B[0m\u001B[37m\u001B[0m \u001B[1m0s\u001B[0m 2ms/step - accuracy: 0.9554 - loss: 0.1576 \n",
      "Epoch 27/100\n",
      "\u001B[1m13/13\u001B[0m \u001B[32m━━━━━━━━━━━━━━━━━━━━\u001B[0m\u001B[37m\u001B[0m \u001B[1m0s\u001B[0m 2ms/step - accuracy: 0.9649 - loss: 0.1440 \n",
      "Epoch 28/100\n",
      "\u001B[1m13/13\u001B[0m \u001B[32m━━━━━━━━━━━━━━━━━━━━\u001B[0m\u001B[37m\u001B[0m \u001B[1m0s\u001B[0m 2ms/step - accuracy: 0.9514 - loss: 0.1586 \n",
      "Epoch 29/100\n",
      "\u001B[1m13/13\u001B[0m \u001B[32m━━━━━━━━━━━━━━━━━━━━\u001B[0m\u001B[37m\u001B[0m \u001B[1m0s\u001B[0m 2ms/step - accuracy: 0.9459 - loss: 0.1687 \n",
      "Epoch 30/100\n",
      "\u001B[1m13/13\u001B[0m \u001B[32m━━━━━━━━━━━━━━━━━━━━\u001B[0m\u001B[37m\u001B[0m \u001B[1m0s\u001B[0m 2ms/step - accuracy: 0.9627 - loss: 0.1520 \n",
      "Epoch 31/100\n",
      "\u001B[1m13/13\u001B[0m \u001B[32m━━━━━━━━━━━━━━━━━━━━\u001B[0m\u001B[37m\u001B[0m \u001B[1m0s\u001B[0m 2ms/step - accuracy: 0.9499 - loss: 0.1525 \n",
      "Epoch 32/100\n",
      "\u001B[1m13/13\u001B[0m \u001B[32m━━━━━━━━━━━━━━━━━━━━\u001B[0m\u001B[37m\u001B[0m \u001B[1m0s\u001B[0m 2ms/step - accuracy: 0.9554 - loss: 0.1387 \n",
      "Epoch 33/100\n",
      "\u001B[1m13/13\u001B[0m \u001B[32m━━━━━━━━━━━━━━━━━━━━\u001B[0m\u001B[37m\u001B[0m \u001B[1m0s\u001B[0m 2ms/step - accuracy: 0.9670 - loss: 0.1291 \n",
      "Epoch 34/100\n",
      "\u001B[1m13/13\u001B[0m \u001B[32m━━━━━━━━━━━━━━━━━━━━\u001B[0m\u001B[37m\u001B[0m \u001B[1m0s\u001B[0m 2ms/step - accuracy: 0.9481 - loss: 0.1421 \n",
      "Epoch 35/100\n",
      "\u001B[1m13/13\u001B[0m \u001B[32m━━━━━━━━━━━━━━━━━━━━\u001B[0m\u001B[37m\u001B[0m \u001B[1m0s\u001B[0m 2ms/step - accuracy: 0.9536 - loss: 0.1387 \n",
      "Epoch 36/100\n",
      "\u001B[1m13/13\u001B[0m \u001B[32m━━━━━━━━━━━━━━━━━━━━\u001B[0m\u001B[37m\u001B[0m \u001B[1m0s\u001B[0m 2ms/step - accuracy: 0.9655 - loss: 0.1327 \n",
      "Epoch 37/100\n",
      "\u001B[1m13/13\u001B[0m \u001B[32m━━━━━━━━━━━━━━━━━━━━\u001B[0m\u001B[37m\u001B[0m \u001B[1m0s\u001B[0m 2ms/step - accuracy: 0.9561 - loss: 0.1335 \n",
      "Epoch 38/100\n",
      "\u001B[1m13/13\u001B[0m \u001B[32m━━━━━━━━━━━━━━━━━━━━\u001B[0m\u001B[37m\u001B[0m \u001B[1m0s\u001B[0m 2ms/step - accuracy: 0.9461 - loss: 0.1485 \n",
      "Epoch 39/100\n",
      "\u001B[1m13/13\u001B[0m \u001B[32m━━━━━━━━━━━━━━━━━━━━\u001B[0m\u001B[37m\u001B[0m \u001B[1m0s\u001B[0m 2ms/step - accuracy: 0.9499 - loss: 0.1410 \n",
      "Epoch 40/100\n",
      "\u001B[1m13/13\u001B[0m \u001B[32m━━━━━━━━━━━━━━━━━━━━\u001B[0m\u001B[37m\u001B[0m \u001B[1m0s\u001B[0m 2ms/step - accuracy: 0.9566 - loss: 0.1315 \n",
      "Epoch 41/100\n",
      "\u001B[1m13/13\u001B[0m \u001B[32m━━━━━━━━━━━━━━━━━━━━\u001B[0m\u001B[37m\u001B[0m \u001B[1m0s\u001B[0m 2ms/step - accuracy: 0.9507 - loss: 0.1447 \n",
      "Epoch 42/100\n",
      "\u001B[1m13/13\u001B[0m \u001B[32m━━━━━━━━━━━━━━━━━━━━\u001B[0m\u001B[37m\u001B[0m \u001B[1m0s\u001B[0m 2ms/step - accuracy: 0.9633 - loss: 0.1190 \n",
      "Epoch 43/100\n",
      "\u001B[1m13/13\u001B[0m \u001B[32m━━━━━━━━━━━━━━━━━━━━\u001B[0m\u001B[37m\u001B[0m \u001B[1m0s\u001B[0m 2ms/step - accuracy: 0.9549 - loss: 0.1437 \n",
      "Epoch 44/100\n",
      "\u001B[1m13/13\u001B[0m \u001B[32m━━━━━━━━━━━━━━━━━━━━\u001B[0m\u001B[37m\u001B[0m \u001B[1m0s\u001B[0m 2ms/step - accuracy: 0.9592 - loss: 0.1200 \n",
      "Epoch 45/100\n",
      "\u001B[1m13/13\u001B[0m \u001B[32m━━━━━━━━━━━━━━━━━━━━\u001B[0m\u001B[37m\u001B[0m \u001B[1m0s\u001B[0m 2ms/step - accuracy: 0.9518 - loss: 0.1320 \n",
      "Epoch 46/100\n",
      "\u001B[1m13/13\u001B[0m \u001B[32m━━━━━━━━━━━━━━━━━━━━\u001B[0m\u001B[37m\u001B[0m \u001B[1m0s\u001B[0m 2ms/step - accuracy: 0.9540 - loss: 0.1323 \n",
      "Epoch 47/100\n",
      "\u001B[1m13/13\u001B[0m \u001B[32m━━━━━━━━━━━━━━━━━━━━\u001B[0m\u001B[37m\u001B[0m \u001B[1m0s\u001B[0m 2ms/step - accuracy: 0.9599 - loss: 0.1238 \n",
      "Epoch 48/100\n",
      "\u001B[1m13/13\u001B[0m \u001B[32m━━━━━━━━━━━━━━━━━━━━\u001B[0m\u001B[37m\u001B[0m \u001B[1m0s\u001B[0m 2ms/step - accuracy: 0.9589 - loss: 0.1311 \n",
      "Epoch 49/100\n",
      "\u001B[1m13/13\u001B[0m \u001B[32m━━━━━━━━━━━━━━━━━━━━\u001B[0m\u001B[37m\u001B[0m \u001B[1m0s\u001B[0m 2ms/step - accuracy: 0.9630 - loss: 0.1420 \n",
      "Epoch 50/100\n",
      "\u001B[1m13/13\u001B[0m \u001B[32m━━━━━━━━━━━━━━━━━━━━\u001B[0m\u001B[37m\u001B[0m \u001B[1m0s\u001B[0m 2ms/step - accuracy: 0.9624 - loss: 0.1102 \n",
      "Epoch 51/100\n",
      "\u001B[1m13/13\u001B[0m \u001B[32m━━━━━━━━━━━━━━━━━━━━\u001B[0m\u001B[37m\u001B[0m \u001B[1m0s\u001B[0m 2ms/step - accuracy: 0.9546 - loss: 0.1157 \n",
      "Epoch 52/100\n",
      "\u001B[1m13/13\u001B[0m \u001B[32m━━━━━━━━━━━━━━━━━━━━\u001B[0m\u001B[37m\u001B[0m \u001B[1m0s\u001B[0m 2ms/step - accuracy: 0.9634 - loss: 0.1218 \n",
      "Epoch 53/100\n",
      "\u001B[1m13/13\u001B[0m \u001B[32m━━━━━━━━━━━━━━━━━━━━\u001B[0m\u001B[37m\u001B[0m \u001B[1m0s\u001B[0m 2ms/step - accuracy: 0.9566 - loss: 0.1280 \n",
      "Epoch 54/100\n",
      "\u001B[1m13/13\u001B[0m \u001B[32m━━━━━━━━━━━━━━━━━━━━\u001B[0m\u001B[37m\u001B[0m \u001B[1m0s\u001B[0m 2ms/step - accuracy: 0.9652 - loss: 0.1101 \n",
      "Epoch 55/100\n",
      "\u001B[1m13/13\u001B[0m \u001B[32m━━━━━━━━━━━━━━━━━━━━\u001B[0m\u001B[37m\u001B[0m \u001B[1m0s\u001B[0m 2ms/step - accuracy: 0.9693 - loss: 0.1052 \n",
      "Epoch 56/100\n",
      "\u001B[1m13/13\u001B[0m \u001B[32m━━━━━━━━━━━━━━━━━━━━\u001B[0m\u001B[37m\u001B[0m \u001B[1m0s\u001B[0m 2ms/step - accuracy: 0.9660 - loss: 0.1102 \n",
      "Epoch 57/100\n",
      "\u001B[1m13/13\u001B[0m \u001B[32m━━━━━━━━━━━━━━━━━━━━\u001B[0m\u001B[37m\u001B[0m \u001B[1m0s\u001B[0m 2ms/step - accuracy: 0.9609 - loss: 0.1226 \n",
      "Epoch 58/100\n",
      "\u001B[1m13/13\u001B[0m \u001B[32m━━━━━━━━━━━━━━━━━━━━\u001B[0m\u001B[37m\u001B[0m \u001B[1m0s\u001B[0m 2ms/step - accuracy: 0.9774 - loss: 0.0921 \n",
      "Epoch 59/100\n",
      "\u001B[1m13/13\u001B[0m \u001B[32m━━━━━━━━━━━━━━━━━━━━\u001B[0m\u001B[37m\u001B[0m \u001B[1m0s\u001B[0m 2ms/step - accuracy: 0.9610 - loss: 0.1133 \n",
      "Epoch 60/100\n",
      "\u001B[1m13/13\u001B[0m \u001B[32m━━━━━━━━━━━━━━━━━━━━\u001B[0m\u001B[37m\u001B[0m \u001B[1m0s\u001B[0m 2ms/step - accuracy: 0.9630 - loss: 0.1193 \n",
      "Epoch 61/100\n",
      "\u001B[1m13/13\u001B[0m \u001B[32m━━━━━━━━━━━━━━━━━━━━\u001B[0m\u001B[37m\u001B[0m \u001B[1m0s\u001B[0m 2ms/step - accuracy: 0.9588 - loss: 0.1140 \n",
      "Epoch 62/100\n",
      "\u001B[1m13/13\u001B[0m \u001B[32m━━━━━━━━━━━━━━━━━━━━\u001B[0m\u001B[37m\u001B[0m \u001B[1m0s\u001B[0m 2ms/step - accuracy: 0.9665 - loss: 0.1135 \n",
      "Epoch 63/100\n",
      "\u001B[1m13/13\u001B[0m \u001B[32m━━━━━━━━━━━━━━━━━━━━\u001B[0m\u001B[37m\u001B[0m \u001B[1m0s\u001B[0m 2ms/step - accuracy: 0.9558 - loss: 0.1229 \n",
      "Epoch 64/100\n",
      "\u001B[1m13/13\u001B[0m \u001B[32m━━━━━━━━━━━━━━━━━━━━\u001B[0m\u001B[37m\u001B[0m \u001B[1m0s\u001B[0m 2ms/step - accuracy: 0.9626 - loss: 0.1065 \n",
      "Epoch 65/100\n",
      "\u001B[1m13/13\u001B[0m \u001B[32m━━━━━━━━━━━━━━━━━━━━\u001B[0m\u001B[37m\u001B[0m \u001B[1m0s\u001B[0m 2ms/step - accuracy: 0.9646 - loss: 0.1026 \n",
      "Epoch 66/100\n",
      "\u001B[1m13/13\u001B[0m \u001B[32m━━━━━━━━━━━━━━━━━━━━\u001B[0m\u001B[37m\u001B[0m \u001B[1m0s\u001B[0m 2ms/step - accuracy: 0.9756 - loss: 0.0999 \n",
      "Epoch 67/100\n",
      "\u001B[1m13/13\u001B[0m \u001B[32m━━━━━━━━━━━━━━━━━━━━\u001B[0m\u001B[37m\u001B[0m \u001B[1m0s\u001B[0m 2ms/step - accuracy: 0.9620 - loss: 0.1122 \n",
      "Epoch 68/100\n",
      "\u001B[1m13/13\u001B[0m \u001B[32m━━━━━━━━━━━━━━━━━━━━\u001B[0m\u001B[37m\u001B[0m \u001B[1m0s\u001B[0m 2ms/step - accuracy: 0.9810 - loss: 0.0970 \n",
      "Epoch 69/100\n",
      "\u001B[1m13/13\u001B[0m \u001B[32m━━━━━━━━━━━━━━━━━━━━\u001B[0m\u001B[37m\u001B[0m \u001B[1m0s\u001B[0m 2ms/step - accuracy: 0.9719 - loss: 0.0990 \n",
      "Epoch 70/100\n",
      "\u001B[1m13/13\u001B[0m \u001B[32m━━━━━━━━━━━━━━━━━━━━\u001B[0m\u001B[37m\u001B[0m \u001B[1m0s\u001B[0m 2ms/step - accuracy: 0.9464 - loss: 0.1231 \n",
      "Epoch 71/100\n",
      "\u001B[1m13/13\u001B[0m \u001B[32m━━━━━━━━━━━━━━━━━━━━\u001B[0m\u001B[37m\u001B[0m \u001B[1m0s\u001B[0m 2ms/step - accuracy: 0.9713 - loss: 0.0945 \n",
      "Epoch 72/100\n",
      "\u001B[1m13/13\u001B[0m \u001B[32m━━━━━━━━━━━━━━━━━━━━\u001B[0m\u001B[37m\u001B[0m \u001B[1m0s\u001B[0m 2ms/step - accuracy: 0.9728 - loss: 0.0914 \n",
      "Epoch 73/100\n",
      "\u001B[1m13/13\u001B[0m \u001B[32m━━━━━━━━━━━━━━━━━━━━\u001B[0m\u001B[37m\u001B[0m \u001B[1m0s\u001B[0m 2ms/step - accuracy: 0.9730 - loss: 0.1015 \n",
      "Epoch 74/100\n",
      "\u001B[1m13/13\u001B[0m \u001B[32m━━━━━━━━━━━━━━━━━━━━\u001B[0m\u001B[37m\u001B[0m \u001B[1m0s\u001B[0m 2ms/step - accuracy: 0.9745 - loss: 0.1048 \n",
      "Epoch 75/100\n",
      "\u001B[1m13/13\u001B[0m \u001B[32m━━━━━━━━━━━━━━━━━━━━\u001B[0m\u001B[37m\u001B[0m \u001B[1m0s\u001B[0m 2ms/step - accuracy: 0.9742 - loss: 0.1017 \n",
      "Epoch 76/100\n",
      "\u001B[1m13/13\u001B[0m \u001B[32m━━━━━━━━━━━━━━━━━━━━\u001B[0m\u001B[37m\u001B[0m \u001B[1m0s\u001B[0m 2ms/step - accuracy: 0.9706 - loss: 0.1139 \n",
      "Epoch 77/100\n",
      "\u001B[1m13/13\u001B[0m \u001B[32m━━━━━━━━━━━━━━━━━━━━\u001B[0m\u001B[37m\u001B[0m \u001B[1m0s\u001B[0m 2ms/step - accuracy: 0.9743 - loss: 0.0943 \n",
      "Epoch 78/100\n",
      "\u001B[1m13/13\u001B[0m \u001B[32m━━━━━━━━━━━━━━━━━━━━\u001B[0m\u001B[37m\u001B[0m \u001B[1m0s\u001B[0m 2ms/step - accuracy: 0.9787 - loss: 0.0941 \n",
      "Epoch 79/100\n",
      "\u001B[1m13/13\u001B[0m \u001B[32m━━━━━━━━━━━━━━━━━━━━\u001B[0m\u001B[37m\u001B[0m \u001B[1m0s\u001B[0m 2ms/step - accuracy: 0.9742 - loss: 0.1019 \n",
      "Epoch 80/100\n",
      "\u001B[1m13/13\u001B[0m \u001B[32m━━━━━━━━━━━━━━━━━━━━\u001B[0m\u001B[37m\u001B[0m \u001B[1m0s\u001B[0m 2ms/step - accuracy: 0.9792 - loss: 0.1004 \n",
      "Epoch 81/100\n",
      "\u001B[1m13/13\u001B[0m \u001B[32m━━━━━━━━━━━━━━━━━━━━\u001B[0m\u001B[37m\u001B[0m \u001B[1m0s\u001B[0m 2ms/step - accuracy: 0.9813 - loss: 0.0913 \n",
      "Epoch 82/100\n",
      "\u001B[1m13/13\u001B[0m \u001B[32m━━━━━━━━━━━━━━━━━━━━\u001B[0m\u001B[37m\u001B[0m \u001B[1m0s\u001B[0m 2ms/step - accuracy: 0.9769 - loss: 0.1089 \n",
      "Epoch 83/100\n",
      "\u001B[1m13/13\u001B[0m \u001B[32m━━━━━━━━━━━━━━━━━━━━\u001B[0m\u001B[37m\u001B[0m \u001B[1m0s\u001B[0m 2ms/step - accuracy: 0.9783 - loss: 0.1002 \n",
      "Epoch 84/100\n",
      "\u001B[1m13/13\u001B[0m \u001B[32m━━━━━━━━━━━━━━━━━━━━\u001B[0m\u001B[37m\u001B[0m \u001B[1m0s\u001B[0m 2ms/step - accuracy: 0.9864 - loss: 0.0829 \n",
      "Epoch 85/100\n",
      "\u001B[1m13/13\u001B[0m \u001B[32m━━━━━━━━━━━━━━━━━━━━\u001B[0m\u001B[37m\u001B[0m \u001B[1m0s\u001B[0m 2ms/step - accuracy: 0.9669 - loss: 0.1114 \n",
      "Epoch 86/100\n",
      "\u001B[1m13/13\u001B[0m \u001B[32m━━━━━━━━━━━━━━━━━━━━\u001B[0m\u001B[37m\u001B[0m \u001B[1m0s\u001B[0m 2ms/step - accuracy: 0.9686 - loss: 0.1098 \n",
      "Epoch 87/100\n",
      "\u001B[1m13/13\u001B[0m \u001B[32m━━━━━━━━━━━━━━━━━━━━\u001B[0m\u001B[37m\u001B[0m \u001B[1m0s\u001B[0m 2ms/step - accuracy: 0.9736 - loss: 0.0955 \n",
      "Epoch 88/100\n",
      "\u001B[1m13/13\u001B[0m \u001B[32m━━━━━━━━━━━━━━━━━━━━\u001B[0m\u001B[37m\u001B[0m \u001B[1m0s\u001B[0m 2ms/step - accuracy: 0.9762 - loss: 0.0932 \n",
      "Epoch 89/100\n",
      "\u001B[1m13/13\u001B[0m \u001B[32m━━━━━━━━━━━━━━━━━━━━\u001B[0m\u001B[37m\u001B[0m \u001B[1m0s\u001B[0m 2ms/step - accuracy: 0.9819 - loss: 0.0861 \n",
      "Epoch 90/100\n",
      "\u001B[1m13/13\u001B[0m \u001B[32m━━━━━━━━━━━━━━━━━━━━\u001B[0m\u001B[37m\u001B[0m \u001B[1m0s\u001B[0m 2ms/step - accuracy: 0.9809 - loss: 0.0907 \n",
      "Epoch 91/100\n",
      "\u001B[1m13/13\u001B[0m \u001B[32m━━━━━━━━━━━━━━━━━━━━\u001B[0m\u001B[37m\u001B[0m \u001B[1m0s\u001B[0m 2ms/step - accuracy: 0.9825 - loss: 0.0779 \n",
      "Epoch 92/100\n",
      "\u001B[1m13/13\u001B[0m \u001B[32m━━━━━━━━━━━━━━━━━━━━\u001B[0m\u001B[37m\u001B[0m \u001B[1m0s\u001B[0m 2ms/step - accuracy: 0.9810 - loss: 0.0928 \n",
      "Epoch 93/100\n",
      "\u001B[1m13/13\u001B[0m \u001B[32m━━━━━━━━━━━━━━━━━━━━\u001B[0m\u001B[37m\u001B[0m \u001B[1m0s\u001B[0m 2ms/step - accuracy: 0.9829 - loss: 0.1038 \n",
      "Epoch 94/100\n",
      "\u001B[1m13/13\u001B[0m \u001B[32m━━━━━━━━━━━━━━━━━━━━\u001B[0m\u001B[37m\u001B[0m \u001B[1m0s\u001B[0m 2ms/step - accuracy: 0.9739 - loss: 0.1067 \n",
      "Epoch 95/100\n",
      "\u001B[1m13/13\u001B[0m \u001B[32m━━━━━━━━━━━━━━━━━━━━\u001B[0m\u001B[37m\u001B[0m \u001B[1m0s\u001B[0m 2ms/step - accuracy: 0.9824 - loss: 0.0873 \n",
      "Epoch 96/100\n",
      "\u001B[1m13/13\u001B[0m \u001B[32m━━━━━━━━━━━━━━━━━━━━\u001B[0m\u001B[37m\u001B[0m \u001B[1m0s\u001B[0m 2ms/step - accuracy: 0.9814 - loss: 0.0962 \n",
      "Epoch 97/100\n",
      "\u001B[1m13/13\u001B[0m \u001B[32m━━━━━━━━━━━━━━━━━━━━\u001B[0m\u001B[37m\u001B[0m \u001B[1m0s\u001B[0m 2ms/step - accuracy: 0.9682 - loss: 0.1075 \n",
      "Epoch 98/100\n",
      "\u001B[1m13/13\u001B[0m \u001B[32m━━━━━━━━━━━━━━━━━━━━\u001B[0m\u001B[37m\u001B[0m \u001B[1m0s\u001B[0m 2ms/step - accuracy: 0.9722 - loss: 0.0919 \n",
      "Epoch 99/100\n",
      "\u001B[1m13/13\u001B[0m \u001B[32m━━━━━━━━━━━━━━━━━━━━\u001B[0m\u001B[37m\u001B[0m \u001B[1m0s\u001B[0m 2ms/step - accuracy: 0.9752 - loss: 0.0828 \n",
      "Epoch 100/100\n",
      "\u001B[1m13/13\u001B[0m \u001B[32m━━━━━━━━━━━━━━━━━━━━\u001B[0m\u001B[37m\u001B[0m \u001B[1m0s\u001B[0m 2ms/step - accuracy: 0.9721 - loss: 0.1135 \n"
     ]
    },
    {
     "data": {
      "text/plain": "<keras.src.callbacks.history.History at 0x1bc8960bf80>"
     },
     "execution_count": 46,
     "metadata": {},
     "output_type": "execute_result"
    }
   ],
   "source": [
    "model.fit(X_train, y_train, epochs=100)"
   ],
   "metadata": {
    "collapsed": false,
    "ExecuteTime": {
     "end_time": "2024-04-02T16:00:57.589696Z",
     "start_time": "2024-04-02T16:00:45.987246Z"
    }
   },
   "id": "9fd3ba7d03c762c",
   "execution_count": 46
  },
  {
   "cell_type": "markdown",
   "source": [
    "Calcoliamo e printiamo la loss e l'accuratezza sui dati di test:"
   ],
   "metadata": {
    "collapsed": false
   },
   "id": "660103880fb9e7c4"
  },
  {
   "cell_type": "code",
   "outputs": [
    {
     "name": "stdout",
     "output_type": "stream",
     "text": [
      "\u001B[1m6/6\u001B[0m \u001B[32m━━━━━━━━━━━━━━━━━━━━\u001B[0m\u001B[37m\u001B[0m \u001B[1m0s\u001B[0m 3ms/step - accuracy: 0.9664 - loss: 0.0852  \n",
      "Loss sul test set: 0.0947\n",
      "Accuracy sul test set: 0.9591\n"
     ]
    }
   ],
   "source": [
    "loss, acc = model.evaluate(X_test, y_test)\n",
    "print(\"Loss sul test set: %.4f\" % loss)\n",
    "print(\"Accuracy sul test set: %.4f\" % acc)"
   ],
   "metadata": {
    "collapsed": false,
    "ExecuteTime": {
     "end_time": "2024-04-02T16:02:20.986759Z",
     "start_time": "2024-04-02T16:02:20.718223Z"
    }
   },
   "id": "fee38bc9e14ee032",
   "execution_count": 47
  },
  {
   "cell_type": "markdown",
   "source": [
    "Importiamo e grafichiamo la matrice di confusione per avere un'idea generale più precisa sulle misure di predizione fatte tramite il seguente modello"
   ],
   "metadata": {
    "collapsed": false
   },
   "id": "bacb4b58e9a01cee"
  },
  {
   "cell_type": "code",
   "outputs": [
    {
     "name": "stdout",
     "output_type": "stream",
     "text": [
      "\u001B[1m6/6\u001B[0m \u001B[32m━━━━━━━━━━━━━━━━━━━━\u001B[0m\u001B[37m\u001B[0m \u001B[1m0s\u001B[0m 9ms/step \n"
     ]
    },
    {
     "data": {
      "text/plain": "<Figure size 800x600 with 2 Axes>",
      "image/png": "[encoded data removed]"
     },
     "metadata": {},
     "output_type": "display_data"
    }
   ],
   "source": [
    "y_pred=model.predict(X_test)\n",
    "y_pred_int = [1 if pred > 0.5 else 0 for pred in y_pred]\n",
    "cm = confusion_matrix(y_test, y_pred_int)\n",
    "labels = ['Benigno', 'Maligno']\n",
    "plt.figure(figsize=(8, 6))\n",
    "sns.heatmap(cm, annot=True, fmt=\"d\", cmap=\"Blues\", xticklabels=labels, yticklabels=labels)\n",
    "plt.xlabel('Valori predetti')\n",
    "plt.ylabel('Valori reali')\n",
    "plt.title('Matrice di confusione')\n",
    "plt.show()"
   ],
   "metadata": {
    "collapsed": false,
    "ExecuteTime": {
     "end_time": "2024-04-02T16:03:11.904249Z",
     "start_time": "2024-04-02T16:03:11.418436Z"
    }
   },
   "id": "1f8253081f7bc32f",
   "execution_count": 48
  },
  {
   "cell_type": "markdown",
   "source": [
    "Il nostro modello ha dunque:\n",
    "* sbagliato a categorizzare 4 tumori maligni come tumori benigni;\n",
    "* sbagliato a categorizzare 3 tumori benigni come tumori maligni;\n",
    "* correttamente categorizzato 105 tumori benigni su 108;\n",
    "* correttamente categorizzato 59 tumori maligni su 63."
   ],
   "metadata": {
    "collapsed": false
   },
   "id": "db2315768ef7ae43"
  },
  {
   "cell_type": "markdown",
   "source": [
    "### Rete neurale densa profonda.\n",
    "Importiamo ora un modello di rete neurale densa profonda, cioè che avra più di uno strato denso nascosto, quindi il seguente modello conterrà:\n",
    "* 30 **nodi di input**, cioè pari al numero di features del dataframe, con funzione di attivazione **relu**;\n",
    "* 12 **nodi intermedi (nascosti)**, con funzione di attivazione **relu**;\n",
    "* 8 **nodi intermedi (nascosti)**, con funzione di attivazione **relu**;\n",
    "* 4 **nodi intermedi (nascosti)**, con funzione di attivazione **relu**;\n",
    "* 1 **nodo di output** essendo una categorizzazione binaria, con funzione di attivazione **sigmoidale**."
   ],
   "metadata": {
    "collapsed": false
   },
   "id": "69d5354b3dd084a9"
  },
  {
   "cell_type": "code",
   "outputs": [
    {
     "name": "stderr",
     "output_type": "stream",
     "text": [
      "C:\\Users\\simon\\AppData\\Local\\Programs\\Python\\Python312\\Lib\\site-packages\\keras\\src\\layers\\core\\dense.py:88: UserWarning: Do not pass an `input_shape`/`input_dim` argument to a layer. When using Sequential models, prefer using an `Input(shape)` object as the first layer in the model instead.\n",
      "  super().__init__(activity_regularizer=activity_regularizer, **kwargs)\n"
     ]
    },
    {
     "data": {
      "text/plain": "\u001B[1mModel: \"sequential_9\"\u001B[0m\n",
      "text/html": "<pre style=\"white-space:pre;overflow-x:auto;line-height:normal;font-family:Menlo,'DejaVu Sans Mono',consolas,'Courier New',monospace\"><span style=\"font-weight: bold\">Model: \"sequential_9\"</span>\n</pre>\n"
     },
     "metadata": {},
     "output_type": "display_data"
    },
    {
     "data": {
      "text/plain": "┏━━━━━━━━━━━━━━━━━━━━━━━━━━━━━━━━━┳━━━━━━━━━━━━━━━━━━━━━━━━┳━━━━━━━━━━━━━━━┓\n┃\u001B[1m \u001B[0m\u001B[1mLayer (type)                   \u001B[0m\u001B[1m \u001B[0m┃\u001B[1m \u001B[0m\u001B[1mOutput Shape          \u001B[0m\u001B[1m \u001B[0m┃\u001B[1m \u001B[0m\u001B[1m      Param #\u001B[0m\u001B[1m \u001B[0m┃\n┡━━━━━━━━━━━━━━━━━━━━━━━━━━━━━━━━━╇━━━━━━━━━━━━━━━━━━━━━━━━╇━━━━━━━━━━━━━━━┩\n│ dense_33 (\u001B[38;5;33mDense\u001B[0m)                │ (\u001B[38;5;45mNone\u001B[0m, \u001B[38;5;34m12\u001B[0m)             │            \u001B[38;5;34m60\u001B[0m │\n├─────────────────────────────────┼────────────────────────┼───────────────┤\n│ dense_34 (\u001B[38;5;33mDense\u001B[0m)                │ (\u001B[38;5;45mNone\u001B[0m, \u001B[38;5;34m8\u001B[0m)              │           \u001B[38;5;34m104\u001B[0m │\n├─────────────────────────────────┼────────────────────────┼───────────────┤\n│ dense_35 (\u001B[38;5;33mDense\u001B[0m)                │ (\u001B[38;5;45mNone\u001B[0m, \u001B[38;5;34m4\u001B[0m)              │            \u001B[38;5;34m36\u001B[0m │\n├─────────────────────────────────┼────────────────────────┼───────────────┤\n│ dense_36 (\u001B[38;5;33mDense\u001B[0m)                │ (\u001B[38;5;45mNone\u001B[0m, \u001B[38;5;34m1\u001B[0m)              │             \u001B[38;5;34m5\u001B[0m │\n└─────────────────────────────────┴────────────────────────┴───────────────┘\n",
      "text/html": "<pre style=\"white-space:pre;overflow-x:auto;line-height:normal;font-family:Menlo,'DejaVu Sans Mono',consolas,'Courier New',monospace\">┏━━━━━━━━━━━━━━━━━━━━━━━━━━━━━━━━━┳━━━━━━━━━━━━━━━━━━━━━━━━┳━━━━━━━━━━━━━━━┓\n┃<span style=\"font-weight: bold\"> Layer (type)                    </span>┃<span style=\"font-weight: bold\"> Output Shape           </span>┃<span style=\"font-weight: bold\">       Param # </span>┃\n┡━━━━━━━━━━━━━━━━━━━━━━━━━━━━━━━━━╇━━━━━━━━━━━━━━━━━━━━━━━━╇━━━━━━━━━━━━━━━┩\n│ dense_33 (<span style=\"color: #0087ff; text-decoration-color: #0087ff\">Dense</span>)                │ (<span style=\"color: #00d7ff; text-decoration-color: #00d7ff\">None</span>, <span style=\"color: #00af00; text-decoration-color: #00af00\">12</span>)             │            <span style=\"color: #00af00; text-decoration-color: #00af00\">60</span> │\n├─────────────────────────────────┼────────────────────────┼───────────────┤\n│ dense_34 (<span style=\"color: #0087ff; text-decoration-color: #0087ff\">Dense</span>)                │ (<span style=\"color: #00d7ff; text-decoration-color: #00d7ff\">None</span>, <span style=\"color: #00af00; text-decoration-color: #00af00\">8</span>)              │           <span style=\"color: #00af00; text-decoration-color: #00af00\">104</span> │\n├─────────────────────────────────┼────────────────────────┼───────────────┤\n│ dense_35 (<span style=\"color: #0087ff; text-decoration-color: #0087ff\">Dense</span>)                │ (<span style=\"color: #00d7ff; text-decoration-color: #00d7ff\">None</span>, <span style=\"color: #00af00; text-decoration-color: #00af00\">4</span>)              │            <span style=\"color: #00af00; text-decoration-color: #00af00\">36</span> │\n├─────────────────────────────────┼────────────────────────┼───────────────┤\n│ dense_36 (<span style=\"color: #0087ff; text-decoration-color: #0087ff\">Dense</span>)                │ (<span style=\"color: #00d7ff; text-decoration-color: #00d7ff\">None</span>, <span style=\"color: #00af00; text-decoration-color: #00af00\">1</span>)              │             <span style=\"color: #00af00; text-decoration-color: #00af00\">5</span> │\n└─────────────────────────────────┴────────────────────────┴───────────────┘\n</pre>\n"
     },
     "metadata": {},
     "output_type": "display_data"
    },
    {
     "data": {
      "text/plain": "\u001B[1m Total params: \u001B[0m\u001B[38;5;34m205\u001B[0m (820.00 B)\n",
      "text/html": "<pre style=\"white-space:pre;overflow-x:auto;line-height:normal;font-family:Menlo,'DejaVu Sans Mono',consolas,'Courier New',monospace\"><span style=\"font-weight: bold\"> Total params: </span><span style=\"color: #00af00; text-decoration-color: #00af00\">205</span> (820.00 B)\n</pre>\n"
     },
     "metadata": {},
     "output_type": "display_data"
    },
    {
     "data": {
      "text/plain": "\u001B[1m Trainable params: \u001B[0m\u001B[38;5;34m205\u001B[0m (820.00 B)\n",
      "text/html": "<pre style=\"white-space:pre;overflow-x:auto;line-height:normal;font-family:Menlo,'DejaVu Sans Mono',consolas,'Courier New',monospace\"><span style=\"font-weight: bold\"> Trainable params: </span><span style=\"color: #00af00; text-decoration-color: #00af00\">205</span> (820.00 B)\n</pre>\n"
     },
     "metadata": {},
     "output_type": "display_data"
    },
    {
     "data": {
      "text/plain": "\u001B[1m Non-trainable params: \u001B[0m\u001B[38;5;34m0\u001B[0m (0.00 B)\n",
      "text/html": "<pre style=\"white-space:pre;overflow-x:auto;line-height:normal;font-family:Menlo,'DejaVu Sans Mono',consolas,'Courier New',monospace\"><span style=\"font-weight: bold\"> Non-trainable params: </span><span style=\"color: #00af00; text-decoration-color: #00af00\">0</span> (0.00 B)\n</pre>\n"
     },
     "metadata": {},
     "output_type": "display_data"
    }
   ],
   "source": [
    "model2 = Sequential()\n",
    "\n",
    "model2.add(Dense(12, input_dim=X_train.shape[1], activation=\"relu\"))\n",
    "model2.add(Dense(8, activation=\"relu\"))\n",
    "model2.add(Dense(4, activation=\"relu\"))\n",
    "model2.add(Dense(1, activation=\"sigmoid\"))\n",
    "model2.compile(optimizer='sgd', loss='binary_crossentropy', metrics=['accuracy'])\n",
    "model2.summary()"
   ],
   "metadata": {
    "collapsed": false,
    "ExecuteTime": {
     "end_time": "2024-04-02T16:37:47.591887Z",
     "start_time": "2024-04-02T16:37:47.491883Z"
    }
   },
   "id": "fec02632410cd820",
   "execution_count": 71
  },
  {
   "cell_type": "code",
   "outputs": [
    {
     "name": "stdout",
     "output_type": "stream",
     "text": [
      "Epoch 1/150\n",
      "\u001B[1m13/13\u001B[0m \u001B[32m━━━━━━━━━━━━━━━━━━━━\u001B[0m\u001B[37m\u001B[0m \u001B[1m1s\u001B[0m 2ms/step - accuracy: 0.3699 - loss: 0.6506\n",
      "Epoch 2/150\n",
      "\u001B[1m13/13\u001B[0m \u001B[32m━━━━━━━━━━━━━━━━━━━━\u001B[0m\u001B[37m\u001B[0m \u001B[1m0s\u001B[0m 2ms/step - accuracy: 0.4149 - loss: 0.6240 \n",
      "Epoch 3/150\n",
      "\u001B[1m13/13\u001B[0m \u001B[32m━━━━━━━━━━━━━━━━━━━━\u001B[0m\u001B[37m\u001B[0m \u001B[1m0s\u001B[0m 2ms/step - accuracy: 0.4841 - loss: 0.6245 \n",
      "Epoch 4/150\n",
      "\u001B[1m13/13\u001B[0m \u001B[32m━━━━━━━━━━━━━━━━━━━━\u001B[0m\u001B[37m\u001B[0m \u001B[1m0s\u001B[0m 2ms/step - accuracy: 0.6027 - loss: 0.5826 \n",
      "Epoch 5/150\n",
      "\u001B[1m13/13\u001B[0m \u001B[32m━━━━━━━━━━━━━━━━━━━━\u001B[0m\u001B[37m\u001B[0m \u001B[1m0s\u001B[0m 2ms/step - accuracy: 0.6458 - loss: 0.5897 \n",
      "Epoch 6/150\n",
      "\u001B[1m13/13\u001B[0m \u001B[32m━━━━━━━━━━━━━━━━━━━━\u001B[0m\u001B[37m\u001B[0m \u001B[1m0s\u001B[0m 2ms/step - accuracy: 0.7543 - loss: 0.5800 \n",
      "Epoch 7/150\n",
      "\u001B[1m13/13\u001B[0m \u001B[32m━━━━━━━━━━━━━━━━━━━━\u001B[0m\u001B[37m\u001B[0m \u001B[1m0s\u001B[0m 2ms/step - accuracy: 0.8026 - loss: 0.5654 \n",
      "Epoch 8/150\n",
      "\u001B[1m13/13\u001B[0m \u001B[32m━━━━━━━━━━━━━━━━━━━━\u001B[0m\u001B[37m\u001B[0m \u001B[1m0s\u001B[0m 2ms/step - accuracy: 0.8289 - loss: 0.5402 \n",
      "Epoch 9/150\n",
      "\u001B[1m13/13\u001B[0m \u001B[32m━━━━━━━━━━━━━━━━━━━━\u001B[0m\u001B[37m\u001B[0m \u001B[1m0s\u001B[0m 2ms/step - accuracy: 0.8581 - loss: 0.5202 \n",
      "Epoch 10/150\n",
      "\u001B[1m13/13\u001B[0m \u001B[32m━━━━━━━━━━━━━━━━━━━━\u001B[0m\u001B[37m\u001B[0m \u001B[1m0s\u001B[0m 2ms/step - accuracy: 0.9204 - loss: 0.5089 \n",
      "Epoch 11/150\n",
      "\u001B[1m13/13\u001B[0m \u001B[32m━━━━━━━━━━━━━━━━━━━━\u001B[0m\u001B[37m\u001B[0m \u001B[1m0s\u001B[0m 2ms/step - accuracy: 0.9282 - loss: 0.4987 \n",
      "Epoch 12/150\n",
      "\u001B[1m13/13\u001B[0m \u001B[32m━━━━━━━━━━━━━━━━━━━━\u001B[0m\u001B[37m\u001B[0m \u001B[1m0s\u001B[0m 2ms/step - accuracy: 0.9177 - loss: 0.4915 \n",
      "Epoch 13/150\n",
      "\u001B[1m13/13\u001B[0m \u001B[32m━━━━━━━━━━━━━━━━━━━━\u001B[0m\u001B[37m\u001B[0m \u001B[1m0s\u001B[0m 2ms/step - accuracy: 0.9070 - loss: 0.4728 \n",
      "Epoch 14/150\n",
      "\u001B[1m13/13\u001B[0m \u001B[32m━━━━━━━━━━━━━━━━━━━━\u001B[0m\u001B[37m\u001B[0m \u001B[1m0s\u001B[0m 2ms/step - accuracy: 0.9274 - loss: 0.4640 \n",
      "Epoch 15/150\n",
      "\u001B[1m13/13\u001B[0m \u001B[32m━━━━━━━━━━━━━━━━━━━━\u001B[0m\u001B[37m\u001B[0m \u001B[1m0s\u001B[0m 2ms/step - accuracy: 0.9458 - loss: 0.4508 \n",
      "Epoch 16/150\n",
      "\u001B[1m13/13\u001B[0m \u001B[32m━━━━━━━━━━━━━━━━━━━━\u001B[0m\u001B[37m\u001B[0m \u001B[1m0s\u001B[0m 2ms/step - accuracy: 0.9391 - loss: 0.4286 \n",
      "Epoch 17/150\n",
      "\u001B[1m13/13\u001B[0m \u001B[32m━━━━━━━━━━━━━━━━━━━━\u001B[0m\u001B[37m\u001B[0m \u001B[1m0s\u001B[0m 2ms/step - accuracy: 0.9288 - loss: 0.4431 \n",
      "Epoch 18/150\n",
      "\u001B[1m13/13\u001B[0m \u001B[32m━━━━━━━━━━━━━━━━━━━━\u001B[0m\u001B[37m\u001B[0m \u001B[1m0s\u001B[0m 2ms/step - accuracy: 0.9221 - loss: 0.4351 \n",
      "Epoch 19/150\n",
      "\u001B[1m13/13\u001B[0m \u001B[32m━━━━━━━━━━━━━━━━━━━━\u001B[0m\u001B[37m\u001B[0m \u001B[1m0s\u001B[0m 2ms/step - accuracy: 0.9314 - loss: 0.4235 \n",
      "Epoch 20/150\n",
      "\u001B[1m13/13\u001B[0m \u001B[32m━━━━━━━━━━━━━━━━━━━━\u001B[0m\u001B[37m\u001B[0m \u001B[1m0s\u001B[0m 2ms/step - accuracy: 0.9370 - loss: 0.4284 \n",
      "Epoch 21/150\n",
      "\u001B[1m13/13\u001B[0m \u001B[32m━━━━━━━━━━━━━━━━━━━━\u001B[0m\u001B[37m\u001B[0m \u001B[1m0s\u001B[0m 2ms/step - accuracy: 0.9530 - loss: 0.4001 \n",
      "Epoch 22/150\n",
      "\u001B[1m13/13\u001B[0m \u001B[32m━━━━━━━━━━━━━━━━━━━━\u001B[0m\u001B[37m\u001B[0m \u001B[1m0s\u001B[0m 2ms/step - accuracy: 0.9427 - loss: 0.3959 \n",
      "Epoch 23/150\n",
      "\u001B[1m13/13\u001B[0m \u001B[32m━━━━━━━━━━━━━━━━━━━━\u001B[0m\u001B[37m\u001B[0m \u001B[1m0s\u001B[0m 2ms/step - accuracy: 0.9431 - loss: 0.3807 \n",
      "Epoch 24/150\n",
      "\u001B[1m13/13\u001B[0m \u001B[32m━━━━━━━━━━━━━━━━━━━━\u001B[0m\u001B[37m\u001B[0m \u001B[1m0s\u001B[0m 2ms/step - accuracy: 0.9413 - loss: 0.3825 \n",
      "Epoch 25/150\n",
      "\u001B[1m13/13\u001B[0m \u001B[32m━━━━━━━━━━━━━━━━━━━━\u001B[0m\u001B[37m\u001B[0m \u001B[1m0s\u001B[0m 2ms/step - accuracy: 0.9555 - loss: 0.3620 \n",
      "Epoch 26/150\n",
      "\u001B[1m13/13\u001B[0m \u001B[32m━━━━━━━━━━━━━━━━━━━━\u001B[0m\u001B[37m\u001B[0m \u001B[1m0s\u001B[0m 2ms/step - accuracy: 0.9377 - loss: 0.3638 \n",
      "Epoch 27/150\n",
      "\u001B[1m13/13\u001B[0m \u001B[32m━━━━━━━━━━━━━━━━━━━━\u001B[0m\u001B[37m\u001B[0m \u001B[1m0s\u001B[0m 2ms/step - accuracy: 0.9401 - loss: 0.3564 \n",
      "Epoch 28/150\n",
      "\u001B[1m13/13\u001B[0m \u001B[32m━━━━━━━━━━━━━━━━━━━━\u001B[0m\u001B[37m\u001B[0m \u001B[1m0s\u001B[0m 2ms/step - accuracy: 0.9589 - loss: 0.3489 \n",
      "Epoch 29/150\n",
      "\u001B[1m13/13\u001B[0m \u001B[32m━━━━━━━━━━━━━━━━━━━━\u001B[0m\u001B[37m\u001B[0m \u001B[1m0s\u001B[0m 2ms/step - accuracy: 0.9401 - loss: 0.3505 \n",
      "Epoch 30/150\n",
      "\u001B[1m13/13\u001B[0m \u001B[32m━━━━━━━━━━━━━━━━━━━━\u001B[0m\u001B[37m\u001B[0m \u001B[1m0s\u001B[0m 2ms/step - accuracy: 0.9610 - loss: 0.3336 \n",
      "Epoch 31/150\n",
      "\u001B[1m13/13\u001B[0m \u001B[32m━━━━━━━━━━━━━━━━━━━━\u001B[0m\u001B[37m\u001B[0m \u001B[1m0s\u001B[0m 2ms/step - accuracy: 0.9358 - loss: 0.3443 \n",
      "Epoch 32/150\n",
      "\u001B[1m13/13\u001B[0m \u001B[32m━━━━━━━━━━━━━━━━━━━━\u001B[0m\u001B[37m\u001B[0m \u001B[1m0s\u001B[0m 2ms/step - accuracy: 0.9503 - loss: 0.3315 \n",
      "Epoch 33/150\n",
      "\u001B[1m13/13\u001B[0m \u001B[32m━━━━━━━━━━━━━━━━━━━━\u001B[0m\u001B[37m\u001B[0m \u001B[1m0s\u001B[0m 2ms/step - accuracy: 0.9520 - loss: 0.3275 \n",
      "Epoch 34/150\n",
      "\u001B[1m13/13\u001B[0m \u001B[32m━━━━━━━━━━━━━━━━━━━━\u001B[0m\u001B[37m\u001B[0m \u001B[1m0s\u001B[0m 2ms/step - accuracy: 0.9524 - loss: 0.3249 \n",
      "Epoch 35/150\n",
      "\u001B[1m13/13\u001B[0m \u001B[32m━━━━━━━━━━━━━━━━━━━━\u001B[0m\u001B[37m\u001B[0m \u001B[1m0s\u001B[0m 2ms/step - accuracy: 0.9551 - loss: 0.3130 \n",
      "Epoch 36/150\n",
      "\u001B[1m13/13\u001B[0m \u001B[32m━━━━━━━━━━━━━━━━━━━━\u001B[0m\u001B[37m\u001B[0m \u001B[1m0s\u001B[0m 2ms/step - accuracy: 0.9421 - loss: 0.3204 \n",
      "Epoch 37/150\n",
      "\u001B[1m13/13\u001B[0m \u001B[32m━━━━━━━━━━━━━━━━━━━━\u001B[0m\u001B[37m\u001B[0m \u001B[1m0s\u001B[0m 2ms/step - accuracy: 0.9536 - loss: 0.3170 \n",
      "Epoch 38/150\n",
      "\u001B[1m13/13\u001B[0m \u001B[32m━━━━━━━━━━━━━━━━━━━━\u001B[0m\u001B[37m\u001B[0m \u001B[1m0s\u001B[0m 2ms/step - accuracy: 0.9603 - loss: 0.2998 \n",
      "Epoch 39/150\n",
      "\u001B[1m13/13\u001B[0m \u001B[32m━━━━━━━━━━━━━━━━━━━━\u001B[0m\u001B[37m\u001B[0m \u001B[1m0s\u001B[0m 2ms/step - accuracy: 0.9499 - loss: 0.3033 \n",
      "Epoch 40/150\n",
      "\u001B[1m13/13\u001B[0m \u001B[32m━━━━━━━━━━━━━━━━━━━━\u001B[0m\u001B[37m\u001B[0m \u001B[1m0s\u001B[0m 2ms/step - accuracy: 0.9424 - loss: 0.2974 \n",
      "Epoch 41/150\n",
      "\u001B[1m13/13\u001B[0m \u001B[32m━━━━━━━━━━━━━━━━━━━━\u001B[0m\u001B[37m\u001B[0m \u001B[1m0s\u001B[0m 2ms/step - accuracy: 0.9443 - loss: 0.2983 \n",
      "Epoch 42/150\n",
      "\u001B[1m13/13\u001B[0m \u001B[32m━━━━━━━━━━━━━━━━━━━━\u001B[0m\u001B[37m\u001B[0m \u001B[1m0s\u001B[0m 2ms/step - accuracy: 0.9533 - loss: 0.2929 \n",
      "Epoch 43/150\n",
      "\u001B[1m13/13\u001B[0m \u001B[32m━━━━━━━━━━━━━━━━━━━━\u001B[0m\u001B[37m\u001B[0m \u001B[1m0s\u001B[0m 2ms/step - accuracy: 0.9585 - loss: 0.2743 \n",
      "Epoch 44/150\n",
      "\u001B[1m13/13\u001B[0m \u001B[32m━━━━━━━━━━━━━━━━━━━━\u001B[0m\u001B[37m\u001B[0m \u001B[1m0s\u001B[0m 2ms/step - accuracy: 0.9433 - loss: 0.2839 \n",
      "Epoch 45/150\n",
      "\u001B[1m13/13\u001B[0m \u001B[32m━━━━━━━━━━━━━━━━━━━━\u001B[0m\u001B[37m\u001B[0m \u001B[1m0s\u001B[0m 2ms/step - accuracy: 0.9464 - loss: 0.2897 \n",
      "Epoch 46/150\n",
      "\u001B[1m13/13\u001B[0m \u001B[32m━━━━━━━━━━━━━━━━━━━━\u001B[0m\u001B[37m\u001B[0m \u001B[1m0s\u001B[0m 2ms/step - accuracy: 0.9475 - loss: 0.2854 \n",
      "Epoch 47/150\n",
      "\u001B[1m13/13\u001B[0m \u001B[32m━━━━━━━━━━━━━━━━━━━━\u001B[0m\u001B[37m\u001B[0m \u001B[1m0s\u001B[0m 2ms/step - accuracy: 0.9569 - loss: 0.2737 \n",
      "Epoch 48/150\n",
      "\u001B[1m13/13\u001B[0m \u001B[32m━━━━━━━━━━━━━━━━━━━━\u001B[0m\u001B[37m\u001B[0m \u001B[1m0s\u001B[0m 2ms/step - accuracy: 0.9428 - loss: 0.2739 \n",
      "Epoch 49/150\n",
      "\u001B[1m13/13\u001B[0m \u001B[32m━━━━━━━━━━━━━━━━━━━━\u001B[0m\u001B[37m\u001B[0m \u001B[1m0s\u001B[0m 2ms/step - accuracy: 0.9581 - loss: 0.2624 \n",
      "Epoch 50/150\n",
      "\u001B[1m13/13\u001B[0m \u001B[32m━━━━━━━━━━━━━━━━━━━━\u001B[0m\u001B[37m\u001B[0m \u001B[1m0s\u001B[0m 2ms/step - accuracy: 0.9438 - loss: 0.2678 \n",
      "Epoch 51/150\n",
      "\u001B[1m13/13\u001B[0m \u001B[32m━━━━━━━━━━━━━━━━━━━━\u001B[0m\u001B[37m\u001B[0m \u001B[1m0s\u001B[0m 2ms/step - accuracy: 0.9586 - loss: 0.2534 \n",
      "Epoch 52/150\n",
      "\u001B[1m13/13\u001B[0m \u001B[32m━━━━━━━━━━━━━━━━━━━━\u001B[0m\u001B[37m\u001B[0m \u001B[1m0s\u001B[0m 2ms/step - accuracy: 0.9705 - loss: 0.2417 \n",
      "Epoch 53/150\n",
      "\u001B[1m13/13\u001B[0m \u001B[32m━━━━━━━━━━━━━━━━━━━━\u001B[0m\u001B[37m\u001B[0m \u001B[1m0s\u001B[0m 2ms/step - accuracy: 0.9540 - loss: 0.2617 \n",
      "Epoch 54/150\n",
      "\u001B[1m13/13\u001B[0m \u001B[32m━━━━━━━━━━━━━━━━━━━━\u001B[0m\u001B[37m\u001B[0m \u001B[1m0s\u001B[0m 2ms/step - accuracy: 0.9655 - loss: 0.2294 \n",
      "Epoch 55/150\n",
      "\u001B[1m13/13\u001B[0m \u001B[32m━━━━━━━━━━━━━━━━━━━━\u001B[0m\u001B[37m\u001B[0m \u001B[1m0s\u001B[0m 2ms/step - accuracy: 0.9650 - loss: 0.2375 \n",
      "Epoch 56/150\n",
      "\u001B[1m13/13\u001B[0m \u001B[32m━━━━━━━━━━━━━━━━━━━━\u001B[0m\u001B[37m\u001B[0m \u001B[1m0s\u001B[0m 2ms/step - accuracy: 0.9585 - loss: 0.2463 \n",
      "Epoch 57/150\n",
      "\u001B[1m13/13\u001B[0m \u001B[32m━━━━━━━━━━━━━━━━━━━━\u001B[0m\u001B[37m\u001B[0m \u001B[1m0s\u001B[0m 2ms/step - accuracy: 0.9563 - loss: 0.2352 \n",
      "Epoch 58/150\n",
      "\u001B[1m13/13\u001B[0m \u001B[32m━━━━━━━━━━━━━━━━━━━━\u001B[0m\u001B[37m\u001B[0m \u001B[1m0s\u001B[0m 2ms/step - accuracy: 0.9674 - loss: 0.2334 \n",
      "Epoch 59/150\n",
      "\u001B[1m13/13\u001B[0m \u001B[32m━━━━━━━━━━━━━━━━━━━━\u001B[0m\u001B[37m\u001B[0m \u001B[1m0s\u001B[0m 2ms/step - accuracy: 0.9591 - loss: 0.2358 \n",
      "Epoch 60/150\n",
      "\u001B[1m13/13\u001B[0m \u001B[32m━━━━━━━━━━━━━━━━━━━━\u001B[0m\u001B[37m\u001B[0m \u001B[1m0s\u001B[0m 2ms/step - accuracy: 0.9471 - loss: 0.2448 \n",
      "Epoch 61/150\n",
      "\u001B[1m13/13\u001B[0m \u001B[32m━━━━━━━━━━━━━━━━━━━━\u001B[0m\u001B[37m\u001B[0m \u001B[1m0s\u001B[0m 2ms/step - accuracy: 0.9514 - loss: 0.2276 \n",
      "Epoch 62/150\n",
      "\u001B[1m13/13\u001B[0m \u001B[32m━━━━━━━━━━━━━━━━━━━━\u001B[0m\u001B[37m\u001B[0m \u001B[1m0s\u001B[0m 2ms/step - accuracy: 0.9497 - loss: 0.2291 \n",
      "Epoch 63/150\n",
      "\u001B[1m13/13\u001B[0m \u001B[32m━━━━━━━━━━━━━━━━━━━━\u001B[0m\u001B[37m\u001B[0m \u001B[1m0s\u001B[0m 2ms/step - accuracy: 0.9470 - loss: 0.2465 \n",
      "Epoch 64/150\n",
      "\u001B[1m13/13\u001B[0m \u001B[32m━━━━━━━━━━━━━━━━━━━━\u001B[0m\u001B[37m\u001B[0m \u001B[1m0s\u001B[0m 2ms/step - accuracy: 0.9517 - loss: 0.2353 \n",
      "Epoch 65/150\n",
      "\u001B[1m13/13\u001B[0m \u001B[32m━━━━━━━━━━━━━━━━━━━━\u001B[0m\u001B[37m\u001B[0m \u001B[1m0s\u001B[0m 2ms/step - accuracy: 0.9530 - loss: 0.2269 \n",
      "Epoch 66/150\n",
      "\u001B[1m13/13\u001B[0m \u001B[32m━━━━━━━━━━━━━━━━━━━━\u001B[0m\u001B[37m\u001B[0m \u001B[1m0s\u001B[0m 2ms/step - accuracy: 0.9586 - loss: 0.2220 \n",
      "Epoch 67/150\n",
      "\u001B[1m13/13\u001B[0m \u001B[32m━━━━━━━━━━━━━━━━━━━━\u001B[0m\u001B[37m\u001B[0m \u001B[1m0s\u001B[0m 2ms/step - accuracy: 0.9472 - loss: 0.2307 \n",
      "Epoch 68/150\n",
      "\u001B[1m13/13\u001B[0m \u001B[32m━━━━━━━━━━━━━━━━━━━━\u001B[0m\u001B[37m\u001B[0m \u001B[1m0s\u001B[0m 2ms/step - accuracy: 0.9588 - loss: 0.2062 \n",
      "Epoch 69/150\n",
      "\u001B[1m13/13\u001B[0m \u001B[32m━━━━━━━━━━━━━━━━━━━━\u001B[0m\u001B[37m\u001B[0m \u001B[1m0s\u001B[0m 2ms/step - accuracy: 0.9585 - loss: 0.2156 \n",
      "Epoch 70/150\n",
      "\u001B[1m13/13\u001B[0m \u001B[32m━━━━━━━━━━━━━━━━━━━━\u001B[0m\u001B[37m\u001B[0m \u001B[1m0s\u001B[0m 2ms/step - accuracy: 0.9648 - loss: 0.1948 \n",
      "Epoch 71/150\n",
      "\u001B[1m13/13\u001B[0m \u001B[32m━━━━━━━━━━━━━━━━━━━━\u001B[0m\u001B[37m\u001B[0m \u001B[1m0s\u001B[0m 2ms/step - accuracy: 0.9613 - loss: 0.1987 \n",
      "Epoch 72/150\n",
      "\u001B[1m13/13\u001B[0m \u001B[32m━━━━━━━━━━━━━━━━━━━━\u001B[0m\u001B[37m\u001B[0m \u001B[1m0s\u001B[0m 2ms/step - accuracy: 0.9611 - loss: 0.2051 \n",
      "Epoch 73/150\n",
      "\u001B[1m13/13\u001B[0m \u001B[32m━━━━━━━━━━━━━━━━━━━━\u001B[0m\u001B[37m\u001B[0m \u001B[1m0s\u001B[0m 2ms/step - accuracy: 0.9625 - loss: 0.2012 \n",
      "Epoch 74/150\n",
      "\u001B[1m13/13\u001B[0m \u001B[32m━━━━━━━━━━━━━━━━━━━━\u001B[0m\u001B[37m\u001B[0m \u001B[1m0s\u001B[0m 2ms/step - accuracy: 0.9639 - loss: 0.1899 \n",
      "Epoch 75/150\n",
      "\u001B[1m13/13\u001B[0m \u001B[32m━━━━━━━━━━━━━━━━━━━━\u001B[0m\u001B[37m\u001B[0m \u001B[1m0s\u001B[0m 2ms/step - accuracy: 0.9554 - loss: 0.2021 \n",
      "Epoch 76/150\n",
      "\u001B[1m13/13\u001B[0m \u001B[32m━━━━━━━━━━━━━━━━━━━━\u001B[0m\u001B[37m\u001B[0m \u001B[1m0s\u001B[0m 2ms/step - accuracy: 0.9475 - loss: 0.2030 \n",
      "Epoch 77/150\n",
      "\u001B[1m13/13\u001B[0m \u001B[32m━━━━━━━━━━━━━━━━━━━━\u001B[0m\u001B[37m\u001B[0m \u001B[1m0s\u001B[0m 2ms/step - accuracy: 0.9445 - loss: 0.2096 \n",
      "Epoch 78/150\n",
      "\u001B[1m13/13\u001B[0m \u001B[32m━━━━━━━━━━━━━━━━━━━━\u001B[0m\u001B[37m\u001B[0m \u001B[1m0s\u001B[0m 2ms/step - accuracy: 0.9600 - loss: 0.1895 \n",
      "Epoch 79/150\n",
      "\u001B[1m13/13\u001B[0m \u001B[32m━━━━━━━━━━━━━━━━━━━━\u001B[0m\u001B[37m\u001B[0m \u001B[1m0s\u001B[0m 2ms/step - accuracy: 0.9567 - loss: 0.1911 \n",
      "Epoch 80/150\n",
      "\u001B[1m13/13\u001B[0m \u001B[32m━━━━━━━━━━━━━━━━━━━━\u001B[0m\u001B[37m\u001B[0m \u001B[1m0s\u001B[0m 2ms/step - accuracy: 0.9594 - loss: 0.1939 \n",
      "Epoch 81/150\n",
      "\u001B[1m13/13\u001B[0m \u001B[32m━━━━━━━━━━━━━━━━━━━━\u001B[0m\u001B[37m\u001B[0m \u001B[1m0s\u001B[0m 2ms/step - accuracy: 0.9419 - loss: 0.1979 \n",
      "Epoch 82/150\n",
      "\u001B[1m13/13\u001B[0m \u001B[32m━━━━━━━━━━━━━━━━━━━━\u001B[0m\u001B[37m\u001B[0m \u001B[1m0s\u001B[0m 2ms/step - accuracy: 0.9597 - loss: 0.1839 \n",
      "Epoch 83/150\n",
      "\u001B[1m13/13\u001B[0m \u001B[32m━━━━━━━━━━━━━━━━━━━━\u001B[0m\u001B[37m\u001B[0m \u001B[1m0s\u001B[0m 2ms/step - accuracy: 0.9589 - loss: 0.1806 \n",
      "Epoch 84/150\n",
      "\u001B[1m13/13\u001B[0m \u001B[32m━━━━━━━━━━━━━━━━━━━━\u001B[0m\u001B[37m\u001B[0m \u001B[1m0s\u001B[0m 2ms/step - accuracy: 0.9691 - loss: 0.1681 \n",
      "Epoch 85/150\n",
      "\u001B[1m13/13\u001B[0m \u001B[32m━━━━━━━━━━━━━━━━━━━━\u001B[0m\u001B[37m\u001B[0m \u001B[1m0s\u001B[0m 2ms/step - accuracy: 0.9558 - loss: 0.1842 \n",
      "Epoch 86/150\n",
      "\u001B[1m13/13\u001B[0m \u001B[32m━━━━━━━━━━━━━━━━━━━━\u001B[0m\u001B[37m\u001B[0m \u001B[1m0s\u001B[0m 2ms/step - accuracy: 0.9561 - loss: 0.1808 \n",
      "Epoch 87/150\n",
      "\u001B[1m13/13\u001B[0m \u001B[32m━━━━━━━━━━━━━━━━━━━━\u001B[0m\u001B[37m\u001B[0m \u001B[1m0s\u001B[0m 2ms/step - accuracy: 0.9583 - loss: 0.1745 \n",
      "Epoch 88/150\n",
      "\u001B[1m13/13\u001B[0m \u001B[32m━━━━━━━━━━━━━━━━━━━━\u001B[0m\u001B[37m\u001B[0m \u001B[1m0s\u001B[0m 2ms/step - accuracy: 0.9558 - loss: 0.1775 \n",
      "Epoch 89/150\n",
      "\u001B[1m13/13\u001B[0m \u001B[32m━━━━━━━━━━━━━━━━━━━━\u001B[0m\u001B[37m\u001B[0m \u001B[1m0s\u001B[0m 2ms/step - accuracy: 0.9616 - loss: 0.1810 \n",
      "Epoch 90/150\n",
      "\u001B[1m13/13\u001B[0m \u001B[32m━━━━━━━━━━━━━━━━━━━━\u001B[0m\u001B[37m\u001B[0m \u001B[1m0s\u001B[0m 2ms/step - accuracy: 0.9667 - loss: 0.1639 \n",
      "Epoch 91/150\n",
      "\u001B[1m13/13\u001B[0m \u001B[32m━━━━━━━━━━━━━━━━━━━━\u001B[0m\u001B[37m\u001B[0m \u001B[1m0s\u001B[0m 2ms/step - accuracy: 0.9813 - loss: 0.1555 \n",
      "Epoch 92/150\n",
      "\u001B[1m13/13\u001B[0m \u001B[32m━━━━━━━━━━━━━━━━━━━━\u001B[0m\u001B[37m\u001B[0m \u001B[1m0s\u001B[0m 2ms/step - accuracy: 0.9738 - loss: 0.1688 \n",
      "Epoch 93/150\n",
      "\u001B[1m13/13\u001B[0m \u001B[32m━━━━━━━━━━━━━━━━━━━━\u001B[0m\u001B[37m\u001B[0m \u001B[1m0s\u001B[0m 2ms/step - accuracy: 0.9750 - loss: 0.1587 \n",
      "Epoch 94/150\n",
      "\u001B[1m13/13\u001B[0m \u001B[32m━━━━━━━━━━━━━━━━━━━━\u001B[0m\u001B[37m\u001B[0m \u001B[1m0s\u001B[0m 2ms/step - accuracy: 0.9759 - loss: 0.1629 \n",
      "Epoch 95/150\n",
      "\u001B[1m13/13\u001B[0m \u001B[32m━━━━━━━━━━━━━━━━━━━━\u001B[0m\u001B[37m\u001B[0m \u001B[1m0s\u001B[0m 2ms/step - accuracy: 0.9640 - loss: 0.1679 \n",
      "Epoch 96/150\n",
      "\u001B[1m13/13\u001B[0m \u001B[32m━━━━━━━━━━━━━━━━━━━━\u001B[0m\u001B[37m\u001B[0m \u001B[1m0s\u001B[0m 2ms/step - accuracy: 0.9768 - loss: 0.1567 \n",
      "Epoch 97/150\n",
      "\u001B[1m13/13\u001B[0m \u001B[32m━━━━━━━━━━━━━━━━━━━━\u001B[0m\u001B[37m\u001B[0m \u001B[1m0s\u001B[0m 2ms/step - accuracy: 0.9730 - loss: 0.1525 \n",
      "Epoch 98/150\n",
      "\u001B[1m13/13\u001B[0m \u001B[32m━━━━━━━━━━━━━━━━━━━━\u001B[0m\u001B[37m\u001B[0m \u001B[1m0s\u001B[0m 2ms/step - accuracy: 0.9653 - loss: 0.1715 \n",
      "Epoch 99/150\n",
      "\u001B[1m13/13\u001B[0m \u001B[32m━━━━━━━━━━━━━━━━━━━━\u001B[0m\u001B[37m\u001B[0m \u001B[1m0s\u001B[0m 2ms/step - accuracy: 0.9757 - loss: 0.1597 \n",
      "Epoch 100/150\n",
      "\u001B[1m13/13\u001B[0m \u001B[32m━━━━━━━━━━━━━━━━━━━━\u001B[0m\u001B[37m\u001B[0m \u001B[1m0s\u001B[0m 2ms/step - accuracy: 0.9689 - loss: 0.1673 \n",
      "Epoch 101/150\n",
      "\u001B[1m13/13\u001B[0m \u001B[32m━━━━━━━━━━━━━━━━━━━━\u001B[0m\u001B[37m\u001B[0m \u001B[1m0s\u001B[0m 2ms/step - accuracy: 0.9699 - loss: 0.1639 \n",
      "Epoch 102/150\n",
      "\u001B[1m13/13\u001B[0m \u001B[32m━━━━━━━━━━━━━━━━━━━━\u001B[0m\u001B[37m\u001B[0m \u001B[1m0s\u001B[0m 2ms/step - accuracy: 0.9798 - loss: 0.1509 \n",
      "Epoch 103/150\n",
      "\u001B[1m13/13\u001B[0m \u001B[32m━━━━━━━━━━━━━━━━━━━━\u001B[0m\u001B[37m\u001B[0m \u001B[1m0s\u001B[0m 2ms/step - accuracy: 0.9779 - loss: 0.1493 \n",
      "Epoch 104/150\n",
      "\u001B[1m13/13\u001B[0m \u001B[32m━━━━━━━━━━━━━━━━━━━━\u001B[0m\u001B[37m\u001B[0m \u001B[1m0s\u001B[0m 2ms/step - accuracy: 0.9746 - loss: 0.1554 \n",
      "Epoch 105/150\n",
      "\u001B[1m13/13\u001B[0m \u001B[32m━━━━━━━━━━━━━━━━━━━━\u001B[0m\u001B[37m\u001B[0m \u001B[1m0s\u001B[0m 2ms/step - accuracy: 0.9772 - loss: 0.1455 \n",
      "Epoch 106/150\n",
      "\u001B[1m13/13\u001B[0m \u001B[32m━━━━━━━━━━━━━━━━━━━━\u001B[0m\u001B[37m\u001B[0m \u001B[1m0s\u001B[0m 2ms/step - accuracy: 0.9624 - loss: 0.1649 \n",
      "Epoch 107/150\n",
      "\u001B[1m13/13\u001B[0m \u001B[32m━━━━━━━━━━━━━━━━━━━━\u001B[0m\u001B[37m\u001B[0m \u001B[1m0s\u001B[0m 2ms/step - accuracy: 0.9812 - loss: 0.1429 \n",
      "Epoch 108/150\n",
      "\u001B[1m13/13\u001B[0m \u001B[32m━━━━━━━━━━━━━━━━━━━━\u001B[0m\u001B[37m\u001B[0m \u001B[1m0s\u001B[0m 2ms/step - accuracy: 0.9729 - loss: 0.1578 \n",
      "Epoch 109/150\n",
      "\u001B[1m13/13\u001B[0m \u001B[32m━━━━━━━━━━━━━━━━━━━━\u001B[0m\u001B[37m\u001B[0m \u001B[1m0s\u001B[0m 2ms/step - accuracy: 0.9764 - loss: 0.1472 \n",
      "Epoch 110/150\n",
      "\u001B[1m13/13\u001B[0m \u001B[32m━━━━━━━━━━━━━━━━━━━━\u001B[0m\u001B[37m\u001B[0m \u001B[1m0s\u001B[0m 2ms/step - accuracy: 0.9786 - loss: 0.1477 \n",
      "Epoch 111/150\n",
      "\u001B[1m13/13\u001B[0m \u001B[32m━━━━━━━━━━━━━━━━━━━━\u001B[0m\u001B[37m\u001B[0m \u001B[1m0s\u001B[0m 2ms/step - accuracy: 0.9759 - loss: 0.1377 \n",
      "Epoch 112/150\n",
      "\u001B[1m13/13\u001B[0m \u001B[32m━━━━━━━━━━━━━━━━━━━━\u001B[0m\u001B[37m\u001B[0m \u001B[1m0s\u001B[0m 2ms/step - accuracy: 0.9746 - loss: 0.1459 \n",
      "Epoch 113/150\n",
      "\u001B[1m13/13\u001B[0m \u001B[32m━━━━━━━━━━━━━━━━━━━━\u001B[0m\u001B[37m\u001B[0m \u001B[1m0s\u001B[0m 2ms/step - accuracy: 0.9798 - loss: 0.1377 \n",
      "Epoch 114/150\n",
      "\u001B[1m13/13\u001B[0m \u001B[32m━━━━━━━━━━━━━━━━━━━━\u001B[0m\u001B[37m\u001B[0m \u001B[1m0s\u001B[0m 2ms/step - accuracy: 0.9627 - loss: 0.1589 \n",
      "Epoch 115/150\n",
      "\u001B[1m13/13\u001B[0m \u001B[32m━━━━━━━━━━━━━━━━━━━━\u001B[0m\u001B[37m\u001B[0m \u001B[1m0s\u001B[0m 2ms/step - accuracy: 0.9723 - loss: 0.1392 \n",
      "Epoch 116/150\n",
      "\u001B[1m13/13\u001B[0m \u001B[32m━━━━━━━━━━━━━━━━━━━━\u001B[0m\u001B[37m\u001B[0m \u001B[1m0s\u001B[0m 2ms/step - accuracy: 0.9738 - loss: 0.1388 \n",
      "Epoch 117/150\n",
      "\u001B[1m13/13\u001B[0m \u001B[32m━━━━━━━━━━━━━━━━━━━━\u001B[0m\u001B[37m\u001B[0m \u001B[1m0s\u001B[0m 2ms/step - accuracy: 0.9709 - loss: 0.1410 \n",
      "Epoch 118/150\n",
      "\u001B[1m13/13\u001B[0m \u001B[32m━━━━━━━━━━━━━━━━━━━━\u001B[0m\u001B[37m\u001B[0m \u001B[1m0s\u001B[0m 2ms/step - accuracy: 0.9843 - loss: 0.1250 \n",
      "Epoch 119/150\n",
      "\u001B[1m13/13\u001B[0m \u001B[32m━━━━━━━━━━━━━━━━━━━━\u001B[0m\u001B[37m\u001B[0m \u001B[1m0s\u001B[0m 2ms/step - accuracy: 0.9811 - loss: 0.1297 \n",
      "Epoch 120/150\n",
      "\u001B[1m13/13\u001B[0m \u001B[32m━━━━━━━━━━━━━━━━━━━━\u001B[0m\u001B[37m\u001B[0m \u001B[1m0s\u001B[0m 2ms/step - accuracy: 0.9729 - loss: 0.1433 \n",
      "Epoch 121/150\n",
      "\u001B[1m13/13\u001B[0m \u001B[32m━━━━━━━━━━━━━━━━━━━━\u001B[0m\u001B[37m\u001B[0m \u001B[1m0s\u001B[0m 2ms/step - accuracy: 0.9742 - loss: 0.1363 \n",
      "Epoch 122/150\n",
      "\u001B[1m13/13\u001B[0m \u001B[32m━━━━━━━━━━━━━━━━━━━━\u001B[0m\u001B[37m\u001B[0m \u001B[1m0s\u001B[0m 2ms/step - accuracy: 0.9707 - loss: 0.1433 \n",
      "Epoch 123/150\n",
      "\u001B[1m13/13\u001B[0m \u001B[32m━━━━━━━━━━━━━━━━━━━━\u001B[0m\u001B[37m\u001B[0m \u001B[1m0s\u001B[0m 2ms/step - accuracy: 0.9710 - loss: 0.1373 \n",
      "Epoch 124/150\n",
      "\u001B[1m13/13\u001B[0m \u001B[32m━━━━━━━━━━━━━━━━━━━━\u001B[0m\u001B[37m\u001B[0m \u001B[1m0s\u001B[0m 2ms/step - accuracy: 0.9785 - loss: 0.1306 \n",
      "Epoch 125/150\n",
      "\u001B[1m13/13\u001B[0m \u001B[32m━━━━━━━━━━━━━━━━━━━━\u001B[0m\u001B[37m\u001B[0m \u001B[1m0s\u001B[0m 2ms/step - accuracy: 0.9811 - loss: 0.1245 \n",
      "Epoch 126/150\n",
      "\u001B[1m13/13\u001B[0m \u001B[32m━━━━━━━━━━━━━━━━━━━━\u001B[0m\u001B[37m\u001B[0m \u001B[1m0s\u001B[0m 2ms/step - accuracy: 0.9792 - loss: 0.1220 \n",
      "Epoch 127/150\n",
      "\u001B[1m13/13\u001B[0m \u001B[32m━━━━━━━━━━━━━━━━━━━━\u001B[0m\u001B[37m\u001B[0m \u001B[1m0s\u001B[0m 2ms/step - accuracy: 0.9726 - loss: 0.1338 \n",
      "Epoch 128/150\n",
      "\u001B[1m13/13\u001B[0m \u001B[32m━━━━━━━━━━━━━━━━━━━━\u001B[0m\u001B[37m\u001B[0m \u001B[1m0s\u001B[0m 2ms/step - accuracy: 0.9800 - loss: 0.1259 \n",
      "Epoch 129/150\n",
      "\u001B[1m13/13\u001B[0m \u001B[32m━━━━━━━━━━━━━━━━━━━━\u001B[0m\u001B[37m\u001B[0m \u001B[1m0s\u001B[0m 2ms/step - accuracy: 0.9711 - loss: 0.1422 \n",
      "Epoch 130/150\n",
      "\u001B[1m13/13\u001B[0m \u001B[32m━━━━━━━━━━━━━━━━━━━━\u001B[0m\u001B[37m\u001B[0m \u001B[1m0s\u001B[0m 2ms/step - accuracy: 0.9758 - loss: 0.1279 \n",
      "Epoch 131/150\n",
      "\u001B[1m13/13\u001B[0m \u001B[32m━━━━━━━━━━━━━━━━━━━━\u001B[0m\u001B[37m\u001B[0m \u001B[1m0s\u001B[0m 2ms/step - accuracy: 0.9883 - loss: 0.1148 \n",
      "Epoch 132/150\n",
      "\u001B[1m13/13\u001B[0m \u001B[32m━━━━━━━━━━━━━━━━━━━━\u001B[0m\u001B[37m\u001B[0m \u001B[1m0s\u001B[0m 2ms/step - accuracy: 0.9845 - loss: 0.1242 \n",
      "Epoch 133/150\n",
      "\u001B[1m13/13\u001B[0m \u001B[32m━━━━━━━━━━━━━━━━━━━━\u001B[0m\u001B[37m\u001B[0m \u001B[1m0s\u001B[0m 2ms/step - accuracy: 0.9836 - loss: 0.1196 \n",
      "Epoch 134/150\n",
      "\u001B[1m13/13\u001B[0m \u001B[32m━━━━━━━━━━━━━━━━━━━━\u001B[0m\u001B[37m\u001B[0m \u001B[1m0s\u001B[0m 2ms/step - accuracy: 0.9717 - loss: 0.1354 \n",
      "Epoch 135/150\n",
      "\u001B[1m13/13\u001B[0m \u001B[32m━━━━━━━━━━━━━━━━━━━━\u001B[0m\u001B[37m\u001B[0m \u001B[1m0s\u001B[0m 2ms/step - accuracy: 0.9680 - loss: 0.1315 \n",
      "Epoch 136/150\n",
      "\u001B[1m13/13\u001B[0m \u001B[32m━━━━━━━━━━━━━━━━━━━━\u001B[0m\u001B[37m\u001B[0m \u001B[1m0s\u001B[0m 2ms/step - accuracy: 0.9827 - loss: 0.1173 \n",
      "Epoch 137/150\n",
      "\u001B[1m13/13\u001B[0m \u001B[32m━━━━━━━━━━━━━━━━━━━━\u001B[0m\u001B[37m\u001B[0m \u001B[1m0s\u001B[0m 2ms/step - accuracy: 0.9844 - loss: 0.1161 \n",
      "Epoch 138/150\n",
      "\u001B[1m13/13\u001B[0m \u001B[32m━━━━━━━━━━━━━━━━━━━━\u001B[0m\u001B[37m\u001B[0m \u001B[1m0s\u001B[0m 2ms/step - accuracy: 0.9767 - loss: 0.1382 \n",
      "Epoch 139/150\n",
      "\u001B[1m13/13\u001B[0m \u001B[32m━━━━━━━━━━━━━━━━━━━━\u001B[0m\u001B[37m\u001B[0m \u001B[1m0s\u001B[0m 2ms/step - accuracy: 0.9830 - loss: 0.1218 \n",
      "Epoch 140/150\n",
      "\u001B[1m13/13\u001B[0m \u001B[32m━━━━━━━━━━━━━━━━━━━━\u001B[0m\u001B[37m\u001B[0m \u001B[1m0s\u001B[0m 2ms/step - accuracy: 0.9797 - loss: 0.1197 \n",
      "Epoch 141/150\n",
      "\u001B[1m13/13\u001B[0m \u001B[32m━━━━━━━━━━━━━━━━━━━━\u001B[0m\u001B[37m\u001B[0m \u001B[1m0s\u001B[0m 2ms/step - accuracy: 0.9794 - loss: 0.1211 \n",
      "Epoch 142/150\n",
      "\u001B[1m13/13\u001B[0m \u001B[32m━━━━━━━━━━━━━━━━━━━━\u001B[0m\u001B[37m\u001B[0m \u001B[1m0s\u001B[0m 2ms/step - accuracy: 0.9812 - loss: 0.1187 \n",
      "Epoch 143/150\n",
      "\u001B[1m13/13\u001B[0m \u001B[32m━━━━━━━━━━━━━━━━━━━━\u001B[0m\u001B[37m\u001B[0m \u001B[1m0s\u001B[0m 2ms/step - accuracy: 0.9694 - loss: 0.1367 \n",
      "Epoch 144/150\n",
      "\u001B[1m13/13\u001B[0m \u001B[32m━━━━━━━━━━━━━━━━━━━━\u001B[0m\u001B[37m\u001B[0m \u001B[1m0s\u001B[0m 2ms/step - accuracy: 0.9769 - loss: 0.1236 \n",
      "Epoch 145/150\n",
      "\u001B[1m13/13\u001B[0m \u001B[32m━━━━━━━━━━━━━━━━━━━━\u001B[0m\u001B[37m\u001B[0m \u001B[1m0s\u001B[0m 2ms/step - accuracy: 0.9804 - loss: 0.1211 \n",
      "Epoch 146/150\n",
      "\u001B[1m13/13\u001B[0m \u001B[32m━━━━━━━━━━━━━━━━━━━━\u001B[0m\u001B[37m\u001B[0m \u001B[1m0s\u001B[0m 2ms/step - accuracy: 0.9841 - loss: 0.1127 \n",
      "Epoch 147/150\n",
      "\u001B[1m13/13\u001B[0m \u001B[32m━━━━━━━━━━━━━━━━━━━━\u001B[0m\u001B[37m\u001B[0m \u001B[1m0s\u001B[0m 2ms/step - accuracy: 0.9842 - loss: 0.1113 \n",
      "Epoch 148/150\n",
      "\u001B[1m13/13\u001B[0m \u001B[32m━━━━━━━━━━━━━━━━━━━━\u001B[0m\u001B[37m\u001B[0m \u001B[1m0s\u001B[0m 2ms/step - accuracy: 0.9880 - loss: 0.1111 \n",
      "Epoch 149/150\n",
      "\u001B[1m13/13\u001B[0m \u001B[32m━━━━━━━━━━━━━━━━━━━━\u001B[0m\u001B[37m\u001B[0m \u001B[1m0s\u001B[0m 2ms/step - accuracy: 0.9909 - loss: 0.1050 \n",
      "Epoch 150/150\n",
      "\u001B[1m13/13\u001B[0m \u001B[32m━━━━━━━━━━━━━━━━━━━━\u001B[0m\u001B[37m\u001B[0m \u001B[1m0s\u001B[0m 2ms/step - accuracy: 0.9780 - loss: 0.1268 \n"
     ]
    },
    {
     "data": {
      "text/plain": "<keras.src.callbacks.history.History at 0x1bc87574b90>"
     },
     "execution_count": 50,
     "metadata": {},
     "output_type": "execute_result"
    }
   ],
   "source": [
    "model2.fit(X_train, y_train, epochs=150)"
   ],
   "metadata": {
    "collapsed": false,
    "ExecuteTime": {
     "end_time": "2024-04-02T16:12:26.186799Z",
     "start_time": "2024-04-02T16:12:14.289788Z"
    }
   },
   "id": "eaa65f9d44001699",
   "execution_count": 50
  },
  {
   "cell_type": "code",
   "outputs": [
    {
     "name": "stdout",
     "output_type": "stream",
     "text": [
      "\u001B[1m6/6\u001B[0m \u001B[32m━━━━━━━━━━━━━━━━━━━━\u001B[0m\u001B[37m\u001B[0m \u001B[1m0s\u001B[0m 2ms/step - accuracy: 0.9886 - loss: 0.1018 \n",
      "Loss sul test set: 0.1127\n",
      "Accuracy sul test set: 0.9766\n"
     ]
    }
   ],
   "source": [
    "loss, acc = model2.evaluate(X_test, y_test)\n",
    "print(\"Loss sul test set: %.4f\" % loss)\n",
    "print(\"Accuracy sul test set: %.4f\" % acc)"
   ],
   "metadata": {
    "collapsed": false,
    "ExecuteTime": {
     "end_time": "2024-04-02T16:12:45.478993Z",
     "start_time": "2024-04-02T16:12:45.316258Z"
    }
   },
   "id": "b9080bab2b4257bb",
   "execution_count": 52
  },
  {
   "cell_type": "code",
   "outputs": [
    {
     "name": "stdout",
     "output_type": "stream",
     "text": [
      "\u001B[1m6/6\u001B[0m \u001B[32m━━━━━━━━━━━━━━━━━━━━\u001B[0m\u001B[37m\u001B[0m \u001B[1m0s\u001B[0m 14ms/step\n"
     ]
    },
    {
     "data": {
      "text/plain": "<Figure size 800x600 with 2 Axes>",
      "image/png": "[encoded data removed]"
     },
     "metadata": {},
     "output_type": "display_data"
    }
   ],
   "source": [
    "y_pred=model2.predict(X_test)\n",
    "y_pred_int = [1 if pred > 0.5 else 0 for pred in y_pred]\n",
    "cm = confusion_matrix(y_test, y_pred_int)\n",
    "labels = ['Benigno', 'Maligno']\n",
    "plt.figure(figsize=(8, 6))\n",
    "sns.heatmap(cm, annot=True, fmt=\"d\", cmap=\"Blues\", xticklabels=labels, yticklabels=labels)\n",
    "plt.xlabel('Valori predetti')\n",
    "plt.ylabel('Valori reali')\n",
    "plt.title('Matrice di confusione')\n",
    "plt.show()"
   ],
   "metadata": {
    "collapsed": false,
    "ExecuteTime": {
     "end_time": "2024-04-02T16:12:47.195632Z",
     "start_time": "2024-04-02T16:12:46.571147Z"
    }
   },
   "id": "a1eb6acc9463fde1",
   "execution_count": 53
  },
  {
   "cell_type": "markdown",
   "source": [
    "Il nostro modello ha dunque:\n",
    "* sbagliato a categorizzare 2 tumori maligni come tumori benigni;\n",
    "* sbagliato a categorizzare 2 tumori benigni come tumori maligni;\n",
    "* correttamente categorizzato 106 tumori benigni su 108;\n",
    "* correttamente categorizzato 61 tumori maligni su 63.\n",
    "\n",
    "Solo aggiungendo qualche strato nascosto in più, il nostro modello di rete neurale artificiale è migliorato notevolmente"
   ],
   "metadata": {
    "collapsed": false
   },
   "id": "df120af87c3b06ad"
  },
  {
   "cell_type": "markdown",
   "source": [
    "## CATEGORIZZAZIONE DELLA SPECIE DEI FIORI (DATASET IRIS) TRAMITE RETE NEURALE DENSA\n"
   ],
   "metadata": {
    "collapsed": false
   },
   "id": "a91678d6ed6e1c65"
  },
  {
   "cell_type": "markdown",
   "source": [
    "Andiamo direttamente ad importare la rete neurale densa profonda, ma con qualche dettaglio che andrà cambiato, trattandosi di una categorizzazione a tre classi.\n",
    "\n",
    "Importiamo dunque il dataset e dividiamo le features e i target nei set di addestramento e test:"
   ],
   "metadata": {
    "collapsed": false
   },
   "id": "117da5cf058b9e6"
  },
  {
   "cell_type": "code",
   "outputs": [],
   "source": [
    "dataset=load_iris()     \n",
    "X=dataset.data          \n",
    "y=dataset.target        \n",
    "X_train, X_test, y_train, y_test = train_test_split(X, y) "
   ],
   "metadata": {
    "collapsed": false,
    "ExecuteTime": {
     "end_time": "2024-04-02T16:27:52.940665Z",
     "start_time": "2024-04-02T16:27:52.931371Z"
    }
   },
   "id": "5520f19056e09309",
   "execution_count": 57
  },
  {
   "cell_type": "markdown",
   "source": [
    "Creiamo il nostro modello di rete neurale densa profonda, sta volta per le funzioni di attivazione degli strati nascosti utilizziamo la **LeakyReLU**, questo cambiamento non è dato dal fatto che ci siano 3 classi, andava ugualmente bene anche la funzione **ReLU**. Quindi la nostra rete neurale sarà composta da:\n",
    "* 4 **nodi di input**, cioè il numero di features del nostro dataframe, con funzione di attivazione **LeakyReLU**;\n",
    "* 20 **nodi di intermedi (nascosti)**, con funzione di attivazione **LeakyReLU**;\n",
    "* 16 **nodi di intermedi (nascosti)**, con funzione di attivazione **LeakyReLU**;\n",
    "* 8 **nodi di intermedi (nascosti)**, con funzione di attivazione **LeakyReLU**;\n",
    "* 3 **nodi di output**, con funzione di attivazione **Softmax**.\n",
    "\n",
    "Ciò che è cambiato è che ora il numero di nodi di output è uguale al numero delle classi non trattandosi più di una categorizzazione binaria, la funzione di attivazione dello strato finale è la **softmax**, che restituisce la probabilità normalizzata per ogni classe. Inoltre cambia la funzione di loss e l'ottimizzazione."
   ],
   "metadata": {
    "collapsed": false
   },
   "id": "c92c923333aa632c"
  },
  {
   "cell_type": "code",
   "outputs": [
    {
     "name": "stderr",
     "output_type": "stream",
     "text": [
      "C:\\Users\\simon\\AppData\\Local\\Programs\\Python\\Python312\\Lib\\site-packages\\keras\\src\\layers\\core\\dense.py:88: UserWarning: Do not pass an `input_shape`/`input_dim` argument to a layer. When using Sequential models, prefer using an `Input(shape)` object as the first layer in the model instead.\n",
      "  super().__init__(activity_regularizer=activity_regularizer, **kwargs)\n",
      "C:\\Users\\simon\\AppData\\Local\\Programs\\Python\\Python312\\Lib\\site-packages\\keras\\src\\layers\\activations\\leaky_relu.py:41: UserWarning: Argument `alpha` is deprecated. Use `negative_slope` instead.\n",
      "  warnings.warn(\n"
     ]
    },
    {
     "data": {
      "text/plain": "\u001B[1mModel: \"sequential_8\"\u001B[0m\n",
      "text/html": "<pre style=\"white-space:pre;overflow-x:auto;line-height:normal;font-family:Menlo,'DejaVu Sans Mono',consolas,'Courier New',monospace\"><span style=\"font-weight: bold\">Model: \"sequential_8\"</span>\n</pre>\n"
     },
     "metadata": {},
     "output_type": "display_data"
    },
    {
     "data": {
      "text/plain": "┏━━━━━━━━━━━━━━━━━━━━━━━━━━━━━━━━━┳━━━━━━━━━━━━━━━━━━━━━━━━┳━━━━━━━━━━━━━━━┓\n┃\u001B[1m \u001B[0m\u001B[1mLayer (type)                   \u001B[0m\u001B[1m \u001B[0m┃\u001B[1m \u001B[0m\u001B[1mOutput Shape          \u001B[0m\u001B[1m \u001B[0m┃\u001B[1m \u001B[0m\u001B[1m      Param #\u001B[0m\u001B[1m \u001B[0m┃\n┡━━━━━━━━━━━━━━━━━━━━━━━━━━━━━━━━━╇━━━━━━━━━━━━━━━━━━━━━━━━╇━━━━━━━━━━━━━━━┩\n│ dense_29 (\u001B[38;5;33mDense\u001B[0m)                │ (\u001B[38;5;45mNone\u001B[0m, \u001B[38;5;34m20\u001B[0m)             │           \u001B[38;5;34m100\u001B[0m │\n├─────────────────────────────────┼────────────────────────┼───────────────┤\n│ leaky_re_lu_12 (\u001B[38;5;33mLeakyReLU\u001B[0m)      │ (\u001B[38;5;45mNone\u001B[0m, \u001B[38;5;34m20\u001B[0m)             │             \u001B[38;5;34m0\u001B[0m │\n├─────────────────────────────────┼────────────────────────┼───────────────┤\n│ dense_30 (\u001B[38;5;33mDense\u001B[0m)                │ (\u001B[38;5;45mNone\u001B[0m, \u001B[38;5;34m16\u001B[0m)             │           \u001B[38;5;34m336\u001B[0m │\n├─────────────────────────────────┼────────────────────────┼───────────────┤\n│ leaky_re_lu_13 (\u001B[38;5;33mLeakyReLU\u001B[0m)      │ (\u001B[38;5;45mNone\u001B[0m, \u001B[38;5;34m16\u001B[0m)             │             \u001B[38;5;34m0\u001B[0m │\n├─────────────────────────────────┼────────────────────────┼───────────────┤\n│ dense_31 (\u001B[38;5;33mDense\u001B[0m)                │ (\u001B[38;5;45mNone\u001B[0m, \u001B[38;5;34m8\u001B[0m)              │           \u001B[38;5;34m136\u001B[0m │\n├─────────────────────────────────┼────────────────────────┼───────────────┤\n│ leaky_re_lu_14 (\u001B[38;5;33mLeakyReLU\u001B[0m)      │ (\u001B[38;5;45mNone\u001B[0m, \u001B[38;5;34m8\u001B[0m)              │             \u001B[38;5;34m0\u001B[0m │\n├─────────────────────────────────┼────────────────────────┼───────────────┤\n│ dense_32 (\u001B[38;5;33mDense\u001B[0m)                │ (\u001B[38;5;45mNone\u001B[0m, \u001B[38;5;34m3\u001B[0m)              │            \u001B[38;5;34m27\u001B[0m │\n└─────────────────────────────────┴────────────────────────┴───────────────┘\n",
      "text/html": "<pre style=\"white-space:pre;overflow-x:auto;line-height:normal;font-family:Menlo,'DejaVu Sans Mono',consolas,'Courier New',monospace\">┏━━━━━━━━━━━━━━━━━━━━━━━━━━━━━━━━━┳━━━━━━━━━━━━━━━━━━━━━━━━┳━━━━━━━━━━━━━━━┓\n┃<span style=\"font-weight: bold\"> Layer (type)                    </span>┃<span style=\"font-weight: bold\"> Output Shape           </span>┃<span style=\"font-weight: bold\">       Param # </span>┃\n┡━━━━━━━━━━━━━━━━━━━━━━━━━━━━━━━━━╇━━━━━━━━━━━━━━━━━━━━━━━━╇━━━━━━━━━━━━━━━┩\n│ dense_29 (<span style=\"color: #0087ff; text-decoration-color: #0087ff\">Dense</span>)                │ (<span style=\"color: #00d7ff; text-decoration-color: #00d7ff\">None</span>, <span style=\"color: #00af00; text-decoration-color: #00af00\">20</span>)             │           <span style=\"color: #00af00; text-decoration-color: #00af00\">100</span> │\n├─────────────────────────────────┼────────────────────────┼───────────────┤\n│ leaky_re_lu_12 (<span style=\"color: #0087ff; text-decoration-color: #0087ff\">LeakyReLU</span>)      │ (<span style=\"color: #00d7ff; text-decoration-color: #00d7ff\">None</span>, <span style=\"color: #00af00; text-decoration-color: #00af00\">20</span>)             │             <span style=\"color: #00af00; text-decoration-color: #00af00\">0</span> │\n├─────────────────────────────────┼────────────────────────┼───────────────┤\n│ dense_30 (<span style=\"color: #0087ff; text-decoration-color: #0087ff\">Dense</span>)                │ (<span style=\"color: #00d7ff; text-decoration-color: #00d7ff\">None</span>, <span style=\"color: #00af00; text-decoration-color: #00af00\">16</span>)             │           <span style=\"color: #00af00; text-decoration-color: #00af00\">336</span> │\n├─────────────────────────────────┼────────────────────────┼───────────────┤\n│ leaky_re_lu_13 (<span style=\"color: #0087ff; text-decoration-color: #0087ff\">LeakyReLU</span>)      │ (<span style=\"color: #00d7ff; text-decoration-color: #00d7ff\">None</span>, <span style=\"color: #00af00; text-decoration-color: #00af00\">16</span>)             │             <span style=\"color: #00af00; text-decoration-color: #00af00\">0</span> │\n├─────────────────────────────────┼────────────────────────┼───────────────┤\n│ dense_31 (<span style=\"color: #0087ff; text-decoration-color: #0087ff\">Dense</span>)                │ (<span style=\"color: #00d7ff; text-decoration-color: #00d7ff\">None</span>, <span style=\"color: #00af00; text-decoration-color: #00af00\">8</span>)              │           <span style=\"color: #00af00; text-decoration-color: #00af00\">136</span> │\n├─────────────────────────────────┼────────────────────────┼───────────────┤\n│ leaky_re_lu_14 (<span style=\"color: #0087ff; text-decoration-color: #0087ff\">LeakyReLU</span>)      │ (<span style=\"color: #00d7ff; text-decoration-color: #00d7ff\">None</span>, <span style=\"color: #00af00; text-decoration-color: #00af00\">8</span>)              │             <span style=\"color: #00af00; text-decoration-color: #00af00\">0</span> │\n├─────────────────────────────────┼────────────────────────┼───────────────┤\n│ dense_32 (<span style=\"color: #0087ff; text-decoration-color: #0087ff\">Dense</span>)                │ (<span style=\"color: #00d7ff; text-decoration-color: #00d7ff\">None</span>, <span style=\"color: #00af00; text-decoration-color: #00af00\">3</span>)              │            <span style=\"color: #00af00; text-decoration-color: #00af00\">27</span> │\n└─────────────────────────────────┴────────────────────────┴───────────────┘\n</pre>\n"
     },
     "metadata": {},
     "output_type": "display_data"
    },
    {
     "data": {
      "text/plain": "\u001B[1m Total params: \u001B[0m\u001B[38;5;34m599\u001B[0m (2.34 KB)\n",
      "text/html": "<pre style=\"white-space:pre;overflow-x:auto;line-height:normal;font-family:Menlo,'DejaVu Sans Mono',consolas,'Courier New',monospace\"><span style=\"font-weight: bold\"> Total params: </span><span style=\"color: #00af00; text-decoration-color: #00af00\">599</span> (2.34 KB)\n</pre>\n"
     },
     "metadata": {},
     "output_type": "display_data"
    },
    {
     "data": {
      "text/plain": "\u001B[1m Trainable params: \u001B[0m\u001B[38;5;34m599\u001B[0m (2.34 KB)\n",
      "text/html": "<pre style=\"white-space:pre;overflow-x:auto;line-height:normal;font-family:Menlo,'DejaVu Sans Mono',consolas,'Courier New',monospace\"><span style=\"font-weight: bold\"> Trainable params: </span><span style=\"color: #00af00; text-decoration-color: #00af00\">599</span> (2.34 KB)\n</pre>\n"
     },
     "metadata": {},
     "output_type": "display_data"
    },
    {
     "data": {
      "text/plain": "\u001B[1m Non-trainable params: \u001B[0m\u001B[38;5;34m0\u001B[0m (0.00 B)\n",
      "text/html": "<pre style=\"white-space:pre;overflow-x:auto;line-height:normal;font-family:Menlo,'DejaVu Sans Mono',consolas,'Courier New',monospace\"><span style=\"font-weight: bold\"> Non-trainable params: </span><span style=\"color: #00af00; text-decoration-color: #00af00\">0</span> (0.00 B)\n</pre>\n"
     },
     "metadata": {},
     "output_type": "display_data"
    }
   ],
   "source": [
    "model3 = Sequential()\n",
    "model3.add(Dense(20, input_dim=X_train.shape[1]))\n",
    "model3.add(LeakyReLU(alpha=0.1))\n",
    "model3.add(Dense(16))\n",
    "model3.add(LeakyReLU(alpha=0.1))\n",
    "model3.add(Dense(8))\n",
    "model3.add(LeakyReLU(alpha=0.1))\n",
    "model3.add(Dense(3, activation=\"softmax\"))\n",
    "model3.compile(optimizer='adam', loss='sparse_categorical_crossentropy', metrics=['accuracy'])\n",
    "model3.summary()"
   ],
   "metadata": {
    "collapsed": false,
    "ExecuteTime": {
     "end_time": "2024-04-02T16:36:45.819927Z",
     "start_time": "2024-04-02T16:36:45.701690Z"
    }
   },
   "id": "a46a80853b172814",
   "execution_count": 67
  },
  {
   "cell_type": "code",
   "outputs": [
    {
     "name": "stdout",
     "output_type": "stream",
     "text": [
      "Epoch 1/200\n",
      "\u001B[1m4/4\u001B[0m \u001B[32m━━━━━━━━━━━━━━━━━━━━\u001B[0m\u001B[37m\u001B[0m \u001B[1m2s\u001B[0m 4ms/step - accuracy: 0.3896 - loss: 0.8994\n",
      "Epoch 2/200\n",
      "\u001B[1m4/4\u001B[0m \u001B[32m━━━━━━━━━━━━━━━━━━━━\u001B[0m\u001B[37m\u001B[0m \u001B[1m0s\u001B[0m 3ms/step - accuracy: 0.6766 - loss: 0.8211 \n",
      "Epoch 3/200\n",
      "\u001B[1m4/4\u001B[0m \u001B[32m━━━━━━━━━━━━━━━━━━━━\u001B[0m\u001B[37m\u001B[0m \u001B[1m0s\u001B[0m 3ms/step - accuracy: 0.6808 - loss: 0.7688 \n",
      "Epoch 4/200\n",
      "\u001B[1m4/4\u001B[0m \u001B[32m━━━━━━━━━━━━━━━━━━━━\u001B[0m\u001B[37m\u001B[0m \u001B[1m0s\u001B[0m 3ms/step - accuracy: 0.6871 - loss: 0.7268 \n",
      "Epoch 5/200\n",
      "\u001B[1m4/4\u001B[0m \u001B[32m━━━━━━━━━━━━━━━━━━━━\u001B[0m\u001B[37m\u001B[0m \u001B[1m0s\u001B[0m 3ms/step - accuracy: 0.7443 - loss: 0.6747 \n",
      "Epoch 6/200\n",
      "\u001B[1m4/4\u001B[0m \u001B[32m━━━━━━━━━━━━━━━━━━━━\u001B[0m\u001B[37m\u001B[0m \u001B[1m0s\u001B[0m 4ms/step - accuracy: 0.6756 - loss: 0.6817 \n",
      "Epoch 7/200\n",
      "\u001B[1m4/4\u001B[0m \u001B[32m━━━━━━━━━━━━━━━━━━━━\u001B[0m\u001B[37m\u001B[0m \u001B[1m0s\u001B[0m 3ms/step - accuracy: 0.6516 - loss: 0.6647  \n",
      "Epoch 8/200\n",
      "\u001B[1m4/4\u001B[0m \u001B[32m━━━━━━━━━━━━━━━━━━━━\u001B[0m\u001B[37m\u001B[0m \u001B[1m0s\u001B[0m 3ms/step - accuracy: 0.6548 - loss: 0.6414 \n",
      "Epoch 9/200\n",
      "\u001B[1m4/4\u001B[0m \u001B[32m━━━━━━━━━━━━━━━━━━━━\u001B[0m\u001B[37m\u001B[0m \u001B[1m0s\u001B[0m 3ms/step - accuracy: 0.6725 - loss: 0.6146 \n",
      "Epoch 10/200\n",
      "\u001B[1m4/4\u001B[0m \u001B[32m━━━━━━━━━━━━━━━━━━━━\u001B[0m\u001B[37m\u001B[0m \u001B[1m0s\u001B[0m 3ms/step - accuracy: 0.6787 - loss: 0.5951 \n",
      "Epoch 11/200\n",
      "\u001B[1m4/4\u001B[0m \u001B[32m━━━━━━━━━━━━━━━━━━━━\u001B[0m\u001B[37m\u001B[0m \u001B[1m0s\u001B[0m 3ms/step - accuracy: 0.6412 - loss: 0.5961 \n",
      "Epoch 12/200\n",
      "\u001B[1m4/4\u001B[0m \u001B[32m━━━━━━━━━━━━━━━━━━━━\u001B[0m\u001B[37m\u001B[0m \u001B[1m0s\u001B[0m 3ms/step - accuracy: 0.6641 - loss: 0.5743 \n",
      "Epoch 13/200\n",
      "\u001B[1m4/4\u001B[0m \u001B[32m━━━━━━━━━━━━━━━━━━━━\u001B[0m\u001B[37m\u001B[0m \u001B[1m0s\u001B[0m 3ms/step - accuracy: 0.6969 - loss: 0.5422 \n",
      "Epoch 14/200\n",
      "\u001B[1m4/4\u001B[0m \u001B[32m━━━━━━━━━━━━━━━━━━━━\u001B[0m\u001B[37m\u001B[0m \u001B[1m0s\u001B[0m 3ms/step - accuracy: 0.6781 - loss: 0.5226 \n",
      "Epoch 15/200\n",
      "\u001B[1m4/4\u001B[0m \u001B[32m━━━━━━━━━━━━━━━━━━━━\u001B[0m\u001B[37m\u001B[0m \u001B[1m0s\u001B[0m 3ms/step - accuracy: 0.7202 - loss: 0.4904 \n",
      "Epoch 16/200\n",
      "\u001B[1m4/4\u001B[0m \u001B[32m━━━━━━━━━━━━━━━━━━━━\u001B[0m\u001B[37m\u001B[0m \u001B[1m0s\u001B[0m 3ms/step - accuracy: 0.6930 - loss: 0.5024 \n",
      "Epoch 17/200\n",
      "\u001B[1m4/4\u001B[0m \u001B[32m━━━━━━━━━━━━━━━━━━━━\u001B[0m\u001B[37m\u001B[0m \u001B[1m0s\u001B[0m 3ms/step - accuracy: 0.8103 - loss: 0.4657 \n",
      "Epoch 18/200\n",
      "\u001B[1m4/4\u001B[0m \u001B[32m━━━━━━━━━━━━━━━━━━━━\u001B[0m\u001B[37m\u001B[0m \u001B[1m0s\u001B[0m 3ms/step - accuracy: 0.8747 - loss: 0.4367 \n",
      "Epoch 19/200\n",
      "\u001B[1m4/4\u001B[0m \u001B[32m━━━━━━━━━━━━━━━━━━━━\u001B[0m\u001B[37m\u001B[0m \u001B[1m0s\u001B[0m 3ms/step - accuracy: 0.8936 - loss: 0.4191 \n",
      "Epoch 20/200\n",
      "\u001B[1m4/4\u001B[0m \u001B[32m━━━━━━━━━━━━━━━━━━━━\u001B[0m\u001B[37m\u001B[0m \u001B[1m0s\u001B[0m 4ms/step - accuracy: 0.8838 - loss: 0.4145 \n",
      "Epoch 21/200\n",
      "\u001B[1m4/4\u001B[0m \u001B[32m━━━━━━━━━━━━━━━━━━━━\u001B[0m\u001B[37m\u001B[0m \u001B[1m0s\u001B[0m 3ms/step - accuracy: 0.8848 - loss: 0.3876 \n",
      "Epoch 22/200\n",
      "\u001B[1m4/4\u001B[0m \u001B[32m━━━━━━━━━━━━━━━━━━━━\u001B[0m\u001B[37m\u001B[0m \u001B[1m0s\u001B[0m 3ms/step - accuracy: 0.9126 - loss: 0.3649 \n",
      "Epoch 23/200\n",
      "\u001B[1m4/4\u001B[0m \u001B[32m━━━━━━━━━━━━━━━━━━━━\u001B[0m\u001B[37m\u001B[0m \u001B[1m0s\u001B[0m 3ms/step - accuracy: 0.9064 - loss: 0.3769 \n",
      "Epoch 24/200\n",
      "\u001B[1m4/4\u001B[0m \u001B[32m━━━━━━━━━━━━━━━━━━━━\u001B[0m\u001B[37m\u001B[0m \u001B[1m0s\u001B[0m 3ms/step - accuracy: 0.9193 - loss: 0.3516 \n",
      "Epoch 25/200\n",
      "\u001B[1m4/4\u001B[0m \u001B[32m━━━━━━━━━━━━━━━━━━━━\u001B[0m\u001B[37m\u001B[0m \u001B[1m0s\u001B[0m 3ms/step - accuracy: 0.9204 - loss: 0.3415 \n",
      "Epoch 26/200\n",
      "\u001B[1m4/4\u001B[0m \u001B[32m━━━━━━━━━━━━━━━━━━━━\u001B[0m\u001B[37m\u001B[0m \u001B[1m0s\u001B[0m 3ms/step - accuracy: 0.9433 - loss: 0.3358 \n",
      "Epoch 27/200\n",
      "\u001B[1m4/4\u001B[0m \u001B[32m━━━━━━━━━━━━━━━━━━━━\u001B[0m\u001B[37m\u001B[0m \u001B[1m0s\u001B[0m 3ms/step - accuracy: 0.9266 - loss: 0.3215 \n",
      "Epoch 28/200\n",
      "\u001B[1m4/4\u001B[0m \u001B[32m━━━━━━━━━━━━━━━━━━━━\u001B[0m\u001B[37m\u001B[0m \u001B[1m0s\u001B[0m 3ms/step - accuracy: 0.9496 - loss: 0.3076 \n",
      "Epoch 29/200\n",
      "\u001B[1m4/4\u001B[0m \u001B[32m━━━━━━━━━━━━━━━━━━━━\u001B[0m\u001B[37m\u001B[0m \u001B[1m0s\u001B[0m 4ms/step - accuracy: 0.9417 - loss: 0.2866 \n",
      "Epoch 30/200\n",
      "\u001B[1m4/4\u001B[0m \u001B[32m━━━━━━━━━━━━━━━━━━━━\u001B[0m\u001B[37m\u001B[0m \u001B[1m0s\u001B[0m 3ms/step - accuracy: 0.9555 - loss: 0.2898 \n",
      "Epoch 31/200\n",
      "\u001B[1m4/4\u001B[0m \u001B[32m━━━━━━━━━━━━━━━━━━━━\u001B[0m\u001B[37m\u001B[0m \u001B[1m0s\u001B[0m 3ms/step - accuracy: 0.9586 - loss: 0.2963 \n",
      "Epoch 32/200\n",
      "\u001B[1m4/4\u001B[0m \u001B[32m━━━━━━━━━━━━━━━━━━━━\u001B[0m\u001B[37m\u001B[0m \u001B[1m0s\u001B[0m 3ms/step - accuracy: 0.9618 - loss: 0.2778 \n",
      "Epoch 33/200\n",
      "\u001B[1m4/4\u001B[0m \u001B[32m━━━━━━━━━━━━━━━━━━━━\u001B[0m\u001B[37m\u001B[0m \u001B[1m0s\u001B[0m 3ms/step - accuracy: 0.9521 - loss: 0.2644 \n",
      "Epoch 34/200\n",
      "\u001B[1m4/4\u001B[0m \u001B[32m━━━━━━━━━━━━━━━━━━━━\u001B[0m\u001B[37m\u001B[0m \u001B[1m0s\u001B[0m 4ms/step - accuracy: 0.9400 - loss: 0.2715 \n",
      "Epoch 35/200\n",
      "\u001B[1m4/4\u001B[0m \u001B[32m━━━━━━━━━━━━━━━━━━━━\u001B[0m\u001B[37m\u001B[0m \u001B[1m0s\u001B[0m 3ms/step - accuracy: 0.9820 - loss: 0.2507 \n",
      "Epoch 36/200\n",
      "\u001B[1m4/4\u001B[0m \u001B[32m━━━━━━━━━━━━━━━━━━━━\u001B[0m\u001B[37m\u001B[0m \u001B[1m0s\u001B[0m 3ms/step - accuracy: 0.9612 - loss: 0.2634 \n",
      "Epoch 37/200\n",
      "\u001B[1m4/4\u001B[0m \u001B[32m━━━━━━━━━━━━━━━━━━━━\u001B[0m\u001B[37m\u001B[0m \u001B[1m0s\u001B[0m 3ms/step - accuracy: 0.9856 - loss: 0.2421 \n",
      "Epoch 38/200\n",
      "\u001B[1m4/4\u001B[0m \u001B[32m━━━━━━━━━━━━━━━━━━━━\u001B[0m\u001B[37m\u001B[0m \u001B[1m0s\u001B[0m 4ms/step - accuracy: 0.9795 - loss: 0.2302 \n",
      "Epoch 39/200\n",
      "\u001B[1m4/4\u001B[0m \u001B[32m━━━━━━━━━━━━━━━━━━━━\u001B[0m\u001B[37m\u001B[0m \u001B[1m0s\u001B[0m 4ms/step - accuracy: 0.9732 - loss: 0.2187 \n",
      "Epoch 40/200\n",
      "\u001B[1m4/4\u001B[0m \u001B[32m━━━━━━━━━━━━━━━━━━━━\u001B[0m\u001B[37m\u001B[0m \u001B[1m0s\u001B[0m 4ms/step - accuracy: 0.9732 - loss: 0.2350 \n",
      "Epoch 41/200\n",
      "\u001B[1m4/4\u001B[0m \u001B[32m━━━━━━━━━━━━━━━━━━━━\u001B[0m\u001B[37m\u001B[0m \u001B[1m0s\u001B[0m 4ms/step - accuracy: 0.9726 - loss: 0.2141 \n",
      "Epoch 42/200\n",
      "\u001B[1m4/4\u001B[0m \u001B[32m━━━━━━━━━━━━━━━━━━━━\u001B[0m\u001B[37m\u001B[0m \u001B[1m0s\u001B[0m 4ms/step - accuracy: 0.9793 - loss: 0.2262 \n",
      "Epoch 43/200\n",
      "\u001B[1m4/4\u001B[0m \u001B[32m━━━━━━━━━━━━━━━━━━━━\u001B[0m\u001B[37m\u001B[0m \u001B[1m0s\u001B[0m 4ms/step - accuracy: 0.9799 - loss: 0.2084 \n",
      "Epoch 44/200\n",
      "\u001B[1m4/4\u001B[0m \u001B[32m━━━━━━━━━━━━━━━━━━━━\u001B[0m\u001B[37m\u001B[0m \u001B[1m0s\u001B[0m 4ms/step - accuracy: 0.9793 - loss: 0.1975 \n",
      "Epoch 45/200\n",
      "\u001B[1m4/4\u001B[0m \u001B[32m━━━━━━━━━━━━━━━━━━━━\u001B[0m\u001B[37m\u001B[0m \u001B[1m0s\u001B[0m 3ms/step - accuracy: 0.9699 - loss: 0.2099 \n",
      "Epoch 46/200\n",
      "\u001B[1m4/4\u001B[0m \u001B[32m━━━━━━━━━━━━━━━━━━━━\u001B[0m\u001B[37m\u001B[0m \u001B[1m0s\u001B[0m 3ms/step - accuracy: 0.9705 - loss: 0.1943 \n",
      "Epoch 47/200\n",
      "\u001B[1m4/4\u001B[0m \u001B[32m━━━━━━━━━━━━━━━━━━━━\u001B[0m\u001B[37m\u001B[0m \u001B[1m0s\u001B[0m 3ms/step - accuracy: 0.9493 - loss: 0.1847 \n",
      "Epoch 48/200\n",
      "\u001B[1m4/4\u001B[0m \u001B[32m━━━━━━━━━━━━━━━━━━━━\u001B[0m\u001B[37m\u001B[0m \u001B[1m0s\u001B[0m 3ms/step - accuracy: 0.9789 - loss: 0.1769 \n",
      "Epoch 49/200\n",
      "\u001B[1m4/4\u001B[0m \u001B[32m━━━━━━━━━━━━━━━━━━━━\u001B[0m\u001B[37m\u001B[0m \u001B[1m0s\u001B[0m 3ms/step - accuracy: 0.9824 - loss: 0.1714 \n",
      "Epoch 50/200\n",
      "\u001B[1m4/4\u001B[0m \u001B[32m━━━━━━━━━━━━━━━━━━━━\u001B[0m\u001B[37m\u001B[0m \u001B[1m0s\u001B[0m 3ms/step - accuracy: 0.9762 - loss: 0.1669 \n",
      "Epoch 51/200\n",
      "\u001B[1m4/4\u001B[0m \u001B[32m━━━━━━━━━━━━━━━━━━━━\u001B[0m\u001B[37m\u001B[0m \u001B[1m0s\u001B[0m 3ms/step - accuracy: 0.9699 - loss: 0.1764 \n",
      "Epoch 52/200\n",
      "\u001B[1m4/4\u001B[0m \u001B[32m━━━━━━━━━━━━━━━━━━━━\u001B[0m\u001B[37m\u001B[0m \u001B[1m0s\u001B[0m 3ms/step - accuracy: 0.9699 - loss: 0.1690 \n",
      "Epoch 53/200\n",
      "\u001B[1m4/4\u001B[0m \u001B[32m━━━━━━━━━━━━━━━━━━━━\u001B[0m\u001B[37m\u001B[0m \u001B[1m0s\u001B[0m 3ms/step - accuracy: 0.9824 - loss: 0.1657 \n",
      "Epoch 54/200\n",
      "\u001B[1m4/4\u001B[0m \u001B[32m━━━━━━━━━━━━━━━━━━━━\u001B[0m\u001B[37m\u001B[0m \u001B[1m0s\u001B[0m 3ms/step - accuracy: 0.9929 - loss: 0.1513 \n",
      "Epoch 55/200\n",
      "\u001B[1m4/4\u001B[0m \u001B[32m━━━━━━━━━━━━━━━━━━━━\u001B[0m\u001B[37m\u001B[0m \u001B[1m0s\u001B[0m 3ms/step - accuracy: 0.9856 - loss: 0.1470 \n",
      "Epoch 56/200\n",
      "\u001B[1m4/4\u001B[0m \u001B[32m━━━━━━━━━━━━━━━━━━━━\u001B[0m\u001B[37m\u001B[0m \u001B[1m0s\u001B[0m 4ms/step - accuracy: 0.9824 - loss: 0.1314 \n",
      "Epoch 57/200\n",
      "\u001B[1m4/4\u001B[0m \u001B[32m━━━━━━━━━━━━━━━━━━━━\u001B[0m\u001B[37m\u001B[0m \u001B[1m0s\u001B[0m 3ms/step - accuracy: 0.9799 - loss: 0.1142 \n",
      "Epoch 58/200\n",
      "\u001B[1m4/4\u001B[0m \u001B[32m━━━━━━━━━━━━━━━━━━━━\u001B[0m\u001B[37m\u001B[0m \u001B[1m0s\u001B[0m 3ms/step - accuracy: 0.9793 - loss: 0.1127 \n",
      "Epoch 59/200\n",
      "\u001B[1m4/4\u001B[0m \u001B[32m━━━━━━━━━━━━━━━━━━━━\u001B[0m\u001B[37m\u001B[0m \u001B[1m0s\u001B[0m 3ms/step - accuracy: 0.9699 - loss: 0.1295 \n",
      "Epoch 60/200\n",
      "\u001B[1m4/4\u001B[0m \u001B[32m━━━━━━━━━━━━━━━━━━━━\u001B[0m\u001B[37m\u001B[0m \u001B[1m0s\u001B[0m 3ms/step - accuracy: 0.9850 - loss: 0.1229 \n",
      "Epoch 61/200\n",
      "\u001B[1m4/4\u001B[0m \u001B[32m━━━━━━━━━━━━━━━━━━━━\u001B[0m\u001B[37m\u001B[0m \u001B[1m0s\u001B[0m 3ms/step - accuracy: 0.9726 - loss: 0.1132 \n",
      "Epoch 62/200\n",
      "\u001B[1m4/4\u001B[0m \u001B[32m━━━━━━━━━━━━━━━━━━━━\u001B[0m\u001B[37m\u001B[0m \u001B[1m0s\u001B[0m 3ms/step - accuracy: 0.9799 - loss: 0.1047 \n",
      "Epoch 63/200\n",
      "\u001B[1m4/4\u001B[0m \u001B[32m━━━━━━━━━━━━━━━━━━━━\u001B[0m\u001B[37m\u001B[0m \u001B[1m0s\u001B[0m 3ms/step - accuracy: 0.9887 - loss: 0.1122 \n",
      "Epoch 64/200\n",
      "\u001B[1m4/4\u001B[0m \u001B[32m━━━━━━━━━━━━━━━━━━━━\u001B[0m\u001B[37m\u001B[0m \u001B[1m0s\u001B[0m 4ms/step - accuracy: 0.9850 - loss: 0.1107 \n",
      "Epoch 65/200\n",
      "\u001B[1m4/4\u001B[0m \u001B[32m━━━━━━━━━━━━━━━━━━━━\u001B[0m\u001B[37m\u001B[0m \u001B[1m0s\u001B[0m 3ms/step - accuracy: 0.9793 - loss: 0.0952 \n",
      "Epoch 66/200\n",
      "\u001B[1m4/4\u001B[0m \u001B[32m━━━━━━━━━━━━━━━━━━━━\u001B[0m\u001B[37m\u001B[0m \u001B[1m0s\u001B[0m 3ms/step - accuracy: 0.9643 - loss: 0.1220 \n",
      "Epoch 67/200\n",
      "\u001B[1m4/4\u001B[0m \u001B[32m━━━━━━━━━━━━━━━━━━━━\u001B[0m\u001B[37m\u001B[0m \u001B[1m0s\u001B[0m 4ms/step - accuracy: 0.9793 - loss: 0.1020 \n",
      "Epoch 68/200\n",
      "\u001B[1m4/4\u001B[0m \u001B[32m━━━━━━━━━━━━━━━━━━━━\u001B[0m\u001B[37m\u001B[0m \u001B[1m0s\u001B[0m 3ms/step - accuracy: 0.9908 - loss: 0.0897 \n",
      "Epoch 69/200\n",
      "\u001B[1m4/4\u001B[0m \u001B[32m━━━━━━━━━━━━━━━━━━━━\u001B[0m\u001B[37m\u001B[0m \u001B[1m0s\u001B[0m 4ms/step - accuracy: 0.9762 - loss: 0.0950 \n",
      "Epoch 70/200\n",
      "\u001B[1m4/4\u001B[0m \u001B[32m━━━━━━━━━━━━━━━━━━━━\u001B[0m\u001B[37m\u001B[0m \u001B[1m0s\u001B[0m 4ms/step - accuracy: 0.9793 - loss: 0.0855 \n",
      "Epoch 71/200\n",
      "\u001B[1m4/4\u001B[0m \u001B[32m━━━━━━━━━━━━━━━━━━━━\u001B[0m\u001B[37m\u001B[0m \u001B[1m0s\u001B[0m 3ms/step - accuracy: 0.9887 - loss: 0.0875 \n",
      "Epoch 72/200\n",
      "\u001B[1m4/4\u001B[0m \u001B[32m━━━━━━━━━━━━━━━━━━━━\u001B[0m\u001B[37m\u001B[0m \u001B[1m0s\u001B[0m 3ms/step - accuracy: 0.9856 - loss: 0.0851 \n",
      "Epoch 73/200\n",
      "\u001B[1m4/4\u001B[0m \u001B[32m━━━━━━━━━━━━━━━━━━━━\u001B[0m\u001B[37m\u001B[0m \u001B[1m0s\u001B[0m 3ms/step - accuracy: 0.9814 - loss: 0.1004 \n",
      "Epoch 74/200\n",
      "\u001B[1m4/4\u001B[0m \u001B[32m━━━━━━━━━━━━━━━━━━━━\u001B[0m\u001B[37m\u001B[0m \u001B[1m0s\u001B[0m 3ms/step - accuracy: 0.9887 - loss: 0.0759 \n",
      "Epoch 75/200\n",
      "\u001B[1m4/4\u001B[0m \u001B[32m━━━━━━━━━━━━━━━━━━━━\u001B[0m\u001B[37m\u001B[0m \u001B[1m0s\u001B[0m 3ms/step - accuracy: 0.9856 - loss: 0.0828 \n",
      "Epoch 76/200\n",
      "\u001B[1m4/4\u001B[0m \u001B[32m━━━━━━━━━━━━━━━━━━━━\u001B[0m\u001B[37m\u001B[0m \u001B[1m0s\u001B[0m 3ms/step - accuracy: 0.9793 - loss: 0.0868 \n",
      "Epoch 77/200\n",
      "\u001B[1m4/4\u001B[0m \u001B[32m━━━━━━━━━━━━━━━━━━━━\u001B[0m\u001B[37m\u001B[0m \u001B[1m0s\u001B[0m 3ms/step - accuracy: 0.9699 - loss: 0.0896 \n",
      "Epoch 78/200\n",
      "\u001B[1m4/4\u001B[0m \u001B[32m━━━━━━━━━━━━━━━━━━━━\u001B[0m\u001B[37m\u001B[0m \u001B[1m0s\u001B[0m 3ms/step - accuracy: 0.9762 - loss: 0.0858 \n",
      "Epoch 79/200\n",
      "\u001B[1m4/4\u001B[0m \u001B[32m━━━━━━━━━━━━━━━━━━━━\u001B[0m\u001B[37m\u001B[0m \u001B[1m0s\u001B[0m 3ms/step - accuracy: 0.9699 - loss: 0.0945 \n",
      "Epoch 80/200\n",
      "\u001B[1m4/4\u001B[0m \u001B[32m━━━━━━━━━━━━━━━━━━━━\u001B[0m\u001B[37m\u001B[0m \u001B[1m0s\u001B[0m 3ms/step - accuracy: 0.9814 - loss: 0.0902 \n",
      "Epoch 81/200\n",
      "\u001B[1m4/4\u001B[0m \u001B[32m━━━━━━━━━━━━━━━━━━━━\u001B[0m\u001B[37m\u001B[0m \u001B[1m0s\u001B[0m 3ms/step - accuracy: 0.9876 - loss: 0.0785 \n",
      "Epoch 82/200\n",
      "\u001B[1m4/4\u001B[0m \u001B[32m━━━━━━━━━━━━━━━━━━━━\u001B[0m\u001B[37m\u001B[0m \u001B[1m0s\u001B[0m 3ms/step - accuracy: 0.9762 - loss: 0.0825 \n",
      "Epoch 83/200\n",
      "\u001B[1m4/4\u001B[0m \u001B[32m━━━━━━━━━━━━━━━━━━━━\u001B[0m\u001B[37m\u001B[0m \u001B[1m0s\u001B[0m 4ms/step - accuracy: 0.9887 - loss: 0.0702 \n",
      "Epoch 84/200\n",
      "\u001B[1m4/4\u001B[0m \u001B[32m━━━━━━━━━━━━━━━━━━━━\u001B[0m\u001B[37m\u001B[0m \u001B[1m0s\u001B[0m 3ms/step - accuracy: 0.9762 - loss: 0.0830 \n",
      "Epoch 85/200\n",
      "\u001B[1m4/4\u001B[0m \u001B[32m━━━━━━━━━━━━━━━━━━━━\u001B[0m\u001B[37m\u001B[0m \u001B[1m0s\u001B[0m 4ms/step - accuracy: 0.9793 - loss: 0.0720 \n",
      "Epoch 86/200\n",
      "\u001B[1m4/4\u001B[0m \u001B[32m━━━━━━━━━━━━━━━━━━━━\u001B[0m\u001B[37m\u001B[0m \u001B[1m0s\u001B[0m 4ms/step - accuracy: 0.9876 - loss: 0.0756 \n",
      "Epoch 87/200\n",
      "\u001B[1m4/4\u001B[0m \u001B[32m━━━━━━━━━━━━━━━━━━━━\u001B[0m\u001B[37m\u001B[0m \u001B[1m0s\u001B[0m 3ms/step - accuracy: 0.9762 - loss: 0.0766 \n",
      "Epoch 88/200\n",
      "\u001B[1m4/4\u001B[0m \u001B[32m━━━━━━━━━━━━━━━━━━━━\u001B[0m\u001B[37m\u001B[0m \u001B[1m0s\u001B[0m 3ms/step - accuracy: 0.9824 - loss: 0.0716 \n",
      "Epoch 89/200\n",
      "\u001B[1m4/4\u001B[0m \u001B[32m━━━━━━━━━━━━━━━━━━━━\u001B[0m\u001B[37m\u001B[0m \u001B[1m0s\u001B[0m 3ms/step - accuracy: 0.9876 - loss: 0.0694 \n",
      "Epoch 90/200\n",
      "\u001B[1m4/4\u001B[0m \u001B[32m━━━━━━━━━━━━━━━━━━━━\u001B[0m\u001B[37m\u001B[0m \u001B[1m0s\u001B[0m 3ms/step - accuracy: 0.9908 - loss: 0.0717 \n",
      "Epoch 91/200\n",
      "\u001B[1m4/4\u001B[0m \u001B[32m━━━━━━━━━━━━━━━━━━━━\u001B[0m\u001B[37m\u001B[0m \u001B[1m0s\u001B[0m 3ms/step - accuracy: 0.9699 - loss: 0.0862 \n",
      "Epoch 92/200\n",
      "\u001B[1m4/4\u001B[0m \u001B[32m━━━━━━━━━━━━━━━━━━━━\u001B[0m\u001B[37m\u001B[0m \u001B[1m0s\u001B[0m 3ms/step - accuracy: 0.9908 - loss: 0.0618 \n",
      "Epoch 93/200\n",
      "\u001B[1m4/4\u001B[0m \u001B[32m━━━━━━━━━━━━━━━━━━━━\u001B[0m\u001B[37m\u001B[0m \u001B[1m0s\u001B[0m 3ms/step - accuracy: 0.9850 - loss: 0.0924 \n",
      "Epoch 94/200\n",
      "\u001B[1m4/4\u001B[0m \u001B[32m━━━━━━━━━━━━━━━━━━━━\u001B[0m\u001B[37m\u001B[0m \u001B[1m0s\u001B[0m 3ms/step - accuracy: 0.9793 - loss: 0.0767 \n",
      "Epoch 95/200\n",
      "\u001B[1m4/4\u001B[0m \u001B[32m━━━━━━━━━━━━━━━━━━━━\u001B[0m\u001B[37m\u001B[0m \u001B[1m0s\u001B[0m 3ms/step - accuracy: 0.9824 - loss: 0.0645 \n",
      "Epoch 96/200\n",
      "\u001B[1m4/4\u001B[0m \u001B[32m━━━━━━━━━━━━━━━━━━━━\u001B[0m\u001B[37m\u001B[0m \u001B[1m0s\u001B[0m 3ms/step - accuracy: 0.9699 - loss: 0.0830 \n",
      "Epoch 97/200\n",
      "\u001B[1m4/4\u001B[0m \u001B[32m━━━━━━━━━━━━━━━━━━━━\u001B[0m\u001B[37m\u001B[0m \u001B[1m0s\u001B[0m 3ms/step - accuracy: 0.9793 - loss: 0.0698 \n",
      "Epoch 98/200\n",
      "\u001B[1m4/4\u001B[0m \u001B[32m━━━━━━━━━━━━━━━━━━━━\u001B[0m\u001B[37m\u001B[0m \u001B[1m0s\u001B[0m 3ms/step - accuracy: 0.9699 - loss: 0.0775 \n",
      "Epoch 99/200\n",
      "\u001B[1m4/4\u001B[0m \u001B[32m━━━━━━━━━━━━━━━━━━━━\u001B[0m\u001B[37m\u001B[0m \u001B[1m0s\u001B[0m 3ms/step - accuracy: 0.9793 - loss: 0.0685 \n",
      "Epoch 100/200\n",
      "\u001B[1m4/4\u001B[0m \u001B[32m━━━━━━━━━━━━━━━━━━━━\u001B[0m\u001B[37m\u001B[0m \u001B[1m0s\u001B[0m 3ms/step - accuracy: 0.9856 - loss: 0.0616 \n",
      "Epoch 101/200\n",
      "\u001B[1m4/4\u001B[0m \u001B[32m━━━━━━━━━━━━━━━━━━━━\u001B[0m\u001B[37m\u001B[0m \u001B[1m0s\u001B[0m 4ms/step - accuracy: 0.9943 - loss: 0.0733 \n",
      "Epoch 102/200\n",
      "\u001B[1m4/4\u001B[0m \u001B[32m━━━━━━━━━━━━━━━━━━━━\u001B[0m\u001B[37m\u001B[0m \u001B[1m0s\u001B[0m 3ms/step - accuracy: 0.9699 - loss: 0.0678 \n",
      "Epoch 103/200\n",
      "\u001B[1m4/4\u001B[0m \u001B[32m━━━━━━━━━━━━━━━━━━━━\u001B[0m\u001B[37m\u001B[0m \u001B[1m0s\u001B[0m 3ms/step - accuracy: 0.9793 - loss: 0.0660 \n",
      "Epoch 104/200\n",
      "\u001B[1m4/4\u001B[0m \u001B[32m━━━━━━━━━━━━━━━━━━━━\u001B[0m\u001B[37m\u001B[0m \u001B[1m0s\u001B[0m 4ms/step - accuracy: 0.9824 - loss: 0.0627 \n",
      "Epoch 105/200\n",
      "\u001B[1m4/4\u001B[0m \u001B[32m━━━━━━━━━━━━━━━━━━━━\u001B[0m\u001B[37m\u001B[0m \u001B[1m0s\u001B[0m 3ms/step - accuracy: 0.9762 - loss: 0.0687 \n",
      "Epoch 106/200\n",
      "\u001B[1m4/4\u001B[0m \u001B[32m━━━━━━━━━━━━━━━━━━━━\u001B[0m\u001B[37m\u001B[0m \u001B[1m0s\u001B[0m 3ms/step - accuracy: 0.9814 - loss: 0.0704 \n",
      "Epoch 107/200\n",
      "\u001B[1m4/4\u001B[0m \u001B[32m━━━━━━━━━━━━━━━━━━━━\u001B[0m\u001B[37m\u001B[0m \u001B[1m0s\u001B[0m 3ms/step - accuracy: 0.9814 - loss: 0.0672 \n",
      "Epoch 108/200\n",
      "\u001B[1m4/4\u001B[0m \u001B[32m━━━━━━━━━━━━━━━━━━━━\u001B[0m\u001B[37m\u001B[0m \u001B[1m0s\u001B[0m 3ms/step - accuracy: 0.9824 - loss: 0.0631 \n",
      "Epoch 109/200\n",
      "\u001B[1m4/4\u001B[0m \u001B[32m━━━━━━━━━━━━━━━━━━━━\u001B[0m\u001B[37m\u001B[0m \u001B[1m0s\u001B[0m 3ms/step - accuracy: 0.9856 - loss: 0.0488 \n",
      "Epoch 110/200\n",
      "\u001B[1m4/4\u001B[0m \u001B[32m━━━━━━━━━━━━━━━━━━━━\u001B[0m\u001B[37m\u001B[0m \u001B[1m0s\u001B[0m 3ms/step - accuracy: 0.9793 - loss: 0.0647 \n",
      "Epoch 111/200\n",
      "\u001B[1m4/4\u001B[0m \u001B[32m━━━━━━━━━━━━━━━━━━━━\u001B[0m\u001B[37m\u001B[0m \u001B[1m0s\u001B[0m 3ms/step - accuracy: 0.9793 - loss: 0.0721 \n",
      "Epoch 112/200\n",
      "\u001B[1m4/4\u001B[0m \u001B[32m━━━━━━━━━━━━━━━━━━━━\u001B[0m\u001B[37m\u001B[0m \u001B[1m0s\u001B[0m 3ms/step - accuracy: 0.9699 - loss: 0.0715 \n",
      "Epoch 113/200\n",
      "\u001B[1m4/4\u001B[0m \u001B[32m━━━━━━━━━━━━━━━━━━━━\u001B[0m\u001B[37m\u001B[0m \u001B[1m0s\u001B[0m 3ms/step - accuracy: 0.9824 - loss: 0.0601 \n",
      "Epoch 114/200\n",
      "\u001B[1m4/4\u001B[0m \u001B[32m━━━━━━━━━━━━━━━━━━━━\u001B[0m\u001B[37m\u001B[0m \u001B[1m0s\u001B[0m 3ms/step - accuracy: 0.9793 - loss: 0.0607 \n",
      "Epoch 115/200\n",
      "\u001B[1m4/4\u001B[0m \u001B[32m━━━━━━━━━━━━━━━━━━━━\u001B[0m\u001B[37m\u001B[0m \u001B[1m0s\u001B[0m 4ms/step - accuracy: 0.9762 - loss: 0.0630 \n",
      "Epoch 116/200\n",
      "\u001B[1m4/4\u001B[0m \u001B[32m━━━━━━━━━━━━━━━━━━━━\u001B[0m\u001B[37m\u001B[0m \u001B[1m0s\u001B[0m 3ms/step - accuracy: 0.9856 - loss: 0.0565 \n",
      "Epoch 117/200\n",
      "\u001B[1m4/4\u001B[0m \u001B[32m━━━━━━━━━━━━━━━━━━━━\u001B[0m\u001B[37m\u001B[0m \u001B[1m0s\u001B[0m 3ms/step - accuracy: 0.9850 - loss: 0.0639 \n",
      "Epoch 118/200\n",
      "\u001B[1m4/4\u001B[0m \u001B[32m━━━━━━━━━━━━━━━━━━━━\u001B[0m\u001B[37m\u001B[0m \u001B[1m0s\u001B[0m 3ms/step - accuracy: 0.9912 - loss: 0.0577 \n",
      "Epoch 119/200\n",
      "\u001B[1m4/4\u001B[0m \u001B[32m━━━━━━━━━━━━━━━━━━━━\u001B[0m\u001B[37m\u001B[0m \u001B[1m0s\u001B[0m 3ms/step - accuracy: 0.9876 - loss: 0.0590 \n",
      "Epoch 120/200\n",
      "\u001B[1m4/4\u001B[0m \u001B[32m━━━━━━━━━━━━━━━━━━━━\u001B[0m\u001B[37m\u001B[0m \u001B[1m0s\u001B[0m 3ms/step - accuracy: 0.9824 - loss: 0.0593 \n",
      "Epoch 121/200\n",
      "\u001B[1m4/4\u001B[0m \u001B[32m━━━━━━━━━━━━━━━━━━━━\u001B[0m\u001B[37m\u001B[0m \u001B[1m0s\u001B[0m 3ms/step - accuracy: 0.9856 - loss: 0.0521 \n",
      "Epoch 122/200\n",
      "\u001B[1m4/4\u001B[0m \u001B[32m━━━━━━━━━━━━━━━━━━━━\u001B[0m\u001B[37m\u001B[0m \u001B[1m0s\u001B[0m 3ms/step - accuracy: 0.9850 - loss: 0.0607 \n",
      "Epoch 123/200\n",
      "\u001B[1m4/4\u001B[0m \u001B[32m━━━━━━━━━━━━━━━━━━━━\u001B[0m\u001B[37m\u001B[0m \u001B[1m0s\u001B[0m 3ms/step - accuracy: 0.9887 - loss: 0.0475 \n",
      "Epoch 124/200\n",
      "\u001B[1m4/4\u001B[0m \u001B[32m━━━━━━━━━━━━━━━━━━━━\u001B[0m\u001B[37m\u001B[0m \u001B[1m0s\u001B[0m 3ms/step - accuracy: 0.9887 - loss: 0.0466 \n",
      "Epoch 125/200\n",
      "\u001B[1m4/4\u001B[0m \u001B[32m━━━━━━━━━━━━━━━━━━━━\u001B[0m\u001B[37m\u001B[0m \u001B[1m0s\u001B[0m 3ms/step - accuracy: 0.9762 - loss: 0.0587 \n",
      "Epoch 126/200\n",
      "\u001B[1m4/4\u001B[0m \u001B[32m━━━━━━━━━━━━━━━━━━━━\u001B[0m\u001B[37m\u001B[0m \u001B[1m0s\u001B[0m 3ms/step - accuracy: 0.9912 - loss: 0.0506 \n",
      "Epoch 127/200\n",
      "\u001B[1m4/4\u001B[0m \u001B[32m━━━━━━━━━━━━━━━━━━━━\u001B[0m\u001B[37m\u001B[0m \u001B[1m0s\u001B[0m 3ms/step - accuracy: 0.9908 - loss: 0.0468 \n",
      "Epoch 128/200\n",
      "\u001B[1m4/4\u001B[0m \u001B[32m━━━━━━━━━━━━━━━━━━━━\u001B[0m\u001B[37m\u001B[0m \u001B[1m0s\u001B[0m 4ms/step - accuracy: 0.9943 - loss: 0.0407 \n",
      "Epoch 129/200\n",
      "\u001B[1m4/4\u001B[0m \u001B[32m━━━━━━━━━━━━━━━━━━━━\u001B[0m\u001B[37m\u001B[0m \u001B[1m0s\u001B[0m 3ms/step - accuracy: 0.9856 - loss: 0.0506 \n",
      "Epoch 130/200\n",
      "\u001B[1m4/4\u001B[0m \u001B[32m━━━━━━━━━━━━━━━━━━━━\u001B[0m\u001B[37m\u001B[0m \u001B[1m0s\u001B[0m 3ms/step - accuracy: 0.9762 - loss: 0.0564 \n",
      "Epoch 131/200\n",
      "\u001B[1m4/4\u001B[0m \u001B[32m━━━━━━━━━━━━━━━━━━━━\u001B[0m\u001B[37m\u001B[0m \u001B[1m0s\u001B[0m 3ms/step - accuracy: 0.9699 - loss: 0.0584 \n",
      "Epoch 132/200\n",
      "\u001B[1m4/4\u001B[0m \u001B[32m━━━━━━━━━━━━━━━━━━━━\u001B[0m\u001B[37m\u001B[0m \u001B[1m0s\u001B[0m 3ms/step - accuracy: 0.9912 - loss: 0.0509 \n",
      "Epoch 133/200\n",
      "\u001B[1m4/4\u001B[0m \u001B[32m━━━━━━━━━━━━━━━━━━━━\u001B[0m\u001B[37m\u001B[0m \u001B[1m0s\u001B[0m 3ms/step - accuracy: 0.9943 - loss: 0.0572 \n",
      "Epoch 134/200\n",
      "\u001B[1m4/4\u001B[0m \u001B[32m━━━━━━━━━━━━━━━━━━━━\u001B[0m\u001B[37m\u001B[0m \u001B[1m0s\u001B[0m 3ms/step - accuracy: 0.9856 - loss: 0.0430 \n",
      "Epoch 135/200\n",
      "\u001B[1m4/4\u001B[0m \u001B[32m━━━━━━━━━━━━━━━━━━━━\u001B[0m\u001B[37m\u001B[0m \u001B[1m0s\u001B[0m 3ms/step - accuracy: 0.9850 - loss: 0.0554 \n",
      "Epoch 136/200\n",
      "\u001B[1m4/4\u001B[0m \u001B[32m━━━━━━━━━━━━━━━━━━━━\u001B[0m\u001B[37m\u001B[0m \u001B[1m0s\u001B[0m 3ms/step - accuracy: 0.9943 - loss: 0.0548 \n",
      "Epoch 137/200\n",
      "\u001B[1m4/4\u001B[0m \u001B[32m━━━━━━━━━━━━━━━━━━━━\u001B[0m\u001B[37m\u001B[0m \u001B[1m0s\u001B[0m 4ms/step - accuracy: 0.9912 - loss: 0.0523 \n",
      "Epoch 138/200\n",
      "\u001B[1m4/4\u001B[0m \u001B[32m━━━━━━━━━━━━━━━━━━━━\u001B[0m\u001B[37m\u001B[0m \u001B[1m0s\u001B[0m 3ms/step - accuracy: 0.9762 - loss: 0.0558 \n",
      "Epoch 139/200\n",
      "\u001B[1m4/4\u001B[0m \u001B[32m━━━━━━━━━━━━━━━━━━━━\u001B[0m\u001B[37m\u001B[0m \u001B[1m0s\u001B[0m 3ms/step - accuracy: 0.9793 - loss: 0.0587 \n",
      "Epoch 140/200\n",
      "\u001B[1m4/4\u001B[0m \u001B[32m━━━━━━━━━━━━━━━━━━━━\u001B[0m\u001B[37m\u001B[0m \u001B[1m0s\u001B[0m 3ms/step - accuracy: 0.9912 - loss: 0.0486 \n",
      "Epoch 141/200\n",
      "\u001B[1m4/4\u001B[0m \u001B[32m━━━━━━━━━━━━━━━━━━━━\u001B[0m\u001B[37m\u001B[0m \u001B[1m0s\u001B[0m 3ms/step - accuracy: 0.9850 - loss: 0.0475 \n",
      "Epoch 142/200\n",
      "\u001B[1m4/4\u001B[0m \u001B[32m━━━━━━━━━━━━━━━━━━━━\u001B[0m\u001B[37m\u001B[0m \u001B[1m0s\u001B[0m 3ms/step - accuracy: 0.9856 - loss: 0.0499 \n",
      "Epoch 143/200\n",
      "\u001B[1m4/4\u001B[0m \u001B[32m━━━━━━━━━━━━━━━━━━━━\u001B[0m\u001B[37m\u001B[0m \u001B[1m0s\u001B[0m 3ms/step - accuracy: 0.9908 - loss: 0.0413 \n",
      "Epoch 144/200\n",
      "\u001B[1m4/4\u001B[0m \u001B[32m━━━━━━━━━━━━━━━━━━━━\u001B[0m\u001B[37m\u001B[0m \u001B[1m0s\u001B[0m 3ms/step - accuracy: 0.9762 - loss: 0.0464 \n",
      "Epoch 145/200\n",
      "\u001B[1m4/4\u001B[0m \u001B[32m━━━━━━━━━━━━━━━━━━━━\u001B[0m\u001B[37m\u001B[0m \u001B[1m0s\u001B[0m 3ms/step - accuracy: 0.9850 - loss: 0.0510 \n",
      "Epoch 146/200\n",
      "\u001B[1m4/4\u001B[0m \u001B[32m━━━━━━━━━━━━━━━━━━━━\u001B[0m\u001B[37m\u001B[0m \u001B[1m0s\u001B[0m 4ms/step - accuracy: 0.9912 - loss: 0.0545 \n",
      "Epoch 147/200\n",
      "\u001B[1m4/4\u001B[0m \u001B[32m━━━━━━━━━━━━━━━━━━━━\u001B[0m\u001B[37m\u001B[0m \u001B[1m0s\u001B[0m 3ms/step - accuracy: 0.9856 - loss: 0.0483 \n",
      "Epoch 148/200\n",
      "\u001B[1m4/4\u001B[0m \u001B[32m━━━━━━━━━━━━━━━━━━━━\u001B[0m\u001B[37m\u001B[0m \u001B[1m0s\u001B[0m 3ms/step - accuracy: 0.9824 - loss: 0.0472 \n",
      "Epoch 149/200\n",
      "\u001B[1m4/4\u001B[0m \u001B[32m━━━━━━━━━━━━━━━━━━━━\u001B[0m\u001B[37m\u001B[0m \u001B[1m0s\u001B[0m 3ms/step - accuracy: 0.9943 - loss: 0.0395 \n",
      "Epoch 150/200\n",
      "\u001B[1m4/4\u001B[0m \u001B[32m━━━━━━━━━━━━━━━━━━━━\u001B[0m\u001B[37m\u001B[0m \u001B[1m0s\u001B[0m 3ms/step - accuracy: 0.9850 - loss: 0.0505 \n",
      "Epoch 151/200\n",
      "\u001B[1m4/4\u001B[0m \u001B[32m━━━━━━━━━━━━━━━━━━━━\u001B[0m\u001B[37m\u001B[0m \u001B[1m0s\u001B[0m 3ms/step - accuracy: 0.9943 - loss: 0.0403 \n",
      "Epoch 152/200\n",
      "\u001B[1m4/4\u001B[0m \u001B[32m━━━━━━━━━━━━━━━━━━━━\u001B[0m\u001B[37m\u001B[0m \u001B[1m0s\u001B[0m 3ms/step - accuracy: 0.9850 - loss: 0.0506 \n",
      "Epoch 153/200\n",
      "\u001B[1m4/4\u001B[0m \u001B[32m━━━━━━━━━━━━━━━━━━━━\u001B[0m\u001B[37m\u001B[0m \u001B[1m0s\u001B[0m 3ms/step - accuracy: 0.9908 - loss: 0.0380 \n",
      "Epoch 154/200\n",
      "\u001B[1m4/4\u001B[0m \u001B[32m━━━━━━━━━━━━━━━━━━━━\u001B[0m\u001B[37m\u001B[0m \u001B[1m0s\u001B[0m 3ms/step - accuracy: 0.9850 - loss: 0.0543 \n",
      "Epoch 155/200\n",
      "\u001B[1m4/4\u001B[0m \u001B[32m━━━━━━━━━━━━━━━━━━━━\u001B[0m\u001B[37m\u001B[0m \u001B[1m0s\u001B[0m 3ms/step - accuracy: 0.9943 - loss: 0.0410 \n",
      "Epoch 156/200\n",
      "\u001B[1m4/4\u001B[0m \u001B[32m━━━━━━━━━━━━━━━━━━━━\u001B[0m\u001B[37m\u001B[0m \u001B[1m0s\u001B[0m 3ms/step - accuracy: 0.9850 - loss: 0.0445 \n",
      "Epoch 157/200\n",
      "\u001B[1m4/4\u001B[0m \u001B[32m━━━━━━━━━━━━━━━━━━━━\u001B[0m\u001B[37m\u001B[0m \u001B[1m0s\u001B[0m 5ms/step - accuracy: 0.9943 - loss: 0.0443 \n",
      "Epoch 158/200\n",
      "\u001B[1m4/4\u001B[0m \u001B[32m━━━━━━━━━━━━━━━━━━━━\u001B[0m\u001B[37m\u001B[0m \u001B[1m0s\u001B[0m 3ms/step - accuracy: 0.9908 - loss: 0.0350 \n",
      "Epoch 159/200\n",
      "\u001B[1m4/4\u001B[0m \u001B[32m━━━━━━━━━━━━━━━━━━━━\u001B[0m\u001B[37m\u001B[0m \u001B[1m0s\u001B[0m 3ms/step - accuracy: 0.9964 - loss: 0.0353 \n",
      "Epoch 160/200\n",
      "\u001B[1m4/4\u001B[0m \u001B[32m━━━━━━━━━━━━━━━━━━━━\u001B[0m\u001B[37m\u001B[0m \u001B[1m0s\u001B[0m 3ms/step - accuracy: 0.9943 - loss: 0.0358 \n",
      "Epoch 161/200\n",
      "\u001B[1m4/4\u001B[0m \u001B[32m━━━━━━━━━━━━━━━━━━━━\u001B[0m\u001B[37m\u001B[0m \u001B[1m0s\u001B[0m 4ms/step - accuracy: 0.9943 - loss: 0.0436 \n",
      "Epoch 162/200\n",
      "\u001B[1m4/4\u001B[0m \u001B[32m━━━━━━━━━━━━━━━━━━━━\u001B[0m\u001B[37m\u001B[0m \u001B[1m0s\u001B[0m 3ms/step - accuracy: 0.9964 - loss: 0.0417 \n",
      "Epoch 163/200\n",
      "\u001B[1m4/4\u001B[0m \u001B[32m━━━━━━━━━━━━━━━━━━━━\u001B[0m\u001B[37m\u001B[0m \u001B[1m0s\u001B[0m 3ms/step - accuracy: 0.9699 - loss: 0.0581 \n",
      "Epoch 164/200\n",
      "\u001B[1m4/4\u001B[0m \u001B[32m━━━━━━━━━━━━━━━━━━━━\u001B[0m\u001B[37m\u001B[0m \u001B[1m0s\u001B[0m 3ms/step - accuracy: 0.9850 - loss: 0.0491 \n",
      "Epoch 165/200\n",
      "\u001B[1m4/4\u001B[0m \u001B[32m━━━━━━━━━━━━━━━━━━━━\u001B[0m\u001B[37m\u001B[0m \u001B[1m0s\u001B[0m 3ms/step - accuracy: 0.9850 - loss: 0.0477 \n",
      "Epoch 166/200\n",
      "\u001B[1m4/4\u001B[0m \u001B[32m━━━━━━━━━━━━━━━━━━━━\u001B[0m\u001B[37m\u001B[0m \u001B[1m0s\u001B[0m 3ms/step - accuracy: 0.9887 - loss: 0.0330 \n",
      "Epoch 167/200\n",
      "\u001B[1m4/4\u001B[0m \u001B[32m━━━━━━━━━━━━━━━━━━━━\u001B[0m\u001B[37m\u001B[0m \u001B[1m0s\u001B[0m 3ms/step - accuracy: 0.9850 - loss: 0.0461 \n",
      "Epoch 168/200\n",
      "\u001B[1m4/4\u001B[0m \u001B[32m━━━━━━━━━━━━━━━━━━━━\u001B[0m\u001B[37m\u001B[0m \u001B[1m0s\u001B[0m 3ms/step - accuracy: 0.9964 - loss: 0.0382 \n",
      "Epoch 169/200\n",
      "\u001B[1m4/4\u001B[0m \u001B[32m━━━━━━━━━━━━━━━━━━━━\u001B[0m\u001B[37m\u001B[0m \u001B[1m0s\u001B[0m 3ms/step - accuracy: 0.9850 - loss: 0.0452 \n",
      "Epoch 170/200\n",
      "\u001B[1m4/4\u001B[0m \u001B[32m━━━━━━━━━━━━━━━━━━━━\u001B[0m\u001B[37m\u001B[0m \u001B[1m0s\u001B[0m 3ms/step - accuracy: 0.9943 - loss: 0.0313 \n",
      "Epoch 171/200\n",
      "\u001B[1m4/4\u001B[0m \u001B[32m━━━━━━━━━━━━━━━━━━━━\u001B[0m\u001B[37m\u001B[0m \u001B[1m0s\u001B[0m 3ms/step - accuracy: 0.9850 - loss: 0.0458 \n",
      "Epoch 172/200\n",
      "\u001B[1m4/4\u001B[0m \u001B[32m━━━━━━━━━━━━━━━━━━━━\u001B[0m\u001B[37m\u001B[0m \u001B[1m0s\u001B[0m 3ms/step - accuracy: 0.9850 - loss: 0.0462 \n",
      "Epoch 173/200\n",
      "\u001B[1m4/4\u001B[0m \u001B[32m━━━━━━━━━━━━━━━━━━━━\u001B[0m\u001B[37m\u001B[0m \u001B[1m0s\u001B[0m 4ms/step - accuracy: 0.9912 - loss: 0.0366 \n",
      "Epoch 174/200\n",
      "\u001B[1m4/4\u001B[0m \u001B[32m━━━━━━━━━━━━━━━━━━━━\u001B[0m\u001B[37m\u001B[0m \u001B[1m0s\u001B[0m 3ms/step - accuracy: 0.9850 - loss: 0.0405 \n",
      "Epoch 175/200\n",
      "\u001B[1m4/4\u001B[0m \u001B[32m━━━━━━━━━━━━━━━━━━━━\u001B[0m\u001B[37m\u001B[0m \u001B[1m0s\u001B[0m 4ms/step - accuracy: 0.9850 - loss: 0.0444 \n",
      "Epoch 176/200\n",
      "\u001B[1m4/4\u001B[0m \u001B[32m━━━━━━━━━━━━━━━━━━━━\u001B[0m\u001B[37m\u001B[0m \u001B[1m0s\u001B[0m 3ms/step - accuracy: 0.9943 - loss: 0.0382 \n",
      "Epoch 177/200\n",
      "\u001B[1m4/4\u001B[0m \u001B[32m━━━━━━━━━━━━━━━━━━━━\u001B[0m\u001B[37m\u001B[0m \u001B[1m0s\u001B[0m 4ms/step - accuracy: 0.9850 - loss: 0.0522 \n",
      "Epoch 178/200\n",
      "\u001B[1m4/4\u001B[0m \u001B[32m━━━━━━━━━━━━━━━━━━━━\u001B[0m\u001B[37m\u001B[0m \u001B[1m0s\u001B[0m 3ms/step - accuracy: 0.9762 - loss: 0.0426 \n",
      "Epoch 179/200\n",
      "\u001B[1m4/4\u001B[0m \u001B[32m━━━━━━━━━━━━━━━━━━━━\u001B[0m\u001B[37m\u001B[0m \u001B[1m0s\u001B[0m 3ms/step - accuracy: 0.9850 - loss: 0.0424 \n",
      "Epoch 180/200\n",
      "\u001B[1m4/4\u001B[0m \u001B[32m━━━━━━━━━━━━━━━━━━━━\u001B[0m\u001B[37m\u001B[0m \u001B[1m0s\u001B[0m 3ms/step - accuracy: 0.9943 - loss: 0.0371 \n",
      "Epoch 181/200\n",
      "\u001B[1m4/4\u001B[0m \u001B[32m━━━━━━━━━━━━━━━━━━━━\u001B[0m\u001B[37m\u001B[0m \u001B[1m0s\u001B[0m 3ms/step - accuracy: 0.9912 - loss: 0.0346 \n",
      "Epoch 182/200\n",
      "\u001B[1m4/4\u001B[0m \u001B[32m━━━━━━━━━━━━━━━━━━━━\u001B[0m\u001B[37m\u001B[0m \u001B[1m0s\u001B[0m 3ms/step - accuracy: 0.9850 - loss: 0.0438 \n",
      "Epoch 183/200\n",
      "\u001B[1m4/4\u001B[0m \u001B[32m━━━━━━━━━━━━━━━━━━━━\u001B[0m\u001B[37m\u001B[0m \u001B[1m0s\u001B[0m 3ms/step - accuracy: 0.9943 - loss: 0.0342 \n",
      "Epoch 184/200\n",
      "\u001B[1m4/4\u001B[0m \u001B[32m━━━━━━━━━━━━━━━━━━━━\u001B[0m\u001B[37m\u001B[0m \u001B[1m0s\u001B[0m 4ms/step - accuracy: 0.9964 - loss: 0.0296 \n",
      "Epoch 185/200\n",
      "\u001B[1m4/4\u001B[0m \u001B[32m━━━━━━━━━━━━━━━━━━━━\u001B[0m\u001B[37m\u001B[0m \u001B[1m0s\u001B[0m 3ms/step - accuracy: 0.9943 - loss: 0.0274 \n",
      "Epoch 186/200\n",
      "\u001B[1m4/4\u001B[0m \u001B[32m━━━━━━━━━━━━━━━━━━━━\u001B[0m\u001B[37m\u001B[0m \u001B[1m0s\u001B[0m 3ms/step - accuracy: 0.9964 - loss: 0.0414 \n",
      "Epoch 187/200\n",
      "\u001B[1m4/4\u001B[0m \u001B[32m━━━━━━━━━━━━━━━━━━━━\u001B[0m\u001B[37m\u001B[0m \u001B[1m0s\u001B[0m 3ms/step - accuracy: 0.9943 - loss: 0.0334 \n",
      "Epoch 188/200\n",
      "\u001B[1m4/4\u001B[0m \u001B[32m━━━━━━━━━━━━━━━━━━━━\u001B[0m\u001B[37m\u001B[0m \u001B[1m0s\u001B[0m 3ms/step - accuracy: 0.9850 - loss: 0.0434 \n",
      "Epoch 189/200\n",
      "\u001B[1m4/4\u001B[0m \u001B[32m━━━━━━━━━━━━━━━━━━━━\u001B[0m\u001B[37m\u001B[0m \u001B[1m0s\u001B[0m 3ms/step - accuracy: 0.9964 - loss: 0.0298 \n",
      "Epoch 190/200\n",
      "\u001B[1m4/4\u001B[0m \u001B[32m━━━━━━━━━━━━━━━━━━━━\u001B[0m\u001B[37m\u001B[0m \u001B[1m0s\u001B[0m 3ms/step - accuracy: 0.9912 - loss: 0.0383 \n",
      "Epoch 191/200\n",
      "\u001B[1m4/4\u001B[0m \u001B[32m━━━━━━━━━━━━━━━━━━━━\u001B[0m\u001B[37m\u001B[0m \u001B[1m0s\u001B[0m 3ms/step - accuracy: 0.9912 - loss: 0.0373 \n",
      "Epoch 192/200\n",
      "\u001B[1m4/4\u001B[0m \u001B[32m━━━━━━━━━━━━━━━━━━━━\u001B[0m\u001B[37m\u001B[0m \u001B[1m0s\u001B[0m 3ms/step - accuracy: 0.9850 - loss: 0.0422 \n",
      "Epoch 193/200\n",
      "\u001B[1m4/4\u001B[0m \u001B[32m━━━━━━━━━━━━━━━━━━━━\u001B[0m\u001B[37m\u001B[0m \u001B[1m0s\u001B[0m 3ms/step - accuracy: 0.9964 - loss: 0.0304 \n",
      "Epoch 194/200\n",
      "\u001B[1m4/4\u001B[0m \u001B[32m━━━━━━━━━━━━━━━━━━━━\u001B[0m\u001B[37m\u001B[0m \u001B[1m0s\u001B[0m 3ms/step - accuracy: 0.9964 - loss: 0.0322 \n",
      "Epoch 195/200\n",
      "\u001B[1m4/4\u001B[0m \u001B[32m━━━━━━━━━━━━━━━━━━━━\u001B[0m\u001B[37m\u001B[0m \u001B[1m0s\u001B[0m 3ms/step - accuracy: 0.9850 - loss: 0.0372 \n",
      "Epoch 196/200\n",
      "\u001B[1m4/4\u001B[0m \u001B[32m━━━━━━━━━━━━━━━━━━━━\u001B[0m\u001B[37m\u001B[0m \u001B[1m0s\u001B[0m 4ms/step - accuracy: 0.9850 - loss: 0.0449 \n",
      "Epoch 197/200\n",
      "\u001B[1m4/4\u001B[0m \u001B[32m━━━━━━━━━━━━━━━━━━━━\u001B[0m\u001B[37m\u001B[0m \u001B[1m0s\u001B[0m 3ms/step - accuracy: 0.9912 - loss: 0.0338 \n",
      "Epoch 198/200\n",
      "\u001B[1m4/4\u001B[0m \u001B[32m━━━━━━━━━━━━━━━━━━━━\u001B[0m\u001B[37m\u001B[0m \u001B[1m0s\u001B[0m 3ms/step - accuracy: 0.9912 - loss: 0.0324 \n",
      "Epoch 199/200\n",
      "\u001B[1m4/4\u001B[0m \u001B[32m━━━━━━━━━━━━━━━━━━━━\u001B[0m\u001B[37m\u001B[0m \u001B[1m0s\u001B[0m 3ms/step - accuracy: 0.9943 - loss: 0.0323 \n",
      "Epoch 200/200\n",
      "\u001B[1m4/4\u001B[0m \u001B[32m━━━━━━━━━━━━━━━━━━━━\u001B[0m\u001B[37m\u001B[0m \u001B[1m0s\u001B[0m 3ms/step - accuracy: 0.9850 - loss: 0.0418 \n"
     ]
    },
    {
     "data": {
      "text/plain": "<keras.src.callbacks.history.History at 0x1bcf21b5a60>"
     },
     "execution_count": 68,
     "metadata": {},
     "output_type": "execute_result"
    }
   ],
   "source": [
    "model3.fit(X_train, y_train, epochs=200)"
   ],
   "metadata": {
    "collapsed": false,
    "ExecuteTime": {
     "end_time": "2024-04-02T16:37:01.499292Z",
     "start_time": "2024-04-02T16:36:47.454398Z"
    }
   },
   "id": "c827428d01081ca",
   "execution_count": 68
  },
  {
   "cell_type": "code",
   "outputs": [
    {
     "name": "stdout",
     "output_type": "stream",
     "text": [
      "\u001B[1m2/2\u001B[0m \u001B[32m━━━━━━━━━━━━━━━━━━━━\u001B[0m\u001B[37m\u001B[0m \u001B[1m0s\u001B[0m 6ms/step - accuracy: 0.9720 - loss: 0.1133  \n",
      "Loss sul test set: 0.0862\n",
      "Accuracy sul test set: 0.9737\n"
     ]
    }
   ],
   "source": [
    "loss, acc = model3.evaluate(X_test, y_test)\n",
    "print(\"Loss sul test set: %.4f\" % loss)\n",
    "print(\"Accuracy sul test set: %.4f\" % acc)"
   ],
   "metadata": {
    "collapsed": false,
    "ExecuteTime": {
     "end_time": "2024-04-02T16:37:06.001860Z",
     "start_time": "2024-04-02T16:37:05.708938Z"
    }
   },
   "id": "a6b04aea2e4cedb0",
   "execution_count": 69
  },
  {
   "cell_type": "code",
   "outputs": [
    {
     "name": "stdout",
     "output_type": "stream",
     "text": [
      "\u001B[1m2/2\u001B[0m \u001B[32m━━━━━━━━━━━━━━━━━━━━\u001B[0m\u001B[37m\u001B[0m \u001B[1m0s\u001B[0m 63ms/step\n"
     ]
    },
    {
     "data": {
      "text/plain": "<Figure size 800x600 with 2 Axes>",
      "image/png": "[encoded data removed]"
     },
     "metadata": {},
     "output_type": "display_data"
    }
   ],
   "source": [
    "y_pred=model3.predict(X_test)\n",
    "y_pred_int = np.argmax(y_pred, axis=1)\n",
    "cm = confusion_matrix(y_test, y_pred_int)\n",
    "labels = ['Setosa', 'Versicolor', 'Virginica']\n",
    "plt.figure(figsize=(8, 6))\n",
    "sns.heatmap(cm, annot=True, fmt=\"d\", cmap=\"Blues\", xticklabels=labels, yticklabels=labels)\n",
    "plt.xlabel('Valori predetti')\n",
    "plt.ylabel('Valori reali')\n",
    "plt.title('Matrice di confusione')\n",
    "plt.show()"
   ],
   "metadata": {
    "collapsed": false,
    "ExecuteTime": {
     "end_time": "2024-04-02T16:37:11.295339Z",
     "start_time": "2024-04-02T16:37:10.424327Z"
    }
   },
   "id": "edaf3c433dad21ce",
   "execution_count": 70
  },
  {
   "cell_type": "markdown",
   "source": [
    "Il nostro modello ha dunque:\n",
    "* sbagliato a categorizzare una Versicolor come una Virginica;\n",
    "* Correttamente categorizzato il resto dei fiori."
   ],
   "metadata": {
    "collapsed": false
   },
   "id": "d92d7bf8338b978a"
  },
  {
   "cell_type": "code",
   "outputs": [],
   "source": [],
   "metadata": {
    "collapsed": false
   },
   "id": "d0fa98763f3174cb"
  }
 ],
 "metadata": {
  "kernelspec": {
   "display_name": "Python 3",
   "language": "python",
   "name": "python3"
  },
  "language_info": {
   "codemirror_mode": {
    "name": "ipython",
    "version": 2
   },
   "file_extension": ".py",
   "mimetype": "text/x-python",
   "name": "python",
   "nbconvert_exporter": "python",
   "pygments_lexer": "ipython2",
   "version": "2.7.6"
  }
 },
 "nbformat": 4,
 "nbformat_minor": 5
}
