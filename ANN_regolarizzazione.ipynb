{
  "nbformat": 4,
  "nbformat_minor": 0,
  "metadata": {
    "colab": {
      "provenance": [],
      "gpuType": "V28"
    },
    "kernelspec": {
      "name": "python3",
      "display_name": "Python 3"
    },
    "language_info": {
      "name": "python"
    },
    "accelerator": "TPU"
  },
  "cells": [
    {
      "cell_type": "code",
      "execution_count": 1,
      "metadata": {
        "id": "JJkQJLi2hipW"
      },
      "outputs": [],
      "source": [
        "import matplotlib.pyplot as plt\n",
        "import numpy as np\n",
        "from sklearn.model_selection import train_test_split\n",
        "from keras import optimizers\n",
        "from sklearn.datasets import fetch_openml\n",
        "from keras.utils import to_categorical\n",
        "from keras.models import Sequential\n",
        "from keras.layers import Dense\n",
        "from keras.datasets import fashion_mnist\n",
        "from keras.callbacks import History\n",
        "from keras.regularizers import l2\n",
        "from keras.regularizers import l1\n",
        "from keras.regularizers import l1_l2\n",
        "from keras.layers import Dropout\n",
        "import time\n",
        "import warnings\n",
        "warnings.filterwarnings(\"ignore\")"
      ]
    },
    {
      "cell_type": "code",
      "source": [
        "(X_train2,y_train2),(X_test2, y_test2) = fashion_mnist.load_data()"
      ],
      "metadata": {
        "colab": {
          "base_uri": "https://localhost:8080/"
        },
        "id": "LEYV_q3Yhrvf",
        "outputId": "af8f58e9-b3fe-4d3b-e509-c6ec7a9c4cd8"
      },
      "execution_count": 2,
      "outputs": [
        {
          "output_type": "stream",
          "name": "stdout",
          "text": [
            "Downloading data from https://storage.googleapis.com/tensorflow/tf-keras-datasets/train-labels-idx1-ubyte.gz\n",
            "29515/29515 [==============================] - 0s 0us/step\n",
            "Downloading data from https://storage.googleapis.com/tensorflow/tf-keras-datasets/train-images-idx3-ubyte.gz\n",
            "26421880/26421880 [==============================] - 0s 0us/step\n",
            "Downloading data from https://storage.googleapis.com/tensorflow/tf-keras-datasets/t10k-labels-idx1-ubyte.gz\n",
            "5148/5148 [==============================] - 0s 0us/step\n",
            "Downloading data from https://storage.googleapis.com/tensorflow/tf-keras-datasets/t10k-images-idx3-ubyte.gz\n",
            "4422102/4422102 [==============================] - 0s 0us/step\n"
          ]
        }
      ]
    },
    {
      "cell_type": "code",
      "source": [
        "X_train2 = X_train2.reshape(X_train2.shape[0], 28*28)\n",
        "X_test2 = X_test2.reshape(X_test2.shape[0], 28*28)\n",
        "X_train2 = X_train2/255\n",
        "X_test2 = X_test2/255"
      ],
      "metadata": {
        "id": "OpywJJTzhvxC"
      },
      "execution_count": 3,
      "outputs": []
    },
    {
      "cell_type": "code",
      "source": [
        "labels = [\"T-shirt/top\",\"Pantalone\",\"Pullover\",\"Vestito\",\"Cappotto\",\"Sandalo\",\"Maglietta\",\"Sneaker\",\"Borsa\",\"Stivaletto\"]\n",
        "\n",
        "y_train_dummy2 = to_categorical(y_train2, 10)\n",
        "y_test_dummy2 = to_categorical(y_test2, 10)"
      ],
      "metadata": {
        "id": "i5m5PZ_Gh2oZ"
      },
      "execution_count": 4,
      "outputs": []
    },
    {
      "cell_type": "markdown",
      "source": [
        "# Utilizzando la regolarizzazione L2"
      ],
      "metadata": {
        "id": "0YMV0EVFmWOz"
      }
    },
    {
      "cell_type": "code",
      "source": [
        "model = Sequential()\n",
        "model.add(Dense(512, activation='relu', input_dim=X_train2.shape[1], kernel_regularizer=l2(0.01)))\n",
        "model.add(Dense(256, activation='relu', kernel_regularizer=l2(0.01)))\n",
        "model.add(Dense(128, activation='relu'))\n",
        "model.add(Dense(10, activation='softmax'))\n",
        "adam = optimizers.Adam()\n",
        "model.compile(loss='categorical_crossentropy', optimizer=adam, metrics=['accuracy'])\n",
        "model.summary()"
      ],
      "metadata": {
        "colab": {
          "base_uri": "https://localhost:8080/"
        },
        "id": "iYw87uTBh7J3",
        "outputId": "a9a38c62-297a-4568-f88b-68bc436c9964"
      },
      "execution_count": 6,
      "outputs": [
        {
          "output_type": "stream",
          "name": "stdout",
          "text": [
            "Model: \"sequential_1\"\n",
            "_________________________________________________________________\n",
            " Layer (type)                Output Shape              Param #   \n",
            "=================================================================\n",
            " dense (Dense)               (None, 512)               401920    \n",
            "                                                                 \n",
            " dense_1 (Dense)             (None, 256)               131328    \n",
            "                                                                 \n",
            " dense_2 (Dense)             (None, 128)               32896     \n",
            "                                                                 \n",
            " dense_3 (Dense)             (None, 10)                1290      \n",
            "                                                                 \n",
            "=================================================================\n",
            "Total params: 567434 (2.16 MB)\n",
            "Trainable params: 567434 (2.16 MB)\n",
            "Non-trainable params: 0 (0.00 Byte)\n",
            "_________________________________________________________________\n"
          ]
        }
      ]
    },
    {
      "cell_type": "code",
      "source": [
        "model.fit(X_train2, y_train_dummy2, epochs=35, batch_size=512)"
      ],
      "metadata": {
        "colab": {
          "base_uri": "https://localhost:8080/"
        },
        "id": "Yf2HQF0GiAo4",
        "outputId": "82c191c9-c3fc-436a-8eaf-22f0890b34c7"
      },
      "execution_count": 8,
      "outputs": [
        {
          "output_type": "stream",
          "name": "stdout",
          "text": [
            "Epoch 1/35\n",
            "118/118 [==============================] - 4s 34ms/step - loss: 0.3997 - accuracy: 0.8831\n",
            "Epoch 2/35\n",
            "118/118 [==============================] - 5s 44ms/step - loss: 0.4002 - accuracy: 0.8820\n",
            "Epoch 3/35\n",
            "118/118 [==============================] - 4s 33ms/step - loss: 0.3991 - accuracy: 0.8820\n",
            "Epoch 4/35\n",
            "118/118 [==============================] - 4s 33ms/step - loss: 0.4015 - accuracy: 0.8825\n",
            "Epoch 5/35\n",
            "118/118 [==============================] - 5s 44ms/step - loss: 0.3952 - accuracy: 0.8848\n",
            "Epoch 6/35\n",
            "118/118 [==============================] - 4s 34ms/step - loss: 0.3879 - accuracy: 0.8851\n",
            "Epoch 7/35\n",
            "118/118 [==============================] - 4s 38ms/step - loss: 0.3915 - accuracy: 0.8844\n",
            "Epoch 8/35\n",
            "118/118 [==============================] - 5s 46ms/step - loss: 0.3870 - accuracy: 0.8865\n",
            "Epoch 9/35\n",
            "118/118 [==============================] - 4s 35ms/step - loss: 0.3845 - accuracy: 0.8869\n",
            "Epoch 10/35\n",
            "118/118 [==============================] - 4s 36ms/step - loss: 0.3831 - accuracy: 0.8875\n",
            "Epoch 11/35\n",
            "118/118 [==============================] - 5s 46ms/step - loss: 0.3854 - accuracy: 0.8868\n",
            "Epoch 12/35\n",
            "118/118 [==============================] - 4s 35ms/step - loss: 0.3768 - accuracy: 0.8909\n",
            "Epoch 13/35\n",
            "118/118 [==============================] - 4s 34ms/step - loss: 0.3708 - accuracy: 0.8907\n",
            "Epoch 14/35\n",
            "118/118 [==============================] - 5s 46ms/step - loss: 0.3764 - accuracy: 0.8874\n",
            "Epoch 15/35\n",
            "118/118 [==============================] - 4s 37ms/step - loss: 0.3777 - accuracy: 0.8880\n",
            "Epoch 16/35\n",
            "118/118 [==============================] - 4s 34ms/step - loss: 0.3776 - accuracy: 0.8877\n",
            "Epoch 17/35\n",
            "118/118 [==============================] - 5s 45ms/step - loss: 0.3735 - accuracy: 0.8895\n",
            "Epoch 18/35\n",
            "118/118 [==============================] - 4s 35ms/step - loss: 0.3755 - accuracy: 0.8869\n",
            "Epoch 19/35\n",
            "118/118 [==============================] - 4s 38ms/step - loss: 0.3750 - accuracy: 0.8881\n",
            "Epoch 20/35\n",
            "118/118 [==============================] - 7s 57ms/step - loss: 0.3708 - accuracy: 0.8903\n",
            "Epoch 21/35\n",
            "118/118 [==============================] - 5s 43ms/step - loss: 0.3714 - accuracy: 0.8898\n",
            "Epoch 22/35\n",
            "118/118 [==============================] - 5s 43ms/step - loss: 0.3692 - accuracy: 0.8887\n",
            "Epoch 23/35\n",
            "118/118 [==============================] - 5s 43ms/step - loss: 0.3695 - accuracy: 0.8899\n",
            "Epoch 24/35\n",
            "118/118 [==============================] - 4s 35ms/step - loss: 0.3673 - accuracy: 0.8908\n",
            "Epoch 25/35\n",
            "118/118 [==============================] - 5s 41ms/step - loss: 0.3694 - accuracy: 0.8898\n",
            "Epoch 26/35\n",
            "118/118 [==============================] - 5s 40ms/step - loss: 0.3702 - accuracy: 0.8893\n",
            "Epoch 27/35\n",
            "118/118 [==============================] - 4s 36ms/step - loss: 0.3695 - accuracy: 0.8892\n",
            "Epoch 28/35\n",
            "118/118 [==============================] - 6s 50ms/step - loss: 0.3657 - accuracy: 0.8898\n",
            "Epoch 29/35\n",
            "118/118 [==============================] - 4s 37ms/step - loss: 0.3605 - accuracy: 0.8933\n",
            "Epoch 30/35\n",
            "118/118 [==============================] - 4s 35ms/step - loss: 0.3660 - accuracy: 0.8902\n",
            "Epoch 31/35\n",
            "118/118 [==============================] - 5s 46ms/step - loss: 0.3649 - accuracy: 0.8908\n",
            "Epoch 32/35\n",
            "118/118 [==============================] - 4s 34ms/step - loss: 0.3678 - accuracy: 0.8881\n",
            "Epoch 33/35\n",
            "118/118 [==============================] - 4s 34ms/step - loss: 0.3685 - accuracy: 0.8896\n",
            "Epoch 34/35\n",
            "118/118 [==============================] - 5s 46ms/step - loss: 0.3623 - accuracy: 0.8919\n",
            "Epoch 35/35\n",
            "118/118 [==============================] - 4s 34ms/step - loss: 0.3603 - accuracy: 0.8926\n"
          ]
        },
        {
          "output_type": "execute_result",
          "data": {
            "text/plain": [
              "<keras.src.callbacks.History at 0x79752d356440>"
            ]
          },
          "metadata": {},
          "execution_count": 8
        }
      ]
    },
    {
      "cell_type": "code",
      "source": [
        "model.evaluate(X_test2, y_test_dummy2)"
      ],
      "metadata": {
        "colab": {
          "base_uri": "https://localhost:8080/"
        },
        "id": "kT60y4OIngA6",
        "outputId": "9ae667ba-ada2-4b3a-f7ed-ca92ddd202a9"
      },
      "execution_count": 9,
      "outputs": [
        {
          "output_type": "stream",
          "name": "stdout",
          "text": [
            "313/313 [==============================] - 2s 6ms/step - loss: 0.4323 - accuracy: 0.8660\n"
          ]
        },
        {
          "output_type": "execute_result",
          "data": {
            "text/plain": [
              "[0.43234506249427795, 0.8659999966621399]"
            ]
          },
          "metadata": {},
          "execution_count": 9
        }
      ]
    },
    {
      "cell_type": "markdown",
      "source": [
        "# Utilizzando la regolarizzazione L1"
      ],
      "metadata": {
        "id": "9pEYAiMqmbaC"
      }
    },
    {
      "cell_type": "code",
      "source": [
        "model = Sequential()\n",
        "model.add(Dense(512, activation='relu', input_dim=X_train2.shape[1], kernel_regularizer=l1(0.01)))\n",
        "model.add(Dense(256, activation='relu', kernel_regularizer=l1(0.01)))\n",
        "model.add(Dense(128, activation='relu'))\n",
        "model.add(Dense(10, activation='softmax'))\n",
        "adam = optimizers.Adam()\n",
        "model.compile(loss='categorical_crossentropy', optimizer=adam, metrics=['accuracy'])\n",
        "model.summary()"
      ],
      "metadata": {
        "colab": {
          "base_uri": "https://localhost:8080/"
        },
        "id": "DfkAQp1vmRog",
        "outputId": "dc265ced-965b-42e6-c533-e11af5bbf26f"
      },
      "execution_count": 10,
      "outputs": [
        {
          "output_type": "stream",
          "name": "stdout",
          "text": [
            "Model: \"sequential_2\"\n",
            "_________________________________________________________________\n",
            " Layer (type)                Output Shape              Param #   \n",
            "=================================================================\n",
            " dense_4 (Dense)             (None, 512)               401920    \n",
            "                                                                 \n",
            " dense_5 (Dense)             (None, 256)               131328    \n",
            "                                                                 \n",
            " dense_6 (Dense)             (None, 128)               32896     \n",
            "                                                                 \n",
            " dense_7 (Dense)             (None, 10)                1290      \n",
            "                                                                 \n",
            "=================================================================\n",
            "Total params: 567434 (2.16 MB)\n",
            "Trainable params: 567434 (2.16 MB)\n",
            "Non-trainable params: 0 (0.00 Byte)\n",
            "_________________________________________________________________\n"
          ]
        }
      ]
    },
    {
      "cell_type": "code",
      "source": [
        "model.fit(X_train2, y_train_dummy2, epochs=35, batch_size=512)"
      ],
      "metadata": {
        "colab": {
          "base_uri": "https://localhost:8080/"
        },
        "id": "O1KlshJsntGK",
        "outputId": "4b5ce228-ab0e-43cb-8341-02cf48ec2140"
      },
      "execution_count": 11,
      "outputs": [
        {
          "output_type": "stream",
          "name": "stdout",
          "text": [
            "Epoch 1/35\n",
            "118/118 [==============================] - 5s 34ms/step - loss: 45.7937 - accuracy: 0.5812\n",
            "Epoch 2/35\n",
            "118/118 [==============================] - 5s 45ms/step - loss: 1.8419 - accuracy: 0.6915\n",
            "Epoch 3/35\n",
            "118/118 [==============================] - 4s 34ms/step - loss: 1.6731 - accuracy: 0.7295\n",
            "Epoch 4/35\n",
            "118/118 [==============================] - 4s 34ms/step - loss: 1.5981 - accuracy: 0.7467\n",
            "Epoch 5/35\n",
            "118/118 [==============================] - 5s 44ms/step - loss: 1.5634 - accuracy: 0.7570\n",
            "Epoch 6/35\n",
            "118/118 [==============================] - 4s 34ms/step - loss: 1.5092 - accuracy: 0.7689\n",
            "Epoch 7/35\n",
            "118/118 [==============================] - 4s 34ms/step - loss: 1.4797 - accuracy: 0.7742\n",
            "Epoch 8/35\n",
            "118/118 [==============================] - 5s 45ms/step - loss: 1.4532 - accuracy: 0.7802\n",
            "Epoch 9/35\n",
            "118/118 [==============================] - 4s 34ms/step - loss: 1.4285 - accuracy: 0.7856\n",
            "Epoch 10/35\n",
            "118/118 [==============================] - 4s 34ms/step - loss: 1.4106 - accuracy: 0.7882\n",
            "Epoch 11/35\n",
            "118/118 [==============================] - 6s 49ms/step - loss: 1.4089 - accuracy: 0.7876\n",
            "Epoch 12/35\n",
            "118/118 [==============================] - 5s 46ms/step - loss: 1.3967 - accuracy: 0.7893\n",
            "Epoch 13/35\n",
            "118/118 [==============================] - 4s 37ms/step - loss: 1.3783 - accuracy: 0.7929\n",
            "Epoch 14/35\n",
            "118/118 [==============================] - 6s 48ms/step - loss: 1.3696 - accuracy: 0.7936\n",
            "Epoch 15/35\n",
            "118/118 [==============================] - 4s 34ms/step - loss: 1.3585 - accuracy: 0.7977\n",
            "Epoch 16/35\n",
            "118/118 [==============================] - 5s 39ms/step - loss: 1.3588 - accuracy: 0.7965\n",
            "Epoch 17/35\n",
            "118/118 [==============================] - 5s 42ms/step - loss: 1.3414 - accuracy: 0.8009\n",
            "Epoch 18/35\n",
            "118/118 [==============================] - 4s 35ms/step - loss: 1.3464 - accuracy: 0.7978\n",
            "Epoch 19/35\n",
            "118/118 [==============================] - 5s 39ms/step - loss: 1.3373 - accuracy: 0.7989\n",
            "Epoch 20/35\n",
            "118/118 [==============================] - 5s 40ms/step - loss: 1.3182 - accuracy: 0.8034\n",
            "Epoch 21/35\n",
            "118/118 [==============================] - 4s 35ms/step - loss: 1.3226 - accuracy: 0.8013\n",
            "Epoch 22/35\n",
            "118/118 [==============================] - 6s 54ms/step - loss: 1.3132 - accuracy: 0.8042\n",
            "Epoch 23/35\n",
            "118/118 [==============================] - 4s 37ms/step - loss: 1.3156 - accuracy: 0.8019\n",
            "Epoch 24/35\n",
            "118/118 [==============================] - 4s 34ms/step - loss: 1.3222 - accuracy: 0.8004\n",
            "Epoch 25/35\n",
            "118/118 [==============================] - 6s 50ms/step - loss: 1.2989 - accuracy: 0.8070\n",
            "Epoch 26/35\n",
            "118/118 [==============================] - 4s 34ms/step - loss: 1.3041 - accuracy: 0.8045\n",
            "Epoch 27/35\n",
            "118/118 [==============================] - 4s 34ms/step - loss: 1.2946 - accuracy: 0.8056\n",
            "Epoch 28/35\n",
            "118/118 [==============================] - 5s 45ms/step - loss: 1.2982 - accuracy: 0.8055\n",
            "Epoch 29/35\n",
            "118/118 [==============================] - 4s 35ms/step - loss: 1.2859 - accuracy: 0.8087\n",
            "Epoch 30/35\n",
            "118/118 [==============================] - 4s 34ms/step - loss: 1.2902 - accuracy: 0.8065\n",
            "Epoch 31/35\n",
            "118/118 [==============================] - 5s 45ms/step - loss: 1.2890 - accuracy: 0.8046\n",
            "Epoch 32/35\n",
            "118/118 [==============================] - 4s 34ms/step - loss: 1.2859 - accuracy: 0.8068\n",
            "Epoch 33/35\n",
            "118/118 [==============================] - 4s 34ms/step - loss: 1.2755 - accuracy: 0.8082\n",
            "Epoch 34/35\n",
            "118/118 [==============================] - 5s 46ms/step - loss: 1.2727 - accuracy: 0.8105\n",
            "Epoch 35/35\n",
            "118/118 [==============================] - 4s 34ms/step - loss: 1.2826 - accuracy: 0.8046\n"
          ]
        },
        {
          "output_type": "execute_result",
          "data": {
            "text/plain": [
              "<keras.src.callbacks.History at 0x797511a71e10>"
            ]
          },
          "metadata": {},
          "execution_count": 11
        }
      ]
    },
    {
      "cell_type": "code",
      "source": [
        "model.evaluate(X_test2, y_test_dummy2)"
      ],
      "metadata": {
        "colab": {
          "base_uri": "https://localhost:8080/"
        },
        "id": "oW3Vr8Xhnu3n",
        "outputId": "ce9fd745-7895-46b5-88c9-b16e6a23d28b"
      },
      "execution_count": 12,
      "outputs": [
        {
          "output_type": "stream",
          "name": "stdout",
          "text": [
            "313/313 [==============================] - 3s 7ms/step - loss: 1.3037 - accuracy: 0.8040\n"
          ]
        },
        {
          "output_type": "execute_result",
          "data": {
            "text/plain": [
              "[1.303669810295105, 0.8040000200271606]"
            ]
          },
          "metadata": {},
          "execution_count": 12
        }
      ]
    },
    {
      "cell_type": "markdown",
      "source": [
        "Decisamente peggiore dei risultati con regolarizzazione L2, in media è sempre la più performante dei due (la L2)"
      ],
      "metadata": {
        "id": "60S5H5sTov8Z"
      }
    },
    {
      "cell_type": "markdown",
      "source": [
        "# Regolarizzazione L1 + L2\n"
      ],
      "metadata": {
        "id": "IbqeVefgo8Iq"
      }
    },
    {
      "cell_type": "code",
      "source": [
        "model = Sequential()\n",
        "model.add(Dense(512, activation='relu', input_dim=X_train2.shape[1], kernel_regularizer=l1_l2(l1=0.0001, l2=0.001)))\n",
        "model.add(Dense(256, activation='relu', kernel_regularizer=l1_l2(l1=0.0001, l2=0.001)))\n",
        "model.add(Dense(128, activation='relu'))\n",
        "model.add(Dense(10, activation='softmax'))\n",
        "adam = optimizers.Adam()\n",
        "model.compile(loss='categorical_crossentropy', optimizer=adam, metrics=['accuracy'])\n",
        "model.summary()"
      ],
      "metadata": {
        "colab": {
          "base_uri": "https://localhost:8080/"
        },
        "id": "lEfTeDPsoq6e",
        "outputId": "b41b11b5-8fc3-45fd-e501-62ba9a77a164"
      },
      "execution_count": 13,
      "outputs": [
        {
          "output_type": "stream",
          "name": "stdout",
          "text": [
            "Model: \"sequential_3\"\n",
            "_________________________________________________________________\n",
            " Layer (type)                Output Shape              Param #   \n",
            "=================================================================\n",
            " dense_8 (Dense)             (None, 512)               401920    \n",
            "                                                                 \n",
            " dense_9 (Dense)             (None, 256)               131328    \n",
            "                                                                 \n",
            " dense_10 (Dense)            (None, 128)               32896     \n",
            "                                                                 \n",
            " dense_11 (Dense)            (None, 10)                1290      \n",
            "                                                                 \n",
            "=================================================================\n",
            "Total params: 567434 (2.16 MB)\n",
            "Trainable params: 567434 (2.16 MB)\n",
            "Non-trainable params: 0 (0.00 Byte)\n",
            "_________________________________________________________________\n"
          ]
        }
      ]
    },
    {
      "cell_type": "code",
      "source": [
        "model.fit(X_train2, y_train_dummy2, epochs=35, batch_size=512)"
      ],
      "metadata": {
        "colab": {
          "base_uri": "https://localhost:8080/"
        },
        "id": "ErqD61hNpMz0",
        "outputId": "e33445f1-e44e-4da9-82d6-c92ec31a2b83"
      },
      "execution_count": 14,
      "outputs": [
        {
          "output_type": "stream",
          "name": "stdout",
          "text": [
            "Epoch 1/35\n",
            "118/118 [==============================] - 6s 39ms/step - loss: 2.3941 - accuracy: 0.7877\n",
            "Epoch 2/35\n",
            "118/118 [==============================] - 5s 40ms/step - loss: 1.3524 - accuracy: 0.8471\n",
            "Epoch 3/35\n",
            "118/118 [==============================] - 5s 43ms/step - loss: 1.0400 - accuracy: 0.8495\n",
            "Epoch 4/35\n",
            "118/118 [==============================] - 5s 42ms/step - loss: 0.8449 - accuracy: 0.8585\n",
            "Epoch 5/35\n",
            "118/118 [==============================] - 6s 50ms/step - loss: 0.7306 - accuracy: 0.8623\n",
            "Epoch 6/35\n",
            "118/118 [==============================] - 4s 35ms/step - loss: 0.6473 - accuracy: 0.8668\n",
            "Epoch 7/35\n",
            "118/118 [==============================] - 4s 35ms/step - loss: 0.6003 - accuracy: 0.8668\n",
            "Epoch 8/35\n",
            "118/118 [==============================] - 5s 46ms/step - loss: 0.5555 - accuracy: 0.8715\n",
            "Epoch 9/35\n",
            "118/118 [==============================] - 4s 36ms/step - loss: 0.5173 - accuracy: 0.8755\n",
            "Epoch 10/35\n",
            "118/118 [==============================] - 4s 36ms/step - loss: 0.4920 - accuracy: 0.8785\n",
            "Epoch 11/35\n",
            "118/118 [==============================] - 5s 46ms/step - loss: 0.4730 - accuracy: 0.8798\n",
            "Epoch 12/35\n",
            "118/118 [==============================] - 4s 36ms/step - loss: 0.4602 - accuracy: 0.8816\n",
            "Epoch 13/35\n",
            "118/118 [==============================] - 4s 36ms/step - loss: 0.4421 - accuracy: 0.8835\n",
            "Epoch 14/35\n",
            "118/118 [==============================] - 5s 46ms/step - loss: 0.4364 - accuracy: 0.8824\n",
            "Epoch 15/35\n",
            "118/118 [==============================] - 4s 36ms/step - loss: 0.4187 - accuracy: 0.8861\n",
            "Epoch 16/35\n",
            "118/118 [==============================] - 4s 37ms/step - loss: 0.4092 - accuracy: 0.8880\n",
            "Epoch 17/35\n",
            "118/118 [==============================] - 5s 44ms/step - loss: 0.4023 - accuracy: 0.8904\n",
            "Epoch 18/35\n",
            "118/118 [==============================] - 5s 40ms/step - loss: 0.4013 - accuracy: 0.8893\n",
            "Epoch 19/35\n",
            "118/118 [==============================] - 5s 42ms/step - loss: 0.3909 - accuracy: 0.8931\n",
            "Epoch 20/35\n",
            "118/118 [==============================] - 5s 39ms/step - loss: 0.3887 - accuracy: 0.8919\n",
            "Epoch 21/35\n",
            "118/118 [==============================] - 4s 35ms/step - loss: 0.3854 - accuracy: 0.8931\n",
            "Epoch 22/35\n",
            "118/118 [==============================] - 5s 46ms/step - loss: 0.3838 - accuracy: 0.8939\n",
            "Epoch 23/35\n",
            "118/118 [==============================] - 4s 36ms/step - loss: 0.3801 - accuracy: 0.8945\n",
            "Epoch 24/35\n",
            "118/118 [==============================] - 4s 35ms/step - loss: 0.3687 - accuracy: 0.8983\n",
            "Epoch 25/35\n",
            "118/118 [==============================] - 5s 47ms/step - loss: 0.3670 - accuracy: 0.8975\n",
            "Epoch 26/35\n",
            "118/118 [==============================] - 4s 35ms/step - loss: 0.3724 - accuracy: 0.8962\n",
            "Epoch 27/35\n",
            "118/118 [==============================] - 4s 36ms/step - loss: 0.3675 - accuracy: 0.8993\n",
            "Epoch 28/35\n",
            "118/118 [==============================] - 6s 47ms/step - loss: 0.3608 - accuracy: 0.8989\n",
            "Epoch 29/35\n",
            "118/118 [==============================] - 4s 36ms/step - loss: 0.3635 - accuracy: 0.8989\n",
            "Epoch 30/35\n",
            "118/118 [==============================] - 4s 36ms/step - loss: 0.3537 - accuracy: 0.9022\n",
            "Epoch 31/35\n",
            "118/118 [==============================] - 5s 46ms/step - loss: 0.3526 - accuracy: 0.9013\n",
            "Epoch 32/35\n",
            "118/118 [==============================] - 4s 36ms/step - loss: 0.3466 - accuracy: 0.9022\n",
            "Epoch 33/35\n",
            "118/118 [==============================] - 4s 35ms/step - loss: 0.3564 - accuracy: 0.9010\n",
            "Epoch 34/35\n",
            "118/118 [==============================] - 5s 46ms/step - loss: 0.3541 - accuracy: 0.9015\n",
            "Epoch 35/35\n",
            "118/118 [==============================] - 4s 35ms/step - loss: 0.3515 - accuracy: 0.9028\n"
          ]
        },
        {
          "output_type": "execute_result",
          "data": {
            "text/plain": [
              "<keras.src.callbacks.History at 0x797509647670>"
            ]
          },
          "metadata": {},
          "execution_count": 14
        }
      ]
    },
    {
      "cell_type": "code",
      "source": [
        "model.evaluate(X_test2, y_test_dummy2)"
      ],
      "metadata": {
        "colab": {
          "base_uri": "https://localhost:8080/"
        },
        "id": "a8EL9S4HpR7P",
        "outputId": "84251067-de13-4667-80da-0f0a7195b3b5"
      },
      "execution_count": 15,
      "outputs": [
        {
          "output_type": "stream",
          "name": "stdout",
          "text": [
            "313/313 [==============================] - 3s 8ms/step - loss: 0.4643 - accuracy: 0.8620\n"
          ]
        },
        {
          "output_type": "execute_result",
          "data": {
            "text/plain": [
              "[0.46427011489868164, 0.8619999885559082]"
            ]
          },
          "metadata": {},
          "execution_count": 15
        }
      ]
    },
    {
      "cell_type": "markdown",
      "source": [
        "Insieme alla L2 è la migliore\n"
      ],
      "metadata": {
        "id": "oQlMWnwHqH_I"
      }
    },
    {
      "cell_type": "markdown",
      "source": [
        "# Dropout"
      ],
      "metadata": {
        "id": "Nc9gPbIwEY5v"
      }
    },
    {
      "cell_type": "markdown",
      "source": [
        "Utilizziamo un ulteriore tecnica di regolarizzazione che è il dropout."
      ],
      "metadata": {
        "id": "c4k0tgmEEcyW"
      }
    },
    {
      "cell_type": "code",
      "source": [
        "model = Sequential()\n",
        "model.add(Dense(512, activation='relu', input_dim=X_train2.shape[1]))\n",
        "model.add(Dropout(0.5))\n",
        "model.add(Dense(256, activation='relu'))\n",
        "model.add(Dropout(0.5))\n",
        "model.add(Dense(128, activation='relu'))\n",
        "model.add(Dense(10, activation='softmax'))\n",
        "adam = optimizers.Adam()\n",
        "model.compile(loss='categorical_crossentropy', optimizer=adam, metrics=['accuracy'])\n",
        "model.summary()"
      ],
      "metadata": {
        "colab": {
          "base_uri": "https://localhost:8080/"
        },
        "id": "lW--sHPvEmTn",
        "outputId": "b1caf19c-9419-4379-9b69-0cb856c6bc92"
      },
      "execution_count": 23,
      "outputs": [
        {
          "output_type": "stream",
          "name": "stdout",
          "text": [
            "Model: \"sequential_7\"\n",
            "_________________________________________________________________\n",
            " Layer (type)                Output Shape              Param #   \n",
            "=================================================================\n",
            " dense_36 (Dense)            (None, 512)               401920    \n",
            "                                                                 \n",
            " dropout_24 (Dropout)        (None, 512)               0         \n",
            "                                                                 \n",
            " dense_37 (Dense)            (None, 256)               131328    \n",
            "                                                                 \n",
            " dropout_25 (Dropout)        (None, 256)               0         \n",
            "                                                                 \n",
            " dense_38 (Dense)            (None, 128)               32896     \n",
            "                                                                 \n",
            " dense_39 (Dense)            (None, 10)                1290      \n",
            "                                                                 \n",
            "=================================================================\n",
            "Total params: 567434 (2.16 MB)\n",
            "Trainable params: 567434 (2.16 MB)\n",
            "Non-trainable params: 0 (0.00 Byte)\n",
            "_________________________________________________________________\n"
          ]
        }
      ]
    },
    {
      "cell_type": "code",
      "source": [
        "model.fit(X_train2, y_train_dummy2, epochs=35, batch_size=512)"
      ],
      "metadata": {
        "colab": {
          "base_uri": "https://localhost:8080/"
        },
        "id": "90mqTmqOFJlT",
        "outputId": "514e753f-3989-46f8-b63b-e4cbbae4f4f5"
      },
      "execution_count": 24,
      "outputs": [
        {
          "output_type": "stream",
          "name": "stdout",
          "text": [
            "Epoch 1/35\n",
            "118/118 [==============================] - 2s 10ms/step - loss: 0.7732 - accuracy: 0.7173\n",
            "Epoch 2/35\n",
            "118/118 [==============================] - 1s 10ms/step - loss: 0.4899 - accuracy: 0.8233\n",
            "Epoch 3/35\n",
            "118/118 [==============================] - 1s 10ms/step - loss: 0.4394 - accuracy: 0.8418\n",
            "Epoch 4/35\n",
            "118/118 [==============================] - 1s 10ms/step - loss: 0.4126 - accuracy: 0.8508\n",
            "Epoch 5/35\n",
            "118/118 [==============================] - 1s 10ms/step - loss: 0.3949 - accuracy: 0.8575\n",
            "Epoch 6/35\n",
            "118/118 [==============================] - 1s 10ms/step - loss: 0.3773 - accuracy: 0.8623\n",
            "Epoch 7/35\n",
            "118/118 [==============================] - 1s 10ms/step - loss: 0.3707 - accuracy: 0.8666\n",
            "Epoch 8/35\n",
            "118/118 [==============================] - 1s 10ms/step - loss: 0.3597 - accuracy: 0.8692\n",
            "Epoch 9/35\n",
            "118/118 [==============================] - 1s 10ms/step - loss: 0.3509 - accuracy: 0.8710\n",
            "Epoch 10/35\n",
            "118/118 [==============================] - 1s 10ms/step - loss: 0.3479 - accuracy: 0.8727\n",
            "Epoch 11/35\n",
            "118/118 [==============================] - 1s 10ms/step - loss: 0.3416 - accuracy: 0.8734\n",
            "Epoch 12/35\n",
            "118/118 [==============================] - 1s 10ms/step - loss: 0.3344 - accuracy: 0.8768\n",
            "Epoch 13/35\n",
            "118/118 [==============================] - 1s 10ms/step - loss: 0.3280 - accuracy: 0.8804\n",
            "Epoch 14/35\n",
            "118/118 [==============================] - 1s 10ms/step - loss: 0.3262 - accuracy: 0.8796\n",
            "Epoch 15/35\n",
            "118/118 [==============================] - 1s 10ms/step - loss: 0.3186 - accuracy: 0.8829\n",
            "Epoch 16/35\n",
            "118/118 [==============================] - 1s 10ms/step - loss: 0.3158 - accuracy: 0.8828\n",
            "Epoch 17/35\n",
            "118/118 [==============================] - 1s 10ms/step - loss: 0.3111 - accuracy: 0.8854\n",
            "Epoch 18/35\n",
            "118/118 [==============================] - 1s 10ms/step - loss: 0.3103 - accuracy: 0.8858\n",
            "Epoch 19/35\n",
            "118/118 [==============================] - 1s 10ms/step - loss: 0.3054 - accuracy: 0.8860\n",
            "Epoch 20/35\n",
            "118/118 [==============================] - 1s 10ms/step - loss: 0.3054 - accuracy: 0.8868\n",
            "Epoch 21/35\n",
            "118/118 [==============================] - 1s 10ms/step - loss: 0.2986 - accuracy: 0.8891\n",
            "Epoch 22/35\n",
            "118/118 [==============================] - 1s 10ms/step - loss: 0.2949 - accuracy: 0.8902\n",
            "Epoch 23/35\n",
            "118/118 [==============================] - 1s 10ms/step - loss: 0.2915 - accuracy: 0.8914\n",
            "Epoch 24/35\n",
            "118/118 [==============================] - 1s 10ms/step - loss: 0.2911 - accuracy: 0.8928\n",
            "Epoch 25/35\n",
            "118/118 [==============================] - 1s 10ms/step - loss: 0.2865 - accuracy: 0.8948\n",
            "Epoch 26/35\n",
            "118/118 [==============================] - 1s 10ms/step - loss: 0.2849 - accuracy: 0.8931\n",
            "Epoch 27/35\n",
            "118/118 [==============================] - 1s 10ms/step - loss: 0.2847 - accuracy: 0.8942\n",
            "Epoch 28/35\n",
            "118/118 [==============================] - 1s 10ms/step - loss: 0.2851 - accuracy: 0.8931\n",
            "Epoch 29/35\n",
            "118/118 [==============================] - 1s 10ms/step - loss: 0.2772 - accuracy: 0.8960\n",
            "Epoch 30/35\n",
            "118/118 [==============================] - 1s 10ms/step - loss: 0.2785 - accuracy: 0.8952\n",
            "Epoch 31/35\n",
            "118/118 [==============================] - 1s 9ms/step - loss: 0.2741 - accuracy: 0.8974\n",
            "Epoch 32/35\n",
            "118/118 [==============================] - 1s 10ms/step - loss: 0.2739 - accuracy: 0.8985\n",
            "Epoch 33/35\n",
            "118/118 [==============================] - 1s 10ms/step - loss: 0.2682 - accuracy: 0.8992\n",
            "Epoch 34/35\n",
            "118/118 [==============================] - 1s 10ms/step - loss: 0.2677 - accuracy: 0.8997\n",
            "Epoch 35/35\n",
            "118/118 [==============================] - 1s 9ms/step - loss: 0.2686 - accuracy: 0.8981\n"
          ]
        },
        {
          "output_type": "execute_result",
          "data": {
            "text/plain": [
              "<keras.src.callbacks.History at 0x7f9438737490>"
            ]
          },
          "metadata": {},
          "execution_count": 24
        }
      ]
    },
    {
      "cell_type": "code",
      "source": [
        "model.evaluate(X_test2, y_test_dummy2)"
      ],
      "metadata": {
        "colab": {
          "base_uri": "https://localhost:8080/"
        },
        "id": "KVyU-DmEFUzh",
        "outputId": "46cda5e3-76fd-4ee7-81dc-00507b7d5236"
      },
      "execution_count": 25,
      "outputs": [
        {
          "output_type": "stream",
          "name": "stdout",
          "text": [
            "313/313 [==============================] - 1s 2ms/step - loss: 0.3106 - accuracy: 0.8882\n"
          ]
        },
        {
          "output_type": "execute_result",
          "data": {
            "text/plain": [
              "[0.3106207251548767, 0.8881999850273132]"
            ]
          },
          "metadata": {},
          "execution_count": 25
        }
      ]
    },
    {
      "cell_type": "markdown",
      "source": [
        "Grazie al dropout le prestazioni sono notevolmente più alte e l'overfitting quasi ridotto al minimo"
      ],
      "metadata": {
        "id": "7edORdEkGfjr"
      }
    },
    {
      "cell_type": "markdown",
      "source": [
        "# Vero testing della rete neurale sui capi di abbigliamento"
      ],
      "metadata": {
        "id": "cmXlrr3uqp37"
      }
    },
    {
      "cell_type": "markdown",
      "source": [
        "Adesso che abbiamo eliminato l'overfitting dalla nostra rete (o meglio, lo abbiamo limitato), proviamo a metterla all'opera cercando di identificare capi di abbigliamento, scarpe e accessori da immagini pescate in giro per il web, con la nostra rete neurale allenata sul fashion_MNIST. Per caricare un'immagine da un url remoto possiamo utilizzare il modulo skimage."
      ],
      "metadata": {
        "id": "v2LH1kBDqxF0"
      }
    },
    {
      "cell_type": "code",
      "source": [
        "from skimage import io\n",
        "\n",
        "url = \"https://images.boardriders.com/global/element-products/all/default/large/elbzt00193_element,f_ecn_frt1.jpg\"\n",
        "image = io.imread(url)   # Legge e carica l'immagine all'interno della variabile image\n",
        "\n",
        "plt.imshow(image)\n",
        "plt.axis(\"off\")"
      ],
      "metadata": {
        "colab": {
          "base_uri": "https://localhost:8080/",
          "height": 423
        },
        "id": "KmC9hK7TqEzp",
        "outputId": "deec673f-da8a-4f92-dfad-2c6073e62e27"
      },
      "execution_count": 17,
      "outputs": [
        {
          "output_type": "execute_result",
          "data": {
            "text/plain": [
              "(-0.5, 413.5, 516.5, -0.5)"
            ]
          },
          "metadata": {},
          "execution_count": 17
        },
        {
          "output_type": "display_data",
          "data": {
            "text/plain": [
              "<Figure size 640x480 with 1 Axes>"
            ],
            "image/png": "[encoded data removed]"
          },
          "metadata": {}
        }
      ]
    },
    {
      "cell_type": "markdown",
      "source": [
        "Prima di passare l'immagine alla rete neurale bisogna applicare le stesse trasformazioni (a quella appena caricata) applicate ai dati del fashion_MNIST utilizzate per allenare il modello"
      ],
      "metadata": {
        "id": "TPdQvshwsL5V"
      }
    },
    {
      "cell_type": "code",
      "source": [
        "from skimage.transform import resize\n",
        "from skimage.color import rgb2gray\n",
        "\n",
        "image_res = resize(image, (28,28))\n",
        "image_gray = rgb2gray(image_res)\n",
        "\n",
        "#Codifichiamo ora la matrice dell'immagine all'interno di un singolo vettore\n",
        "x = image_gray.reshape(1,28*28)\n",
        "plt.imshow(x.reshape(28,28), cmap = \"gray\")\n",
        "plt.axis(\"off\")"
      ],
      "metadata": {
        "colab": {
          "base_uri": "https://localhost:8080/",
          "height": 423
        },
        "id": "7AEgR1wosALt",
        "outputId": "52089790-a931-423d-ef69-b2bc860bf7f5"
      },
      "execution_count": 23,
      "outputs": [
        {
          "output_type": "execute_result",
          "data": {
            "text/plain": [
              "(-0.5, 27.5, 27.5, -0.5)"
            ]
          },
          "metadata": {},
          "execution_count": 23
        },
        {
          "output_type": "display_data",
          "data": {
            "text/plain": [
              "<Figure size 640x480 with 1 Axes>"
            ],
            "image/png": "[encoded data removed]"
          },
          "metadata": {}
        }
      ]
    },
    {
      "cell_type": "markdown",
      "source": [
        "Notiamo però una cosa"
      ],
      "metadata": {
        "id": "xG0m63fMuTXC"
      }
    },
    {
      "cell_type": "code",
      "source": [
        "plt.imshow(X_test2[0].reshape(28,28), cmap = \"gray\")\n",
        "plt.axis(\"off\")"
      ],
      "metadata": {
        "colab": {
          "base_uri": "https://localhost:8080/",
          "height": 423
        },
        "id": "awtfooHrtMmq",
        "outputId": "ea1e4ef3-bb1a-466b-9dbd-ada3fd923f04"
      },
      "execution_count": 24,
      "outputs": [
        {
          "output_type": "execute_result",
          "data": {
            "text/plain": [
              "(-0.5, 27.5, 27.5, -0.5)"
            ]
          },
          "metadata": {},
          "execution_count": 24
        },
        {
          "output_type": "display_data",
          "data": {
            "text/plain": [
              "<Figure size 640x480 with 1 Axes>"
            ],
            "image/png": "[encoded data removed]"
          },
          "metadata": {}
        }
      ]
    },
    {
      "cell_type": "markdown",
      "source": [
        "Lo sfondo delle immagini del fashion_MNIST è nero, mentre quello della nostra immagine è bianco. Essendo che la nostra rete si è allenata su un dataset con immagini con sfondo nero, caricando quella si confonderebbe. Dobbiamo allora invertire i colori"
      ],
      "metadata": {
        "id": "6RrupWBAucbK"
      }
    },
    {
      "cell_type": "code",
      "source": [
        "# Basta fare un operazione semplicissima:\n",
        "x = 1. - x\n",
        "plt.imshow(x.reshape(28,28), cmap = \"gray\")\n",
        "plt.axis(\"off\")"
      ],
      "metadata": {
        "colab": {
          "base_uri": "https://localhost:8080/",
          "height": 423
        },
        "id": "B0yohAZtua5N",
        "outputId": "be48b118-4586-45f2-fe75-0b2f3482ff26"
      },
      "execution_count": 25,
      "outputs": [
        {
          "output_type": "execute_result",
          "data": {
            "text/plain": [
              "(-0.5, 27.5, 27.5, -0.5)"
            ]
          },
          "metadata": {},
          "execution_count": 25
        },
        {
          "output_type": "display_data",
          "data": {
            "text/plain": [
              "<Figure size 640x480 with 1 Axes>"
            ],
            "image/png": "[encoded data removed]"
          },
          "metadata": {}
        }
      ]
    },
    {
      "cell_type": "code",
      "source": [
        "predictions = np.argmax(model.predict(x), axis=-1)\n",
        "predictions"
      ],
      "metadata": {
        "colab": {
          "base_uri": "https://localhost:8080/"
        },
        "id": "6IW127mmvSVu",
        "outputId": "a7d2829a-ebdc-4b2f-d816-1914933d54aa"
      },
      "execution_count": 51,
      "outputs": [
        {
          "output_type": "stream",
          "name": "stdout",
          "text": [
            "1/1 [==============================] - 0s 40ms/step\n"
          ]
        },
        {
          "output_type": "execute_result",
          "data": {
            "text/plain": [
              "array([0])"
            ]
          },
          "metadata": {},
          "execution_count": 51
        }
      ]
    },
    {
      "cell_type": "markdown",
      "source": [
        "Predizione giusta, ha indovinato che è una maglietta"
      ],
      "metadata": {
        "id": "gJ1BomZgy2as"
      }
    },
    {
      "cell_type": "code",
      "source": [
        "url2 = \"https://www.jamesross.it/images/products/997700.jpg\"\n",
        "image2 = io.imread(url2)   # Legge e carica l'immagine all'interno della variabile image\n",
        "\n",
        "plt.imshow(image2)\n",
        "plt.axis(\"off\")"
      ],
      "metadata": {
        "colab": {
          "base_uri": "https://localhost:8080/",
          "height": 423
        },
        "id": "nLRkGtynvYjk",
        "outputId": "a2b25849-2cb5-4ba7-a421-c87c8d961e63"
      },
      "execution_count": 58,
      "outputs": [
        {
          "output_type": "execute_result",
          "data": {
            "text/plain": [
              "(-0.5, 3149.5, 3497.5, -0.5)"
            ]
          },
          "metadata": {},
          "execution_count": 58
        },
        {
          "output_type": "display_data",
          "data": {
            "text/plain": [
              "<Figure size 640x480 with 1 Axes>"
            ],
            "image/png": "[encoded data removed]"
          },
          "metadata": {}
        }
      ]
    },
    {
      "cell_type": "code",
      "source": [
        "image_res2 = resize(image2, (28,28))\n",
        "image_gray2 = rgb2gray(image_res2)\n",
        "\n",
        "#Codifichiamo ora la matrice dell'immagine all'interno di un singolo vettore\n",
        "x2 = image_gray2.reshape(1,28*28)\n",
        "\n",
        "x2 = 1. - x2\n",
        "plt.imshow(x2.reshape(28,28), cmap = \"gray\")\n",
        "plt.axis(\"off\")"
      ],
      "metadata": {
        "colab": {
          "base_uri": "https://localhost:8080/",
          "height": 423
        },
        "id": "rwLwECZhzkOQ",
        "outputId": "b31bfdd2-6e48-43ef-b755-ec687754d180"
      },
      "execution_count": 59,
      "outputs": [
        {
          "output_type": "execute_result",
          "data": {
            "text/plain": [
              "(-0.5, 27.5, 27.5, -0.5)"
            ]
          },
          "metadata": {},
          "execution_count": 59
        },
        {
          "output_type": "display_data",
          "data": {
            "text/plain": [
              "<Figure size 640x480 with 1 Axes>"
            ],
            "image/png": "[encoded data removed]"
          },
          "metadata": {}
        }
      ]
    },
    {
      "cell_type": "code",
      "source": [
        "predictions2 = np.argmax(model.predict(x2), axis=-1)\n",
        "predictions2"
      ],
      "metadata": {
        "colab": {
          "base_uri": "https://localhost:8080/"
        },
        "id": "lS0Vy0OAzxei",
        "outputId": "3ff9b4c8-5733-4e26-d46b-c957df6edde1"
      },
      "execution_count": 64,
      "outputs": [
        {
          "output_type": "stream",
          "name": "stdout",
          "text": [
            "1/1 [==============================] - 0s 54ms/step\n"
          ]
        },
        {
          "output_type": "execute_result",
          "data": {
            "text/plain": [
              "array([1])"
            ]
          },
          "metadata": {},
          "execution_count": 64
        }
      ]
    },
    {
      "cell_type": "markdown",
      "source": [
        "Anche questo catalogato correttamente"
      ],
      "metadata": {
        "id": "GTfes9F90oXw"
      }
    }
  ]
}